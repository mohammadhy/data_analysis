{
 "cells": [
  {
   "cell_type": "code",
   "execution_count": 1,
   "metadata": {
    "_cell_guid": "b1076dfc-b9ad-4769-8c92-a6c4dae69d19",
    "_uuid": "8f2839f25d086af736a60e9eeb907d3b93b6e0e5",
    "execution": {
     "iopub.execute_input": "2021-02-11T08:09:58.939068Z",
     "iopub.status.busy": "2021-02-11T08:09:58.938442Z",
     "iopub.status.idle": "2021-02-11T08:10:00.901279Z",
     "shell.execute_reply": "2021-02-11T08:10:00.900586Z"
    },
    "papermill": {
     "duration": 2.004331,
     "end_time": "2021-02-11T08:10:00.901498",
     "exception": false,
     "start_time": "2021-02-11T08:09:58.897167",
     "status": "completed"
    },
    "tags": []
   },
   "outputs": [],
   "source": [
    "import numpy as np\n",
    "import pandas as pd\n",
    "from scipy.stats import norm, kstest\n",
    "import statsmodels.api as sm\n",
    "import seaborn as sns\n",
    "import matplotlib.pyplot as plt"
   ]
  },
  {
   "cell_type": "markdown",
   "metadata": {
    "papermill": {
     "duration": 0.034187,
     "end_time": "2021-02-11T08:10:00.972365",
     "exception": false,
     "start_time": "2021-02-11T08:10:00.938178",
     "status": "completed"
    },
    "tags": []
   },
   "source": [
    "## WHO Dataset :\n",
    "### Describtion:\n"
   ]
  },
  {
   "cell_type": "markdown",
   "metadata": {
    "papermill": {
     "duration": 0.034473,
     "end_time": "2021-02-11T08:10:01.042248",
     "exception": false,
     "start_time": "2021-02-11T08:10:01.007775",
     "status": "completed"
    },
    "tags": []
   },
   "source": [
    "### *1) id: unique identifier*\n",
    "\n",
    "### *2) gender: \"Male\", \"Female\" or \"Other\"*\n",
    "\n",
    "### *3) age: age of the patient**\n",
    "\n",
    "### *4) hypertension: 0 if the patient doesn't have hypertension, 1 if the patient has hypertension*\n",
    "\n",
    "### *5) heart_disease: 0 if the patient doesn't have any heart diseases, 1 if the patient has a heart disease*\n",
    "\n",
    "### *6) ever_married: \"No\" or \"Yes\"*\n",
    "\n",
    "### *7) work_type: \"children\", \"Govt_jov\", \"Never_worked\", \"Private\" or \"Self-employed\"*\n",
    "\n",
    "### *8) Residence_type: \"Rural\" or \"Urban\"*\n",
    "\n",
    "### *9) avg_glucose_level: average glucose level in blood*\n",
    "\n",
    "### *10) bmi: body mass index*\n",
    "\n",
    "### *11) smoking_status: \"formerly smoked\", \"never smoked\", \"smokes\" or \"Unknown\"**\n",
    "\n",
    "### *12) stroke: 1 if the patient had a stroke or 0 if not*\n",
    "\n",
    "*Note: \"Unknown\" in smoking_status means that the information is unavailable for this patient*\n"
   ]
  },
  {
   "cell_type": "code",
   "execution_count": 2,
   "metadata": {
    "execution": {
     "iopub.execute_input": "2021-02-11T08:10:01.116933Z",
     "iopub.status.busy": "2021-02-11T08:10:01.116213Z",
     "iopub.status.idle": "2021-02-11T08:10:01.159788Z",
     "shell.execute_reply": "2021-02-11T08:10:01.159183Z"
    },
    "papermill": {
     "duration": 0.08327,
     "end_time": "2021-02-11T08:10:01.159939",
     "exception": false,
     "start_time": "2021-02-11T08:10:01.076669",
     "status": "completed"
    },
    "tags": []
   },
   "outputs": [],
   "source": [
    "data = pd.read_csv('../input/stroke-prediction-dataset/healthcare-dataset-stroke-data.csv')"
   ]
  },
  {
   "cell_type": "code",
   "execution_count": 3,
   "metadata": {
    "execution": {
     "iopub.execute_input": "2021-02-11T08:10:01.249955Z",
     "iopub.status.busy": "2021-02-11T08:10:01.249147Z",
     "iopub.status.idle": "2021-02-11T08:10:01.276377Z",
     "shell.execute_reply": "2021-02-11T08:10:01.275857Z"
    },
    "papermill": {
     "duration": 0.081663,
     "end_time": "2021-02-11T08:10:01.276529",
     "exception": false,
     "start_time": "2021-02-11T08:10:01.194866",
     "status": "completed"
    },
    "tags": []
   },
   "outputs": [
    {
     "data": {
      "text/html": [
       "<div>\n",
       "<style scoped>\n",
       "    .dataframe tbody tr th:only-of-type {\n",
       "        vertical-align: middle;\n",
       "    }\n",
       "\n",
       "    .dataframe tbody tr th {\n",
       "        vertical-align: top;\n",
       "    }\n",
       "\n",
       "    .dataframe thead th {\n",
       "        text-align: right;\n",
       "    }\n",
       "</style>\n",
       "<table border=\"1\" class=\"dataframe\">\n",
       "  <thead>\n",
       "    <tr style=\"text-align: right;\">\n",
       "      <th></th>\n",
       "      <th>id</th>\n",
       "      <th>gender</th>\n",
       "      <th>age</th>\n",
       "      <th>hypertension</th>\n",
       "      <th>heart_disease</th>\n",
       "      <th>ever_married</th>\n",
       "      <th>work_type</th>\n",
       "      <th>Residence_type</th>\n",
       "      <th>avg_glucose_level</th>\n",
       "      <th>bmi</th>\n",
       "      <th>smoking_status</th>\n",
       "      <th>stroke</th>\n",
       "    </tr>\n",
       "  </thead>\n",
       "  <tbody>\n",
       "    <tr>\n",
       "      <th>0</th>\n",
       "      <td>9046</td>\n",
       "      <td>Male</td>\n",
       "      <td>67.0</td>\n",
       "      <td>0</td>\n",
       "      <td>1</td>\n",
       "      <td>Yes</td>\n",
       "      <td>Private</td>\n",
       "      <td>Urban</td>\n",
       "      <td>228.69</td>\n",
       "      <td>36.6</td>\n",
       "      <td>formerly smoked</td>\n",
       "      <td>1</td>\n",
       "    </tr>\n",
       "    <tr>\n",
       "      <th>1</th>\n",
       "      <td>51676</td>\n",
       "      <td>Female</td>\n",
       "      <td>61.0</td>\n",
       "      <td>0</td>\n",
       "      <td>0</td>\n",
       "      <td>Yes</td>\n",
       "      <td>Self-employed</td>\n",
       "      <td>Rural</td>\n",
       "      <td>202.21</td>\n",
       "      <td>NaN</td>\n",
       "      <td>never smoked</td>\n",
       "      <td>1</td>\n",
       "    </tr>\n",
       "    <tr>\n",
       "      <th>2</th>\n",
       "      <td>31112</td>\n",
       "      <td>Male</td>\n",
       "      <td>80.0</td>\n",
       "      <td>0</td>\n",
       "      <td>1</td>\n",
       "      <td>Yes</td>\n",
       "      <td>Private</td>\n",
       "      <td>Rural</td>\n",
       "      <td>105.92</td>\n",
       "      <td>32.5</td>\n",
       "      <td>never smoked</td>\n",
       "      <td>1</td>\n",
       "    </tr>\n",
       "    <tr>\n",
       "      <th>3</th>\n",
       "      <td>60182</td>\n",
       "      <td>Female</td>\n",
       "      <td>49.0</td>\n",
       "      <td>0</td>\n",
       "      <td>0</td>\n",
       "      <td>Yes</td>\n",
       "      <td>Private</td>\n",
       "      <td>Urban</td>\n",
       "      <td>171.23</td>\n",
       "      <td>34.4</td>\n",
       "      <td>smokes</td>\n",
       "      <td>1</td>\n",
       "    </tr>\n",
       "    <tr>\n",
       "      <th>4</th>\n",
       "      <td>1665</td>\n",
       "      <td>Female</td>\n",
       "      <td>79.0</td>\n",
       "      <td>1</td>\n",
       "      <td>0</td>\n",
       "      <td>Yes</td>\n",
       "      <td>Self-employed</td>\n",
       "      <td>Rural</td>\n",
       "      <td>174.12</td>\n",
       "      <td>24.0</td>\n",
       "      <td>never smoked</td>\n",
       "      <td>1</td>\n",
       "    </tr>\n",
       "    <tr>\n",
       "      <th>...</th>\n",
       "      <td>...</td>\n",
       "      <td>...</td>\n",
       "      <td>...</td>\n",
       "      <td>...</td>\n",
       "      <td>...</td>\n",
       "      <td>...</td>\n",
       "      <td>...</td>\n",
       "      <td>...</td>\n",
       "      <td>...</td>\n",
       "      <td>...</td>\n",
       "      <td>...</td>\n",
       "      <td>...</td>\n",
       "    </tr>\n",
       "    <tr>\n",
       "      <th>5105</th>\n",
       "      <td>18234</td>\n",
       "      <td>Female</td>\n",
       "      <td>80.0</td>\n",
       "      <td>1</td>\n",
       "      <td>0</td>\n",
       "      <td>Yes</td>\n",
       "      <td>Private</td>\n",
       "      <td>Urban</td>\n",
       "      <td>83.75</td>\n",
       "      <td>NaN</td>\n",
       "      <td>never smoked</td>\n",
       "      <td>0</td>\n",
       "    </tr>\n",
       "    <tr>\n",
       "      <th>5106</th>\n",
       "      <td>44873</td>\n",
       "      <td>Female</td>\n",
       "      <td>81.0</td>\n",
       "      <td>0</td>\n",
       "      <td>0</td>\n",
       "      <td>Yes</td>\n",
       "      <td>Self-employed</td>\n",
       "      <td>Urban</td>\n",
       "      <td>125.20</td>\n",
       "      <td>40.0</td>\n",
       "      <td>never smoked</td>\n",
       "      <td>0</td>\n",
       "    </tr>\n",
       "    <tr>\n",
       "      <th>5107</th>\n",
       "      <td>19723</td>\n",
       "      <td>Female</td>\n",
       "      <td>35.0</td>\n",
       "      <td>0</td>\n",
       "      <td>0</td>\n",
       "      <td>Yes</td>\n",
       "      <td>Self-employed</td>\n",
       "      <td>Rural</td>\n",
       "      <td>82.99</td>\n",
       "      <td>30.6</td>\n",
       "      <td>never smoked</td>\n",
       "      <td>0</td>\n",
       "    </tr>\n",
       "    <tr>\n",
       "      <th>5108</th>\n",
       "      <td>37544</td>\n",
       "      <td>Male</td>\n",
       "      <td>51.0</td>\n",
       "      <td>0</td>\n",
       "      <td>0</td>\n",
       "      <td>Yes</td>\n",
       "      <td>Private</td>\n",
       "      <td>Rural</td>\n",
       "      <td>166.29</td>\n",
       "      <td>25.6</td>\n",
       "      <td>formerly smoked</td>\n",
       "      <td>0</td>\n",
       "    </tr>\n",
       "    <tr>\n",
       "      <th>5109</th>\n",
       "      <td>44679</td>\n",
       "      <td>Female</td>\n",
       "      <td>44.0</td>\n",
       "      <td>0</td>\n",
       "      <td>0</td>\n",
       "      <td>Yes</td>\n",
       "      <td>Govt_job</td>\n",
       "      <td>Urban</td>\n",
       "      <td>85.28</td>\n",
       "      <td>26.2</td>\n",
       "      <td>Unknown</td>\n",
       "      <td>0</td>\n",
       "    </tr>\n",
       "  </tbody>\n",
       "</table>\n",
       "<p>5110 rows × 12 columns</p>\n",
       "</div>"
      ],
      "text/plain": [
       "         id  gender   age  hypertension  heart_disease ever_married  \\\n",
       "0      9046    Male  67.0             0              1          Yes   \n",
       "1     51676  Female  61.0             0              0          Yes   \n",
       "2     31112    Male  80.0             0              1          Yes   \n",
       "3     60182  Female  49.0             0              0          Yes   \n",
       "4      1665  Female  79.0             1              0          Yes   \n",
       "...     ...     ...   ...           ...            ...          ...   \n",
       "5105  18234  Female  80.0             1              0          Yes   \n",
       "5106  44873  Female  81.0             0              0          Yes   \n",
       "5107  19723  Female  35.0             0              0          Yes   \n",
       "5108  37544    Male  51.0             0              0          Yes   \n",
       "5109  44679  Female  44.0             0              0          Yes   \n",
       "\n",
       "          work_type Residence_type  avg_glucose_level   bmi   smoking_status  \\\n",
       "0           Private          Urban             228.69  36.6  formerly smoked   \n",
       "1     Self-employed          Rural             202.21   NaN     never smoked   \n",
       "2           Private          Rural             105.92  32.5     never smoked   \n",
       "3           Private          Urban             171.23  34.4           smokes   \n",
       "4     Self-employed          Rural             174.12  24.0     never smoked   \n",
       "...             ...            ...                ...   ...              ...   \n",
       "5105        Private          Urban              83.75   NaN     never smoked   \n",
       "5106  Self-employed          Urban             125.20  40.0     never smoked   \n",
       "5107  Self-employed          Rural              82.99  30.6     never smoked   \n",
       "5108        Private          Rural             166.29  25.6  formerly smoked   \n",
       "5109       Govt_job          Urban              85.28  26.2          Unknown   \n",
       "\n",
       "      stroke  \n",
       "0          1  \n",
       "1          1  \n",
       "2          1  \n",
       "3          1  \n",
       "4          1  \n",
       "...      ...  \n",
       "5105       0  \n",
       "5106       0  \n",
       "5107       0  \n",
       "5108       0  \n",
       "5109       0  \n",
       "\n",
       "[5110 rows x 12 columns]"
      ]
     },
     "execution_count": 3,
     "metadata": {},
     "output_type": "execute_result"
    }
   ],
   "source": [
    "data"
   ]
  },
  {
   "cell_type": "markdown",
   "metadata": {
    "papermill": {
     "duration": 0.035089,
     "end_time": "2021-02-11T08:10:01.347137",
     "exception": false,
     "start_time": "2021-02-11T08:10:01.312048",
     "status": "completed"
    },
    "tags": []
   },
   "source": [
    "## Let's Check Null Value :\n",
    "### Only Bmi Has Null Value"
   ]
  },
  {
   "cell_type": "code",
   "execution_count": 4,
   "metadata": {
    "execution": {
     "iopub.execute_input": "2021-02-11T08:10:01.437531Z",
     "iopub.status.busy": "2021-02-11T08:10:01.425255Z",
     "iopub.status.idle": "2021-02-11T08:10:01.441963Z",
     "shell.execute_reply": "2021-02-11T08:10:01.441439Z"
    },
    "papermill": {
     "duration": 0.059317,
     "end_time": "2021-02-11T08:10:01.442094",
     "exception": false,
     "start_time": "2021-02-11T08:10:01.382777",
     "status": "completed"
    },
    "tags": []
   },
   "outputs": [
    {
     "name": "stdout",
     "output_type": "stream",
     "text": [
      "<class 'pandas.core.frame.DataFrame'>\n",
      "RangeIndex: 5110 entries, 0 to 5109\n",
      "Data columns (total 12 columns):\n",
      " #   Column             Non-Null Count  Dtype  \n",
      "---  ------             --------------  -----  \n",
      " 0   id                 5110 non-null   int64  \n",
      " 1   gender             5110 non-null   object \n",
      " 2   age                5110 non-null   float64\n",
      " 3   hypertension       5110 non-null   int64  \n",
      " 4   heart_disease      5110 non-null   int64  \n",
      " 5   ever_married       5110 non-null   object \n",
      " 6   work_type          5110 non-null   object \n",
      " 7   Residence_type     5110 non-null   object \n",
      " 8   avg_glucose_level  5110 non-null   float64\n",
      " 9   bmi                4909 non-null   float64\n",
      " 10  smoking_status     5110 non-null   object \n",
      " 11  stroke             5110 non-null   int64  \n",
      "dtypes: float64(3), int64(4), object(5)\n",
      "memory usage: 479.2+ KB\n"
     ]
    }
   ],
   "source": [
    "data.info()"
   ]
  },
  {
   "cell_type": "code",
   "execution_count": 5,
   "metadata": {
    "execution": {
     "iopub.execute_input": "2021-02-11T08:10:01.522352Z",
     "iopub.status.busy": "2021-02-11T08:10:01.521636Z",
     "iopub.status.idle": "2021-02-11T08:10:01.525251Z",
     "shell.execute_reply": "2021-02-11T08:10:01.524812Z"
    },
    "papermill": {
     "duration": 0.045449,
     "end_time": "2021-02-11T08:10:01.525412",
     "exception": false,
     "start_time": "2021-02-11T08:10:01.479963",
     "status": "completed"
    },
    "tags": []
   },
   "outputs": [],
   "source": [
    "data['bmi'] = data['bmi'].fillna(data['bmi'].mean())"
   ]
  },
  {
   "cell_type": "code",
   "execution_count": 6,
   "metadata": {
    "execution": {
     "iopub.execute_input": "2021-02-11T08:10:01.606144Z",
     "iopub.status.busy": "2021-02-11T08:10:01.605424Z",
     "iopub.status.idle": "2021-02-11T08:10:01.830348Z",
     "shell.execute_reply": "2021-02-11T08:10:01.829770Z"
    },
    "papermill": {
     "duration": 0.26705,
     "end_time": "2021-02-11T08:10:01.830486",
     "exception": false,
     "start_time": "2021-02-11T08:10:01.563436",
     "status": "completed"
    },
    "tags": []
   },
   "outputs": [
    {
     "data": {
      "text/plain": [
       "<AxesSubplot:>"
      ]
     },
     "execution_count": 6,
     "metadata": {},
     "output_type": "execute_result"
    },
    {
     "data": {
      "image/png": "[encoded data removed]",
      "text/plain": [
       "<Figure size 432x288 with 1 Axes>"
      ]
     },
     "metadata": {
      "needs_background": "light"
     },
     "output_type": "display_data"
    }
   ],
   "source": [
    "data.isnull().sum().plot(kind='bar')"
   ]
  },
  {
   "cell_type": "code",
   "execution_count": 7,
   "metadata": {
    "execution": {
     "iopub.execute_input": "2021-02-11T08:10:01.910384Z",
     "iopub.status.busy": "2021-02-11T08:10:01.909262Z",
     "iopub.status.idle": "2021-02-11T08:10:01.915529Z",
     "shell.execute_reply": "2021-02-11T08:10:01.915025Z"
    },
    "papermill": {
     "duration": 0.048073,
     "end_time": "2021-02-11T08:10:01.915663",
     "exception": false,
     "start_time": "2021-02-11T08:10:01.867590",
     "status": "completed"
    },
    "tags": []
   },
   "outputs": [
    {
     "data": {
      "text/plain": [
       "0"
      ]
     },
     "execution_count": 7,
     "metadata": {},
     "output_type": "execute_result"
    }
   ],
   "source": [
    "data['id'].duplicated().sum()"
   ]
  },
  {
   "cell_type": "code",
   "execution_count": 8,
   "metadata": {
    "execution": {
     "iopub.execute_input": "2021-02-11T08:10:01.995617Z",
     "iopub.status.busy": "2021-02-11T08:10:01.994992Z",
     "iopub.status.idle": "2021-02-11T08:10:02.348487Z",
     "shell.execute_reply": "2021-02-11T08:10:02.347880Z"
    },
    "papermill": {
     "duration": 0.395276,
     "end_time": "2021-02-11T08:10:02.348623",
     "exception": false,
     "start_time": "2021-02-11T08:10:01.953347",
     "status": "completed"
    },
    "tags": []
   },
   "outputs": [
    {
     "name": "stderr",
     "output_type": "stream",
     "text": [
      "/opt/conda/lib/python3.7/site-packages/seaborn/distributions.py:2557: FutureWarning: `distplot` is a deprecated function and will be removed in a future version. Please adapt your code to use either `displot` (a figure-level function with similar flexibility) or `histplot` (an axes-level function for histograms).\n",
      "  warnings.warn(msg, FutureWarning)\n"
     ]
    },
    {
     "data": {
      "image/png": "[encoded data removed]",
      "text/plain": [
       "<Figure size 432x288 with 1 Axes>"
      ]
     },
     "metadata": {
      "needs_background": "light"
     },
     "output_type": "display_data"
    }
   ],
   "source": [
    "sns.distplot(data['age'], bins=100);"
   ]
  },
  {
   "cell_type": "code",
   "execution_count": 9,
   "metadata": {
    "execution": {
     "iopub.execute_input": "2021-02-11T08:10:02.443505Z",
     "iopub.status.busy": "2021-02-11T08:10:02.442656Z",
     "iopub.status.idle": "2021-02-11T08:10:02.682051Z",
     "shell.execute_reply": "2021-02-11T08:10:02.682543Z"
    },
    "papermill": {
     "duration": 0.295624,
     "end_time": "2021-02-11T08:10:02.682767",
     "exception": false,
     "start_time": "2021-02-11T08:10:02.387143",
     "status": "completed"
    },
    "tags": []
   },
   "outputs": [
    {
     "name": "stderr",
     "output_type": "stream",
     "text": [
      "/opt/conda/lib/python3.7/site-packages/seaborn/distributions.py:2557: FutureWarning: `distplot` is a deprecated function and will be removed in a future version. Please adapt your code to use either `displot` (a figure-level function with similar flexibility) or `histplot` (an axes-level function for histograms).\n",
      "  warnings.warn(msg, FutureWarning)\n"
     ]
    },
    {
     "data": {
      "image/png": "[encoded data removed]",
      "text/plain": [
       "<Figure size 432x288 with 1 Axes>"
      ]
     },
     "metadata": {
      "needs_background": "light"
     },
     "output_type": "display_data"
    }
   ],
   "source": [
    "# Bernoli Distribution \n",
    "sns.distplot(data['stroke']);"
   ]
  },
  {
   "cell_type": "code",
   "execution_count": 10,
   "metadata": {
    "execution": {
     "iopub.execute_input": "2021-02-11T08:10:02.795497Z",
     "iopub.status.busy": "2021-02-11T08:10:02.794468Z",
     "iopub.status.idle": "2021-02-11T08:10:03.099151Z",
     "shell.execute_reply": "2021-02-11T08:10:03.098544Z"
    },
    "papermill": {
     "duration": 0.368101,
     "end_time": "2021-02-11T08:10:03.099316",
     "exception": false,
     "start_time": "2021-02-11T08:10:02.731215",
     "status": "completed"
    },
    "tags": []
   },
   "outputs": [
    {
     "name": "stderr",
     "output_type": "stream",
     "text": [
      "/opt/conda/lib/python3.7/site-packages/seaborn/distributions.py:2557: FutureWarning: `distplot` is a deprecated function and will be removed in a future version. Please adapt your code to use either `displot` (a figure-level function with similar flexibility) or `histplot` (an axes-level function for histograms).\n",
      "  warnings.warn(msg, FutureWarning)\n"
     ]
    },
    {
     "data": {
      "image/png": "[encoded data removed]",
      "text/plain": [
       "<Figure size 432x288 with 1 Axes>"
      ]
     },
     "metadata": {
      "needs_background": "light"
     },
     "output_type": "display_data"
    }
   ],
   "source": [
    "# is it normal or not ?\n",
    "## let's check it \n",
    "sns.distplot(data['avg_glucose_level'], bins=100);"
   ]
  },
  {
   "cell_type": "code",
   "execution_count": 11,
   "metadata": {
    "execution": {
     "iopub.execute_input": "2021-02-11T08:10:03.186761Z",
     "iopub.status.busy": "2021-02-11T08:10:03.186047Z",
     "iopub.status.idle": "2021-02-11T08:10:03.188799Z",
     "shell.execute_reply": "2021-02-11T08:10:03.189192Z"
    },
    "papermill": {
     "duration": 0.049432,
     "end_time": "2021-02-11T08:10:03.189381",
     "exception": false,
     "start_time": "2021-02-11T08:10:03.139949",
     "status": "completed"
    },
    "tags": []
   },
   "outputs": [],
   "source": [
    "def kl(p, q):\n",
    "    res = np.sum(np.where(np.logical_and( p!=0 ,q!=0), p * np.log(p / q), 0))\n",
    "    return res"
   ]
  },
  {
   "cell_type": "code",
   "execution_count": 12,
   "metadata": {
    "execution": {
     "iopub.execute_input": "2021-02-11T08:10:03.276778Z",
     "iopub.status.busy": "2021-02-11T08:10:03.276131Z",
     "iopub.status.idle": "2021-02-11T08:10:03.279067Z",
     "shell.execute_reply": "2021-02-11T08:10:03.278588Z"
    },
    "papermill": {
     "duration": 0.049114,
     "end_time": "2021-02-11T08:10:03.279195",
     "exception": false,
     "start_time": "2021-02-11T08:10:03.230081",
     "status": "completed"
    },
    "tags": []
   },
   "outputs": [],
   "source": [
    "count, devision = np.histogram(data['avg_glucose_level'], bins=100)"
   ]
  },
  {
   "cell_type": "code",
   "execution_count": 13,
   "metadata": {
    "execution": {
     "iopub.execute_input": "2021-02-11T08:10:03.366199Z",
     "iopub.status.busy": "2021-02-11T08:10:03.365511Z",
     "iopub.status.idle": "2021-02-11T08:10:03.370181Z",
     "shell.execute_reply": "2021-02-11T08:10:03.369624Z"
    },
    "papermill": {
     "duration": 0.050426,
     "end_time": "2021-02-11T08:10:03.370342",
     "exception": false,
     "start_time": "2021-02-11T08:10:03.319916",
     "status": "completed"
    },
    "tags": []
   },
   "outputs": [],
   "source": [
    "ideal = norm.rvs(size=len(data['avg_glucose_level']), loc = data['avg_glucose_level'].mean(), scale =  data['avg_glucose_level'].std())\n",
    "icount, idevision = np.histogram(ideal, bins=100)"
   ]
  },
  {
   "cell_type": "code",
   "execution_count": 14,
   "metadata": {
    "execution": {
     "iopub.execute_input": "2021-02-11T08:10:03.457151Z",
     "iopub.status.busy": "2021-02-11T08:10:03.456290Z",
     "iopub.status.idle": "2021-02-11T08:10:03.461174Z",
     "shell.execute_reply": "2021-02-11T08:10:03.461842Z"
    },
    "papermill": {
     "duration": 0.051331,
     "end_time": "2021-02-11T08:10:03.462084",
     "exception": false,
     "start_time": "2021-02-11T08:10:03.410753",
     "status": "completed"
    },
    "tags": []
   },
   "outputs": [
    {
     "name": "stderr",
     "output_type": "stream",
     "text": [
      "/opt/conda/lib/python3.7/site-packages/ipykernel_launcher.py:2: RuntimeWarning: divide by zero encountered in true_divide\n",
      "  \n"
     ]
    },
    {
     "data": {
      "text/plain": [
       "1.8323575091403408"
      ]
     },
     "execution_count": 14,
     "metadata": {},
     "output_type": "execute_result"
    }
   ],
   "source": [
    "kl(count/5110, icount/5110)"
   ]
  },
  {
   "cell_type": "code",
   "execution_count": 15,
   "metadata": {
    "execution": {
     "iopub.execute_input": "2021-02-11T08:10:03.552382Z",
     "iopub.status.busy": "2021-02-11T08:10:03.551740Z",
     "iopub.status.idle": "2021-02-11T08:10:03.781592Z",
     "shell.execute_reply": "2021-02-11T08:10:03.780930Z"
    },
    "papermill": {
     "duration": 0.276997,
     "end_time": "2021-02-11T08:10:03.781745",
     "exception": false,
     "start_time": "2021-02-11T08:10:03.504748",
     "status": "completed"
    },
    "tags": []
   },
   "outputs": [
    {
     "data": {
      "text/plain": [
       "[<matplotlib.lines.Line2D at 0x7f7711108b50>]"
      ]
     },
     "execution_count": 15,
     "metadata": {},
     "output_type": "execute_result"
    },
    {
     "data": {
      "image/png": "[encoded data removed]",
      "text/plain": [
       "<Figure size 432x288 with 1 Axes>"
      ]
     },
     "metadata": {
      "needs_background": "light"
     },
     "output_type": "display_data"
    }
   ],
   "source": [
    "plt.plot(np.cumsum(data['avg_glucose_level'].sort_values().reset_index(drop=True)))\n",
    "plt.plot(np.cumsum(ideal), color='red')"
   ]
  },
  {
   "cell_type": "code",
   "execution_count": 16,
   "metadata": {
    "execution": {
     "iopub.execute_input": "2021-02-11T08:10:03.874972Z",
     "iopub.status.busy": "2021-02-11T08:10:03.874344Z",
     "iopub.status.idle": "2021-02-11T08:10:04.136726Z",
     "shell.execute_reply": "2021-02-11T08:10:04.136129Z"
    },
    "papermill": {
     "duration": 0.310759,
     "end_time": "2021-02-11T08:10:04.136860",
     "exception": false,
     "start_time": "2021-02-11T08:10:03.826101",
     "status": "completed"
    },
    "tags": []
   },
   "outputs": [
    {
     "data": {
      "text/plain": [
       "<AxesSubplot:ylabel='Frequency'>"
      ]
     },
     "execution_count": 16,
     "metadata": {},
     "output_type": "execute_result"
    },
    {
     "data": {
      "image/png": "[encoded data removed]",
      "text/plain": [
       "<Figure size 432x288 with 1 Axes>"
      ]
     },
     "metadata": {
      "needs_background": "light"
     },
     "output_type": "display_data"
    }
   ],
   "source": [
    "data['bmi'].plot(kind='hist', bins=100)"
   ]
  },
  {
   "cell_type": "code",
   "execution_count": 17,
   "metadata": {
    "execution": {
     "iopub.execute_input": "2021-02-11T08:10:04.232088Z",
     "iopub.status.busy": "2021-02-11T08:10:04.231391Z",
     "iopub.status.idle": "2021-02-11T08:10:04.235498Z",
     "shell.execute_reply": "2021-02-11T08:10:04.234817Z"
    },
    "papermill": {
     "duration": 0.054421,
     "end_time": "2021-02-11T08:10:04.235645",
     "exception": false,
     "start_time": "2021-02-11T08:10:04.181224",
     "status": "completed"
    },
    "tags": []
   },
   "outputs": [],
   "source": [
    "ideal = norm.rvs(size=len(data['bmi']), loc = data['bmi'].mean(), scale =  data['bmi'].std())"
   ]
  },
  {
   "cell_type": "code",
   "execution_count": 18,
   "metadata": {
    "execution": {
     "iopub.execute_input": "2021-02-11T08:10:04.345824Z",
     "iopub.status.busy": "2021-02-11T08:10:04.345152Z",
     "iopub.status.idle": "2021-02-11T08:10:04.723087Z",
     "shell.execute_reply": "2021-02-11T08:10:04.722377Z"
    },
    "papermill": {
     "duration": 0.443179,
     "end_time": "2021-02-11T08:10:04.723229",
     "exception": false,
     "start_time": "2021-02-11T08:10:04.280050",
     "status": "completed"
    },
    "tags": []
   },
   "outputs": [
    {
     "data": {
      "text/plain": [
       "(array([  1.,   3.,   2.,   7.,  24.,  31.,  63.,  70., 100., 110., 109.,\n",
       "        143., 165., 166., 171., 238., 238., 214., 238., 282., 255., 458.,\n",
       "        205., 197., 204., 166., 154., 150., 113., 108.,  93.,  89.,  68.,\n",
       "         61.,  59.,  53.,  46.,  37.,  40.,  29.,  21.,  12.,  12.,  10.,\n",
       "         12.,  13.,   6.,   5.,   8.,   6.,  10.,   4.,   8.,   5.,   4.,\n",
       "          0.,   1.,   3.,   2.,   0.,   1.,   1.,   1.,   0.,   1.,   0.,\n",
       "          0.,   0.,   0.,   0.,   1.,   0.,   0.,   0.,   0.,   0.,   0.,\n",
       "          1.,   0.,   0.,   0.,   0.,   0.,   0.,   0.,   0.,   0.,   0.,\n",
       "          0.,   0.,   0.,   0.,   0.,   1.,   0.,   0.,   0.,   0.,   0.,\n",
       "          1.]),\n",
       " array([10.3  , 11.173, 12.046, 12.919, 13.792, 14.665, 15.538, 16.411,\n",
       "        17.284, 18.157, 19.03 , 19.903, 20.776, 21.649, 22.522, 23.395,\n",
       "        24.268, 25.141, 26.014, 26.887, 27.76 , 28.633, 29.506, 30.379,\n",
       "        31.252, 32.125, 32.998, 33.871, 34.744, 35.617, 36.49 , 37.363,\n",
       "        38.236, 39.109, 39.982, 40.855, 41.728, 42.601, 43.474, 44.347,\n",
       "        45.22 , 46.093, 46.966, 47.839, 48.712, 49.585, 50.458, 51.331,\n",
       "        52.204, 53.077, 53.95 , 54.823, 55.696, 56.569, 57.442, 58.315,\n",
       "        59.188, 60.061, 60.934, 61.807, 62.68 , 63.553, 64.426, 65.299,\n",
       "        66.172, 67.045, 67.918, 68.791, 69.664, 70.537, 71.41 , 72.283,\n",
       "        73.156, 74.029, 74.902, 75.775, 76.648, 77.521, 78.394, 79.267,\n",
       "        80.14 , 81.013, 81.886, 82.759, 83.632, 84.505, 85.378, 86.251,\n",
       "        87.124, 87.997, 88.87 , 89.743, 90.616, 91.489, 92.362, 93.235,\n",
       "        94.108, 94.981, 95.854, 96.727, 97.6  ]),\n",
       " <BarContainer object of 100 artists>)"
      ]
     },
     "execution_count": 18,
     "metadata": {},
     "output_type": "execute_result"
    },
    {
     "data": {
      "image/png": "[encoded data removed]",
      "text/plain": [
       "<Figure size 432x288 with 1 Axes>"
      ]
     },
     "metadata": {
      "needs_background": "light"
     },
     "output_type": "display_data"
    }
   ],
   "source": [
    "plt.hist(ideal, bins=100)\n",
    "plt.hist(data['bmi'], bins=100)"
   ]
  },
  {
   "cell_type": "code",
   "execution_count": 19,
   "metadata": {
    "execution": {
     "iopub.execute_input": "2021-02-11T08:10:04.816843Z",
     "iopub.status.busy": "2021-02-11T08:10:04.816188Z",
     "iopub.status.idle": "2021-02-11T08:10:04.932995Z",
     "shell.execute_reply": "2021-02-11T08:10:04.933470Z"
    },
    "papermill": {
     "duration": 0.165987,
     "end_time": "2021-02-11T08:10:04.933635",
     "exception": false,
     "start_time": "2021-02-11T08:10:04.767648",
     "status": "completed"
    },
    "tags": []
   },
   "outputs": [
    {
     "name": "stderr",
     "output_type": "stream",
     "text": [
      "/opt/conda/lib/python3.7/site-packages/seaborn/_decorators.py:43: FutureWarning: Pass the following variable as a keyword arg: x. From version 0.12, the only valid positional argument will be `data`, and passing other arguments without an explicit keyword will result in an error or misinterpretation.\n",
      "  FutureWarning\n"
     ]
    },
    {
     "data": {
      "image/png": "[encoded data removed]",
      "text/plain": [
       "<Figure size 432x288 with 1 Axes>"
      ]
     },
     "metadata": {
      "needs_background": "light"
     },
     "output_type": "display_data"
    }
   ],
   "source": [
    "sns.countplot(data['gender']);"
   ]
  },
  {
   "cell_type": "markdown",
   "metadata": {
    "papermill": {
     "duration": 0.044842,
     "end_time": "2021-02-11T08:10:05.024322",
     "exception": false,
     "start_time": "2021-02-11T08:10:04.979480",
     "status": "completed"
    },
    "tags": []
   },
   "source": [
    "## Clean The Data:"
   ]
  },
  {
   "cell_type": "markdown",
   "metadata": {
    "papermill": {
     "duration": 0.04453,
     "end_time": "2021-02-11T08:10:05.113755",
     "exception": false,
     "start_time": "2021-02-11T08:10:05.069225",
     "status": "completed"
    },
    "tags": []
   },
   "source": [
    "### ** When i want to try remove the Other on gender column i got error ** \n",
    "### so try to another way to remove it "
   ]
  },
  {
   "cell_type": "code",
   "execution_count": 20,
   "metadata": {
    "execution": {
     "iopub.execute_input": "2021-02-11T08:10:05.223457Z",
     "iopub.status.busy": "2021-02-11T08:10:05.210659Z",
     "iopub.status.idle": "2021-02-11T08:10:05.229187Z",
     "shell.execute_reply": "2021-02-11T08:10:05.228659Z"
    },
    "papermill": {
     "duration": 0.070643,
     "end_time": "2021-02-11T08:10:05.229347",
     "exception": false,
     "start_time": "2021-02-11T08:10:05.158704",
     "status": "completed"
    },
    "tags": []
   },
   "outputs": [
    {
     "data": {
      "text/html": [
       "<div>\n",
       "<style scoped>\n",
       "    .dataframe tbody tr th:only-of-type {\n",
       "        vertical-align: middle;\n",
       "    }\n",
       "\n",
       "    .dataframe tbody tr th {\n",
       "        vertical-align: top;\n",
       "    }\n",
       "\n",
       "    .dataframe thead th {\n",
       "        text-align: right;\n",
       "    }\n",
       "</style>\n",
       "<table border=\"1\" class=\"dataframe\">\n",
       "  <thead>\n",
       "    <tr style=\"text-align: right;\">\n",
       "      <th></th>\n",
       "      <th>id</th>\n",
       "      <th>gender</th>\n",
       "      <th>age</th>\n",
       "      <th>hypertension</th>\n",
       "      <th>heart_disease</th>\n",
       "      <th>ever_married</th>\n",
       "      <th>work_type</th>\n",
       "      <th>Residence_type</th>\n",
       "      <th>avg_glucose_level</th>\n",
       "      <th>bmi</th>\n",
       "      <th>smoking_status</th>\n",
       "      <th>stroke</th>\n",
       "    </tr>\n",
       "  </thead>\n",
       "  <tbody>\n",
       "    <tr>\n",
       "      <th>3116</th>\n",
       "      <td>56156</td>\n",
       "      <td>Other</td>\n",
       "      <td>26.0</td>\n",
       "      <td>0</td>\n",
       "      <td>0</td>\n",
       "      <td>No</td>\n",
       "      <td>Private</td>\n",
       "      <td>Rural</td>\n",
       "      <td>143.33</td>\n",
       "      <td>22.4</td>\n",
       "      <td>formerly smoked</td>\n",
       "      <td>0</td>\n",
       "    </tr>\n",
       "  </tbody>\n",
       "</table>\n",
       "</div>"
      ],
      "text/plain": [
       "         id gender   age  hypertension  heart_disease ever_married work_type  \\\n",
       "3116  56156  Other  26.0             0              0           No   Private   \n",
       "\n",
       "     Residence_type  avg_glucose_level   bmi   smoking_status  stroke  \n",
       "3116          Rural             143.33  22.4  formerly smoked       0  "
      ]
     },
     "execution_count": 20,
     "metadata": {},
     "output_type": "execute_result"
    }
   ],
   "source": [
    "data.loc[data['gender'].str.contains('Other')]"
   ]
  },
  {
   "cell_type": "code",
   "execution_count": 21,
   "metadata": {
    "execution": {
     "iopub.execute_input": "2021-02-11T08:10:05.336703Z",
     "iopub.status.busy": "2021-02-11T08:10:05.331144Z",
     "iopub.status.idle": "2021-02-11T08:10:05.341557Z",
     "shell.execute_reply": "2021-02-11T08:10:05.341057Z"
    },
    "papermill": {
     "duration": 0.066199,
     "end_time": "2021-02-11T08:10:05.341697",
     "exception": false,
     "start_time": "2021-02-11T08:10:05.275498",
     "status": "completed"
    },
    "tags": []
   },
   "outputs": [
    {
     "data": {
      "text/html": [
       "<div>\n",
       "<style scoped>\n",
       "    .dataframe tbody tr th:only-of-type {\n",
       "        vertical-align: middle;\n",
       "    }\n",
       "\n",
       "    .dataframe tbody tr th {\n",
       "        vertical-align: top;\n",
       "    }\n",
       "\n",
       "    .dataframe thead th {\n",
       "        text-align: right;\n",
       "    }\n",
       "</style>\n",
       "<table border=\"1\" class=\"dataframe\">\n",
       "  <thead>\n",
       "    <tr style=\"text-align: right;\">\n",
       "      <th></th>\n",
       "      <th>id</th>\n",
       "      <th>gender</th>\n",
       "      <th>age</th>\n",
       "      <th>hypertension</th>\n",
       "      <th>heart_disease</th>\n",
       "      <th>ever_married</th>\n",
       "      <th>work_type</th>\n",
       "      <th>Residence_type</th>\n",
       "      <th>avg_glucose_level</th>\n",
       "      <th>bmi</th>\n",
       "      <th>smoking_status</th>\n",
       "      <th>stroke</th>\n",
       "    </tr>\n",
       "  </thead>\n",
       "  <tbody>\n",
       "    <tr>\n",
       "      <th>3116</th>\n",
       "      <td>56156</td>\n",
       "      <td>Other</td>\n",
       "      <td>26.0</td>\n",
       "      <td>0</td>\n",
       "      <td>0</td>\n",
       "      <td>No</td>\n",
       "      <td>Private</td>\n",
       "      <td>Rural</td>\n",
       "      <td>143.33</td>\n",
       "      <td>22.4</td>\n",
       "      <td>formerly smoked</td>\n",
       "      <td>0</td>\n",
       "    </tr>\n",
       "  </tbody>\n",
       "</table>\n",
       "</div>"
      ],
      "text/plain": [
       "         id gender   age  hypertension  heart_disease ever_married work_type  \\\n",
       "3116  56156  Other  26.0             0              0           No   Private   \n",
       "\n",
       "     Residence_type  avg_glucose_level   bmi   smoking_status  stroke  \n",
       "3116          Rural             143.33  22.4  formerly smoked       0  "
      ]
     },
     "execution_count": 21,
     "metadata": {},
     "output_type": "execute_result"
    }
   ],
   "source": [
    "data[data.gender.values == 'Other']"
   ]
  },
  {
   "cell_type": "code",
   "execution_count": 22,
   "metadata": {
    "execution": {
     "iopub.execute_input": "2021-02-11T08:10:05.439997Z",
     "iopub.status.busy": "2021-02-11T08:10:05.439368Z",
     "iopub.status.idle": "2021-02-11T08:10:05.442490Z",
     "shell.execute_reply": "2021-02-11T08:10:05.441930Z"
    },
    "papermill": {
     "duration": 0.054203,
     "end_time": "2021-02-11T08:10:05.442700",
     "exception": false,
     "start_time": "2021-02-11T08:10:05.388497",
     "status": "completed"
    },
    "tags": []
   },
   "outputs": [],
   "source": [
    "def remove(gender):\n",
    "    if 'Other' in gender:\n",
    "        return np.nan\n",
    "    else:\n",
    "        return gender"
   ]
  },
  {
   "cell_type": "code",
   "execution_count": 23,
   "metadata": {
    "execution": {
     "iopub.execute_input": "2021-02-11T08:10:05.544694Z",
     "iopub.status.busy": "2021-02-11T08:10:05.542885Z",
     "iopub.status.idle": "2021-02-11T08:10:05.549011Z",
     "shell.execute_reply": "2021-02-11T08:10:05.548512Z"
    },
    "papermill": {
     "duration": 0.059987,
     "end_time": "2021-02-11T08:10:05.549156",
     "exception": false,
     "start_time": "2021-02-11T08:10:05.489169",
     "status": "completed"
    },
    "tags": []
   },
   "outputs": [],
   "source": [
    "data['gender'] = data['gender'].apply(remove)\n",
    "data['gender'] = data['gender'].dropna()"
   ]
  },
  {
   "cell_type": "code",
   "execution_count": 24,
   "metadata": {
    "execution": {
     "iopub.execute_input": "2021-02-11T08:10:05.652210Z",
     "iopub.status.busy": "2021-02-11T08:10:05.651607Z",
     "iopub.status.idle": "2021-02-11T08:10:05.751254Z",
     "shell.execute_reply": "2021-02-11T08:10:05.751769Z"
    },
    "papermill": {
     "duration": 0.156385,
     "end_time": "2021-02-11T08:10:05.751936",
     "exception": false,
     "start_time": "2021-02-11T08:10:05.595551",
     "status": "completed"
    },
    "tags": []
   },
   "outputs": [
    {
     "name": "stderr",
     "output_type": "stream",
     "text": [
      "/opt/conda/lib/python3.7/site-packages/seaborn/_decorators.py:43: FutureWarning: Pass the following variable as a keyword arg: x. From version 0.12, the only valid positional argument will be `data`, and passing other arguments without an explicit keyword will result in an error or misinterpretation.\n",
      "  FutureWarning\n"
     ]
    },
    {
     "data": {
      "image/png": "[encoded data removed]",
      "text/plain": [
       "<Figure size 432x288 with 1 Axes>"
      ]
     },
     "metadata": {
      "needs_background": "light"
     },
     "output_type": "display_data"
    }
   ],
   "source": [
    "sns.countplot(data['gender']);"
   ]
  },
  {
   "cell_type": "code",
   "execution_count": 25,
   "metadata": {
    "execution": {
     "iopub.execute_input": "2021-02-11T08:10:05.852854Z",
     "iopub.status.busy": "2021-02-11T08:10:05.851884Z",
     "iopub.status.idle": "2021-02-11T08:10:05.855036Z",
     "shell.execute_reply": "2021-02-11T08:10:05.854483Z"
    },
    "papermill": {
     "duration": 0.056247,
     "end_time": "2021-02-11T08:10:05.855185",
     "exception": false,
     "start_time": "2021-02-11T08:10:05.798938",
     "status": "completed"
    },
    "tags": []
   },
   "outputs": [],
   "source": [
    "data = data.drop('id', axis=1)"
   ]
  },
  {
   "cell_type": "code",
   "execution_count": 26,
   "metadata": {
    "execution": {
     "iopub.execute_input": "2021-02-11T08:10:05.957847Z",
     "iopub.status.busy": "2021-02-11T08:10:05.957124Z",
     "iopub.status.idle": "2021-02-11T08:10:06.079504Z",
     "shell.execute_reply": "2021-02-11T08:10:06.080025Z"
    },
    "papermill": {
     "duration": 0.178135,
     "end_time": "2021-02-11T08:10:06.080208",
     "exception": false,
     "start_time": "2021-02-11T08:10:05.902073",
     "status": "completed"
    },
    "tags": []
   },
   "outputs": [
    {
     "name": "stderr",
     "output_type": "stream",
     "text": [
      "/opt/conda/lib/python3.7/site-packages/seaborn/_decorators.py:43: FutureWarning: Pass the following variable as a keyword arg: x. From version 0.12, the only valid positional argument will be `data`, and passing other arguments without an explicit keyword will result in an error or misinterpretation.\n",
      "  FutureWarning\n"
     ]
    },
    {
     "data": {
      "image/png": "[encoded data removed]",
      "text/plain": [
       "<Figure size 432x288 with 1 Axes>"
      ]
     },
     "metadata": {
      "needs_background": "light"
     },
     "output_type": "display_data"
    }
   ],
   "source": [
    "sns.countplot(data['smoking_status']);"
   ]
  },
  {
   "cell_type": "code",
   "execution_count": 27,
   "metadata": {
    "execution": {
     "iopub.execute_input": "2021-02-11T08:10:06.184594Z",
     "iopub.status.busy": "2021-02-11T08:10:06.183974Z",
     "iopub.status.idle": "2021-02-11T08:10:06.186730Z",
     "shell.execute_reply": "2021-02-11T08:10:06.187206Z"
    },
    "papermill": {
     "duration": 0.05954,
     "end_time": "2021-02-11T08:10:06.187532",
     "exception": false,
     "start_time": "2021-02-11T08:10:06.127992",
     "status": "completed"
    },
    "tags": []
   },
   "outputs": [
    {
     "data": {
      "text/plain": [
       "never smoked       1892\n",
       "Unknown            1544\n",
       "formerly smoked     885\n",
       "smokes              789\n",
       "Name: smoking_status, dtype: int64"
      ]
     },
     "execution_count": 27,
     "metadata": {},
     "output_type": "execute_result"
    }
   ],
   "source": [
    "data['smoking_status'].value_counts()"
   ]
  },
  {
   "cell_type": "code",
   "execution_count": 28,
   "metadata": {
    "execution": {
     "iopub.execute_input": "2021-02-11T08:10:06.288162Z",
     "iopub.status.busy": "2021-02-11T08:10:06.287547Z",
     "iopub.status.idle": "2021-02-11T08:10:06.292989Z",
     "shell.execute_reply": "2021-02-11T08:10:06.292521Z"
    },
    "papermill": {
     "duration": 0.056473,
     "end_time": "2021-02-11T08:10:06.293139",
     "exception": false,
     "start_time": "2021-02-11T08:10:06.236666",
     "status": "completed"
    },
    "tags": []
   },
   "outputs": [],
   "source": [
    "from numpy import nan as NA\n",
    "#data[data['age'] < 20]\n",
    "def remove_age(age):\n",
    "    if age < 18:\n",
    "        return NA\n",
    "    else:\n",
    "        return age"
   ]
  },
  {
   "cell_type": "code",
   "execution_count": 29,
   "metadata": {
    "execution": {
     "iopub.execute_input": "2021-02-11T08:10:06.399825Z",
     "iopub.status.busy": "2021-02-11T08:10:06.399181Z",
     "iopub.status.idle": "2021-02-11T08:10:06.403201Z",
     "shell.execute_reply": "2021-02-11T08:10:06.403690Z"
    },
    "papermill": {
     "duration": 0.062419,
     "end_time": "2021-02-11T08:10:06.403877",
     "exception": false,
     "start_time": "2021-02-11T08:10:06.341458",
     "status": "completed"
    },
    "tags": []
   },
   "outputs": [],
   "source": [
    "data['age'] = data['age'].apply(remove_age)\n",
    "data['age'].dropna(inplace=True)\n",
    "data.dropna(inplace=True)"
   ]
  },
  {
   "cell_type": "code",
   "execution_count": 30,
   "metadata": {
    "execution": {
     "iopub.execute_input": "2021-02-11T08:10:06.503525Z",
     "iopub.status.busy": "2021-02-11T08:10:06.502903Z",
     "iopub.status.idle": "2021-02-11T08:10:06.525395Z",
     "shell.execute_reply": "2021-02-11T08:10:06.525896Z"
    },
    "papermill": {
     "duration": 0.073965,
     "end_time": "2021-02-11T08:10:06.526062",
     "exception": false,
     "start_time": "2021-02-11T08:10:06.452097",
     "status": "completed"
    },
    "tags": []
   },
   "outputs": [
    {
     "data": {
      "text/html": [
       "<div>\n",
       "<style scoped>\n",
       "    .dataframe tbody tr th:only-of-type {\n",
       "        vertical-align: middle;\n",
       "    }\n",
       "\n",
       "    .dataframe tbody tr th {\n",
       "        vertical-align: top;\n",
       "    }\n",
       "\n",
       "    .dataframe thead th {\n",
       "        text-align: right;\n",
       "    }\n",
       "</style>\n",
       "<table border=\"1\" class=\"dataframe\">\n",
       "  <thead>\n",
       "    <tr style=\"text-align: right;\">\n",
       "      <th></th>\n",
       "      <th>gender</th>\n",
       "      <th>age</th>\n",
       "      <th>hypertension</th>\n",
       "      <th>heart_disease</th>\n",
       "      <th>ever_married</th>\n",
       "      <th>work_type</th>\n",
       "      <th>Residence_type</th>\n",
       "      <th>avg_glucose_level</th>\n",
       "      <th>bmi</th>\n",
       "      <th>smoking_status</th>\n",
       "      <th>stroke</th>\n",
       "    </tr>\n",
       "  </thead>\n",
       "  <tbody>\n",
       "    <tr>\n",
       "      <th>0</th>\n",
       "      <td>Male</td>\n",
       "      <td>67.0</td>\n",
       "      <td>0</td>\n",
       "      <td>1</td>\n",
       "      <td>Yes</td>\n",
       "      <td>Private</td>\n",
       "      <td>Urban</td>\n",
       "      <td>228.69</td>\n",
       "      <td>36.600000</td>\n",
       "      <td>formerly smoked</td>\n",
       "      <td>1</td>\n",
       "    </tr>\n",
       "    <tr>\n",
       "      <th>1</th>\n",
       "      <td>Female</td>\n",
       "      <td>61.0</td>\n",
       "      <td>0</td>\n",
       "      <td>0</td>\n",
       "      <td>Yes</td>\n",
       "      <td>Self-employed</td>\n",
       "      <td>Rural</td>\n",
       "      <td>202.21</td>\n",
       "      <td>28.893237</td>\n",
       "      <td>never smoked</td>\n",
       "      <td>1</td>\n",
       "    </tr>\n",
       "    <tr>\n",
       "      <th>2</th>\n",
       "      <td>Male</td>\n",
       "      <td>80.0</td>\n",
       "      <td>0</td>\n",
       "      <td>1</td>\n",
       "      <td>Yes</td>\n",
       "      <td>Private</td>\n",
       "      <td>Rural</td>\n",
       "      <td>105.92</td>\n",
       "      <td>32.500000</td>\n",
       "      <td>never smoked</td>\n",
       "      <td>1</td>\n",
       "    </tr>\n",
       "    <tr>\n",
       "      <th>3</th>\n",
       "      <td>Female</td>\n",
       "      <td>49.0</td>\n",
       "      <td>0</td>\n",
       "      <td>0</td>\n",
       "      <td>Yes</td>\n",
       "      <td>Private</td>\n",
       "      <td>Urban</td>\n",
       "      <td>171.23</td>\n",
       "      <td>34.400000</td>\n",
       "      <td>smokes</td>\n",
       "      <td>1</td>\n",
       "    </tr>\n",
       "    <tr>\n",
       "      <th>4</th>\n",
       "      <td>Female</td>\n",
       "      <td>79.0</td>\n",
       "      <td>1</td>\n",
       "      <td>0</td>\n",
       "      <td>Yes</td>\n",
       "      <td>Self-employed</td>\n",
       "      <td>Rural</td>\n",
       "      <td>174.12</td>\n",
       "      <td>24.000000</td>\n",
       "      <td>never smoked</td>\n",
       "      <td>1</td>\n",
       "    </tr>\n",
       "    <tr>\n",
       "      <th>...</th>\n",
       "      <td>...</td>\n",
       "      <td>...</td>\n",
       "      <td>...</td>\n",
       "      <td>...</td>\n",
       "      <td>...</td>\n",
       "      <td>...</td>\n",
       "      <td>...</td>\n",
       "      <td>...</td>\n",
       "      <td>...</td>\n",
       "      <td>...</td>\n",
       "      <td>...</td>\n",
       "    </tr>\n",
       "    <tr>\n",
       "      <th>5105</th>\n",
       "      <td>Female</td>\n",
       "      <td>80.0</td>\n",
       "      <td>1</td>\n",
       "      <td>0</td>\n",
       "      <td>Yes</td>\n",
       "      <td>Private</td>\n",
       "      <td>Urban</td>\n",
       "      <td>83.75</td>\n",
       "      <td>28.893237</td>\n",
       "      <td>never smoked</td>\n",
       "      <td>0</td>\n",
       "    </tr>\n",
       "    <tr>\n",
       "      <th>5106</th>\n",
       "      <td>Female</td>\n",
       "      <td>81.0</td>\n",
       "      <td>0</td>\n",
       "      <td>0</td>\n",
       "      <td>Yes</td>\n",
       "      <td>Self-employed</td>\n",
       "      <td>Urban</td>\n",
       "      <td>125.20</td>\n",
       "      <td>40.000000</td>\n",
       "      <td>never smoked</td>\n",
       "      <td>0</td>\n",
       "    </tr>\n",
       "    <tr>\n",
       "      <th>5107</th>\n",
       "      <td>Female</td>\n",
       "      <td>35.0</td>\n",
       "      <td>0</td>\n",
       "      <td>0</td>\n",
       "      <td>Yes</td>\n",
       "      <td>Self-employed</td>\n",
       "      <td>Rural</td>\n",
       "      <td>82.99</td>\n",
       "      <td>30.600000</td>\n",
       "      <td>never smoked</td>\n",
       "      <td>0</td>\n",
       "    </tr>\n",
       "    <tr>\n",
       "      <th>5108</th>\n",
       "      <td>Male</td>\n",
       "      <td>51.0</td>\n",
       "      <td>0</td>\n",
       "      <td>0</td>\n",
       "      <td>Yes</td>\n",
       "      <td>Private</td>\n",
       "      <td>Rural</td>\n",
       "      <td>166.29</td>\n",
       "      <td>25.600000</td>\n",
       "      <td>formerly smoked</td>\n",
       "      <td>0</td>\n",
       "    </tr>\n",
       "    <tr>\n",
       "      <th>5109</th>\n",
       "      <td>Female</td>\n",
       "      <td>44.0</td>\n",
       "      <td>0</td>\n",
       "      <td>0</td>\n",
       "      <td>Yes</td>\n",
       "      <td>Govt_job</td>\n",
       "      <td>Urban</td>\n",
       "      <td>85.28</td>\n",
       "      <td>26.200000</td>\n",
       "      <td>Unknown</td>\n",
       "      <td>0</td>\n",
       "    </tr>\n",
       "  </tbody>\n",
       "</table>\n",
       "<p>4253 rows × 11 columns</p>\n",
       "</div>"
      ],
      "text/plain": [
       "      gender   age  hypertension  heart_disease ever_married      work_type  \\\n",
       "0       Male  67.0             0              1          Yes        Private   \n",
       "1     Female  61.0             0              0          Yes  Self-employed   \n",
       "2       Male  80.0             0              1          Yes        Private   \n",
       "3     Female  49.0             0              0          Yes        Private   \n",
       "4     Female  79.0             1              0          Yes  Self-employed   \n",
       "...      ...   ...           ...            ...          ...            ...   \n",
       "5105  Female  80.0             1              0          Yes        Private   \n",
       "5106  Female  81.0             0              0          Yes  Self-employed   \n",
       "5107  Female  35.0             0              0          Yes  Self-employed   \n",
       "5108    Male  51.0             0              0          Yes        Private   \n",
       "5109  Female  44.0             0              0          Yes       Govt_job   \n",
       "\n",
       "     Residence_type  avg_glucose_level        bmi   smoking_status  stroke  \n",
       "0             Urban             228.69  36.600000  formerly smoked       1  \n",
       "1             Rural             202.21  28.893237     never smoked       1  \n",
       "2             Rural             105.92  32.500000     never smoked       1  \n",
       "3             Urban             171.23  34.400000           smokes       1  \n",
       "4             Rural             174.12  24.000000     never smoked       1  \n",
       "...             ...                ...        ...              ...     ...  \n",
       "5105          Urban              83.75  28.893237     never smoked       0  \n",
       "5106          Urban             125.20  40.000000     never smoked       0  \n",
       "5107          Rural              82.99  30.600000     never smoked       0  \n",
       "5108          Rural             166.29  25.600000  formerly smoked       0  \n",
       "5109          Urban              85.28  26.200000          Unknown       0  \n",
       "\n",
       "[4253 rows x 11 columns]"
      ]
     },
     "execution_count": 30,
     "metadata": {},
     "output_type": "execute_result"
    }
   ],
   "source": [
    "data"
   ]
  },
  {
   "cell_type": "code",
   "execution_count": 31,
   "metadata": {
    "execution": {
     "iopub.execute_input": "2021-02-11T08:10:06.632826Z",
     "iopub.status.busy": "2021-02-11T08:10:06.632034Z",
     "iopub.status.idle": "2021-02-11T08:10:06.637602Z",
     "shell.execute_reply": "2021-02-11T08:10:06.638029Z"
    },
    "papermill": {
     "duration": 0.062185,
     "end_time": "2021-02-11T08:10:06.638203",
     "exception": false,
     "start_time": "2021-02-11T08:10:06.576018",
     "status": "completed"
    },
    "tags": []
   },
   "outputs": [
    {
     "data": {
      "text/plain": [
       "count    4253.000000\n",
       "mean       50.207853\n",
       "std        17.827267\n",
       "min        18.000000\n",
       "25%        36.000000\n",
       "50%        51.000000\n",
       "75%        64.000000\n",
       "max        82.000000\n",
       "Name: age, dtype: float64"
      ]
     },
     "execution_count": 31,
     "metadata": {},
     "output_type": "execute_result"
    }
   ],
   "source": [
    "data['age'].describe()"
   ]
  },
  {
   "cell_type": "markdown",
   "metadata": {
    "papermill": {
     "duration": 0.049081,
     "end_time": "2021-02-11T08:10:06.737975",
     "exception": false,
     "start_time": "2021-02-11T08:10:06.688894",
     "status": "completed"
    },
    "tags": []
   },
   "source": [
    "### Children (00-14 years)\n",
    "### Youth (15-24 years)\n",
    "### Adults (25-64 years)\n",
    "### Seniors (65 years and over)"
   ]
  },
  {
   "cell_type": "code",
   "execution_count": 32,
   "metadata": {
    "execution": {
     "iopub.execute_input": "2021-02-11T08:10:06.840038Z",
     "iopub.status.busy": "2021-02-11T08:10:06.839352Z",
     "iopub.status.idle": "2021-02-11T08:10:06.847429Z",
     "shell.execute_reply": "2021-02-11T08:10:06.846956Z"
    },
    "papermill": {
     "duration": 0.06,
     "end_time": "2021-02-11T08:10:06.847578",
     "exception": false,
     "start_time": "2021-02-11T08:10:06.787578",
     "status": "completed"
    },
    "tags": []
   },
   "outputs": [],
   "source": [
    "data['categori_age'] = pd.cut((data['age']), 3, labels=['Youth ', 'Adults ', 'Seniors '])"
   ]
  },
  {
   "cell_type": "code",
   "execution_count": 33,
   "metadata": {
    "execution": {
     "iopub.execute_input": "2021-02-11T08:10:06.965478Z",
     "iopub.status.busy": "2021-02-11T08:10:06.955216Z",
     "iopub.status.idle": "2021-02-11T08:10:06.970761Z",
     "shell.execute_reply": "2021-02-11T08:10:06.970249Z"
    },
    "papermill": {
     "duration": 0.072491,
     "end_time": "2021-02-11T08:10:06.970908",
     "exception": false,
     "start_time": "2021-02-11T08:10:06.898417",
     "status": "completed"
    },
    "tags": []
   },
   "outputs": [
    {
     "data": {
      "text/html": [
       "<div>\n",
       "<style scoped>\n",
       "    .dataframe tbody tr th:only-of-type {\n",
       "        vertical-align: middle;\n",
       "    }\n",
       "\n",
       "    .dataframe tbody tr th {\n",
       "        vertical-align: top;\n",
       "    }\n",
       "\n",
       "    .dataframe thead th {\n",
       "        text-align: right;\n",
       "    }\n",
       "</style>\n",
       "<table border=\"1\" class=\"dataframe\">\n",
       "  <thead>\n",
       "    <tr style=\"text-align: right;\">\n",
       "      <th></th>\n",
       "      <th>gender</th>\n",
       "      <th>ever_married</th>\n",
       "      <th>work_type</th>\n",
       "      <th>Residence_type</th>\n",
       "      <th>smoking_status</th>\n",
       "    </tr>\n",
       "  </thead>\n",
       "  <tbody>\n",
       "    <tr>\n",
       "      <th>0</th>\n",
       "      <td>Male</td>\n",
       "      <td>Yes</td>\n",
       "      <td>Private</td>\n",
       "      <td>Urban</td>\n",
       "      <td>formerly smoked</td>\n",
       "    </tr>\n",
       "    <tr>\n",
       "      <th>1</th>\n",
       "      <td>Female</td>\n",
       "      <td>Yes</td>\n",
       "      <td>Self-employed</td>\n",
       "      <td>Rural</td>\n",
       "      <td>never smoked</td>\n",
       "    </tr>\n",
       "    <tr>\n",
       "      <th>2</th>\n",
       "      <td>Male</td>\n",
       "      <td>Yes</td>\n",
       "      <td>Private</td>\n",
       "      <td>Rural</td>\n",
       "      <td>never smoked</td>\n",
       "    </tr>\n",
       "    <tr>\n",
       "      <th>3</th>\n",
       "      <td>Female</td>\n",
       "      <td>Yes</td>\n",
       "      <td>Private</td>\n",
       "      <td>Urban</td>\n",
       "      <td>smokes</td>\n",
       "    </tr>\n",
       "    <tr>\n",
       "      <th>4</th>\n",
       "      <td>Female</td>\n",
       "      <td>Yes</td>\n",
       "      <td>Self-employed</td>\n",
       "      <td>Rural</td>\n",
       "      <td>never smoked</td>\n",
       "    </tr>\n",
       "    <tr>\n",
       "      <th>...</th>\n",
       "      <td>...</td>\n",
       "      <td>...</td>\n",
       "      <td>...</td>\n",
       "      <td>...</td>\n",
       "      <td>...</td>\n",
       "    </tr>\n",
       "    <tr>\n",
       "      <th>5105</th>\n",
       "      <td>Female</td>\n",
       "      <td>Yes</td>\n",
       "      <td>Private</td>\n",
       "      <td>Urban</td>\n",
       "      <td>never smoked</td>\n",
       "    </tr>\n",
       "    <tr>\n",
       "      <th>5106</th>\n",
       "      <td>Female</td>\n",
       "      <td>Yes</td>\n",
       "      <td>Self-employed</td>\n",
       "      <td>Urban</td>\n",
       "      <td>never smoked</td>\n",
       "    </tr>\n",
       "    <tr>\n",
       "      <th>5107</th>\n",
       "      <td>Female</td>\n",
       "      <td>Yes</td>\n",
       "      <td>Self-employed</td>\n",
       "      <td>Rural</td>\n",
       "      <td>never smoked</td>\n",
       "    </tr>\n",
       "    <tr>\n",
       "      <th>5108</th>\n",
       "      <td>Male</td>\n",
       "      <td>Yes</td>\n",
       "      <td>Private</td>\n",
       "      <td>Rural</td>\n",
       "      <td>formerly smoked</td>\n",
       "    </tr>\n",
       "    <tr>\n",
       "      <th>5109</th>\n",
       "      <td>Female</td>\n",
       "      <td>Yes</td>\n",
       "      <td>Govt_job</td>\n",
       "      <td>Urban</td>\n",
       "      <td>Unknown</td>\n",
       "    </tr>\n",
       "  </tbody>\n",
       "</table>\n",
       "<p>4253 rows × 5 columns</p>\n",
       "</div>"
      ],
      "text/plain": [
       "      gender ever_married      work_type Residence_type   smoking_status\n",
       "0       Male          Yes        Private          Urban  formerly smoked\n",
       "1     Female          Yes  Self-employed          Rural     never smoked\n",
       "2       Male          Yes        Private          Rural     never smoked\n",
       "3     Female          Yes        Private          Urban           smokes\n",
       "4     Female          Yes  Self-employed          Rural     never smoked\n",
       "...      ...          ...            ...            ...              ...\n",
       "5105  Female          Yes        Private          Urban     never smoked\n",
       "5106  Female          Yes  Self-employed          Urban     never smoked\n",
       "5107  Female          Yes  Self-employed          Rural     never smoked\n",
       "5108    Male          Yes        Private          Rural  formerly smoked\n",
       "5109  Female          Yes       Govt_job          Urban          Unknown\n",
       "\n",
       "[4253 rows x 5 columns]"
      ]
     },
     "execution_count": 33,
     "metadata": {},
     "output_type": "execute_result"
    }
   ],
   "source": [
    "obj = data.select_dtypes(include='object')\n",
    "obj"
   ]
  },
  {
   "cell_type": "code",
   "execution_count": 34,
   "metadata": {
    "execution": {
     "iopub.execute_input": "2021-02-11T08:10:07.098401Z",
     "iopub.status.busy": "2021-02-11T08:10:07.097730Z",
     "iopub.status.idle": "2021-02-11T08:10:07.101617Z",
     "shell.execute_reply": "2021-02-11T08:10:07.101094Z"
    },
    "papermill": {
     "duration": 0.080629,
     "end_time": "2021-02-11T08:10:07.101750",
     "exception": false,
     "start_time": "2021-02-11T08:10:07.021121",
     "status": "completed"
    },
    "tags": []
   },
   "outputs": [
    {
     "data": {
      "text/html": [
       "<div>\n",
       "<style scoped>\n",
       "    .dataframe tbody tr th:only-of-type {\n",
       "        vertical-align: middle;\n",
       "    }\n",
       "\n",
       "    .dataframe tbody tr th {\n",
       "        vertical-align: top;\n",
       "    }\n",
       "\n",
       "    .dataframe thead th {\n",
       "        text-align: right;\n",
       "    }\n",
       "</style>\n",
       "<table border=\"1\" class=\"dataframe\">\n",
       "  <thead>\n",
       "    <tr style=\"text-align: right;\">\n",
       "      <th></th>\n",
       "      <th>gender</th>\n",
       "      <th>age</th>\n",
       "      <th>hypertension</th>\n",
       "      <th>heart_disease</th>\n",
       "      <th>ever_married</th>\n",
       "      <th>work_type</th>\n",
       "      <th>Residence_type</th>\n",
       "      <th>avg_glucose_level</th>\n",
       "      <th>bmi</th>\n",
       "      <th>smoking_status</th>\n",
       "      <th>stroke</th>\n",
       "      <th>categori_age</th>\n",
       "    </tr>\n",
       "  </thead>\n",
       "  <tbody>\n",
       "    <tr>\n",
       "      <th>0</th>\n",
       "      <td>Male</td>\n",
       "      <td>67.0</td>\n",
       "      <td>0</td>\n",
       "      <td>1</td>\n",
       "      <td>Yes</td>\n",
       "      <td>Private</td>\n",
       "      <td>Urban</td>\n",
       "      <td>228.69</td>\n",
       "      <td>36.600000</td>\n",
       "      <td>formerly smoked</td>\n",
       "      <td>1</td>\n",
       "      <td>Seniors</td>\n",
       "    </tr>\n",
       "    <tr>\n",
       "      <th>1</th>\n",
       "      <td>Female</td>\n",
       "      <td>61.0</td>\n",
       "      <td>0</td>\n",
       "      <td>0</td>\n",
       "      <td>Yes</td>\n",
       "      <td>Self-employed</td>\n",
       "      <td>Rural</td>\n",
       "      <td>202.21</td>\n",
       "      <td>28.893237</td>\n",
       "      <td>never smoked</td>\n",
       "      <td>1</td>\n",
       "      <td>Seniors</td>\n",
       "    </tr>\n",
       "    <tr>\n",
       "      <th>2</th>\n",
       "      <td>Male</td>\n",
       "      <td>80.0</td>\n",
       "      <td>0</td>\n",
       "      <td>1</td>\n",
       "      <td>Yes</td>\n",
       "      <td>Private</td>\n",
       "      <td>Rural</td>\n",
       "      <td>105.92</td>\n",
       "      <td>32.500000</td>\n",
       "      <td>never smoked</td>\n",
       "      <td>1</td>\n",
       "      <td>Seniors</td>\n",
       "    </tr>\n",
       "    <tr>\n",
       "      <th>3</th>\n",
       "      <td>Female</td>\n",
       "      <td>49.0</td>\n",
       "      <td>0</td>\n",
       "      <td>0</td>\n",
       "      <td>Yes</td>\n",
       "      <td>Private</td>\n",
       "      <td>Urban</td>\n",
       "      <td>171.23</td>\n",
       "      <td>34.400000</td>\n",
       "      <td>smokes</td>\n",
       "      <td>1</td>\n",
       "      <td>Adults</td>\n",
       "    </tr>\n",
       "    <tr>\n",
       "      <th>4</th>\n",
       "      <td>Female</td>\n",
       "      <td>79.0</td>\n",
       "      <td>1</td>\n",
       "      <td>0</td>\n",
       "      <td>Yes</td>\n",
       "      <td>Self-employed</td>\n",
       "      <td>Rural</td>\n",
       "      <td>174.12</td>\n",
       "      <td>24.000000</td>\n",
       "      <td>never smoked</td>\n",
       "      <td>1</td>\n",
       "      <td>Seniors</td>\n",
       "    </tr>\n",
       "    <tr>\n",
       "      <th>...</th>\n",
       "      <td>...</td>\n",
       "      <td>...</td>\n",
       "      <td>...</td>\n",
       "      <td>...</td>\n",
       "      <td>...</td>\n",
       "      <td>...</td>\n",
       "      <td>...</td>\n",
       "      <td>...</td>\n",
       "      <td>...</td>\n",
       "      <td>...</td>\n",
       "      <td>...</td>\n",
       "      <td>...</td>\n",
       "    </tr>\n",
       "    <tr>\n",
       "      <th>5105</th>\n",
       "      <td>Female</td>\n",
       "      <td>80.0</td>\n",
       "      <td>1</td>\n",
       "      <td>0</td>\n",
       "      <td>Yes</td>\n",
       "      <td>Private</td>\n",
       "      <td>Urban</td>\n",
       "      <td>83.75</td>\n",
       "      <td>28.893237</td>\n",
       "      <td>never smoked</td>\n",
       "      <td>0</td>\n",
       "      <td>Seniors</td>\n",
       "    </tr>\n",
       "    <tr>\n",
       "      <th>5106</th>\n",
       "      <td>Female</td>\n",
       "      <td>81.0</td>\n",
       "      <td>0</td>\n",
       "      <td>0</td>\n",
       "      <td>Yes</td>\n",
       "      <td>Self-employed</td>\n",
       "      <td>Urban</td>\n",
       "      <td>125.20</td>\n",
       "      <td>40.000000</td>\n",
       "      <td>never smoked</td>\n",
       "      <td>0</td>\n",
       "      <td>Seniors</td>\n",
       "    </tr>\n",
       "    <tr>\n",
       "      <th>5107</th>\n",
       "      <td>Female</td>\n",
       "      <td>35.0</td>\n",
       "      <td>0</td>\n",
       "      <td>0</td>\n",
       "      <td>Yes</td>\n",
       "      <td>Self-employed</td>\n",
       "      <td>Rural</td>\n",
       "      <td>82.99</td>\n",
       "      <td>30.600000</td>\n",
       "      <td>never smoked</td>\n",
       "      <td>0</td>\n",
       "      <td>Youth</td>\n",
       "    </tr>\n",
       "    <tr>\n",
       "      <th>5108</th>\n",
       "      <td>Male</td>\n",
       "      <td>51.0</td>\n",
       "      <td>0</td>\n",
       "      <td>0</td>\n",
       "      <td>Yes</td>\n",
       "      <td>Private</td>\n",
       "      <td>Rural</td>\n",
       "      <td>166.29</td>\n",
       "      <td>25.600000</td>\n",
       "      <td>formerly smoked</td>\n",
       "      <td>0</td>\n",
       "      <td>Adults</td>\n",
       "    </tr>\n",
       "    <tr>\n",
       "      <th>5109</th>\n",
       "      <td>Female</td>\n",
       "      <td>44.0</td>\n",
       "      <td>0</td>\n",
       "      <td>0</td>\n",
       "      <td>Yes</td>\n",
       "      <td>Govt_job</td>\n",
       "      <td>Urban</td>\n",
       "      <td>85.28</td>\n",
       "      <td>26.200000</td>\n",
       "      <td>Unknown</td>\n",
       "      <td>0</td>\n",
       "      <td>Adults</td>\n",
       "    </tr>\n",
       "  </tbody>\n",
       "</table>\n",
       "<p>4253 rows × 12 columns</p>\n",
       "</div>"
      ],
      "text/plain": [
       "      gender   age  hypertension  heart_disease ever_married      work_type  \\\n",
       "0       Male  67.0             0              1          Yes        Private   \n",
       "1     Female  61.0             0              0          Yes  Self-employed   \n",
       "2       Male  80.0             0              1          Yes        Private   \n",
       "3     Female  49.0             0              0          Yes        Private   \n",
       "4     Female  79.0             1              0          Yes  Self-employed   \n",
       "...      ...   ...           ...            ...          ...            ...   \n",
       "5105  Female  80.0             1              0          Yes        Private   \n",
       "5106  Female  81.0             0              0          Yes  Self-employed   \n",
       "5107  Female  35.0             0              0          Yes  Self-employed   \n",
       "5108    Male  51.0             0              0          Yes        Private   \n",
       "5109  Female  44.0             0              0          Yes       Govt_job   \n",
       "\n",
       "     Residence_type  avg_glucose_level        bmi   smoking_status  stroke  \\\n",
       "0             Urban             228.69  36.600000  formerly smoked       1   \n",
       "1             Rural             202.21  28.893237     never smoked       1   \n",
       "2             Rural             105.92  32.500000     never smoked       1   \n",
       "3             Urban             171.23  34.400000           smokes       1   \n",
       "4             Rural             174.12  24.000000     never smoked       1   \n",
       "...             ...                ...        ...              ...     ...   \n",
       "5105          Urban              83.75  28.893237     never smoked       0   \n",
       "5106          Urban             125.20  40.000000     never smoked       0   \n",
       "5107          Rural              82.99  30.600000     never smoked       0   \n",
       "5108          Rural             166.29  25.600000  formerly smoked       0   \n",
       "5109          Urban              85.28  26.200000          Unknown       0   \n",
       "\n",
       "     categori_age  \n",
       "0        Seniors   \n",
       "1        Seniors   \n",
       "2        Seniors   \n",
       "3         Adults   \n",
       "4        Seniors   \n",
       "...           ...  \n",
       "5105     Seniors   \n",
       "5106     Seniors   \n",
       "5107       Youth   \n",
       "5108      Adults   \n",
       "5109      Adults   \n",
       "\n",
       "[4253 rows x 12 columns]"
      ]
     },
     "execution_count": 34,
     "metadata": {},
     "output_type": "execute_result"
    }
   ],
   "source": [
    "data"
   ]
  },
  {
   "cell_type": "markdown",
   "metadata": {
    "papermill": {
     "duration": 0.052307,
     "end_time": "2021-02-11T08:10:07.204980",
     "exception": false,
     "start_time": "2021-02-11T08:10:07.152673",
     "status": "completed"
    },
    "tags": []
   },
   "source": [
    "##  Now We Want To See If The Age Is More Than 40 or 50 Is Really Effected On Stroke Or Not\n",
    "### if p_value < 0.5 means we can have a reason to prove it if the p_value > 0.5 means maybe it happens base on chance"
   ]
  },
  {
   "cell_type": "code",
   "execution_count": 35,
   "metadata": {
    "execution": {
     "iopub.execute_input": "2021-02-11T08:10:07.309680Z",
     "iopub.status.busy": "2021-02-11T08:10:07.309037Z",
     "iopub.status.idle": "2021-02-11T08:10:07.313217Z",
     "shell.execute_reply": "2021-02-11T08:10:07.313702Z"
    },
    "papermill": {
     "duration": 0.057888,
     "end_time": "2021-02-11T08:10:07.313867",
     "exception": false,
     "start_time": "2021-02-11T08:10:07.255979",
     "status": "completed"
    },
    "tags": []
   },
   "outputs": [],
   "source": [
    "from numpy import sqrt, round, abs"
   ]
  },
  {
   "cell_type": "code",
   "execution_count": 36,
   "metadata": {
    "execution": {
     "iopub.execute_input": "2021-02-11T08:10:07.422600Z",
     "iopub.status.busy": "2021-02-11T08:10:07.421962Z",
     "iopub.status.idle": "2021-02-11T08:10:07.426824Z",
     "shell.execute_reply": "2021-02-11T08:10:07.427312Z"
    },
    "papermill": {
     "duration": 0.061429,
     "end_time": "2021-02-11T08:10:07.427490",
     "exception": false,
     "start_time": "2021-02-11T08:10:07.366061",
     "status": "completed"
    },
    "tags": []
   },
   "outputs": [],
   "source": [
    "dataA = data[data['age'] >= 50]['stroke']\n",
    "dataB = data[data['age'] < 50]['stroke']"
   ]
  },
  {
   "cell_type": "code",
   "execution_count": 37,
   "metadata": {
    "execution": {
     "iopub.execute_input": "2021-02-11T08:10:07.532655Z",
     "iopub.status.busy": "2021-02-11T08:10:07.531986Z",
     "iopub.status.idle": "2021-02-11T08:10:07.536650Z",
     "shell.execute_reply": "2021-02-11T08:10:07.537133Z"
    },
    "papermill": {
     "duration": 0.059117,
     "end_time": "2021-02-11T08:10:07.537346",
     "exception": false,
     "start_time": "2021-02-11T08:10:07.478229",
     "status": "completed"
    },
    "tags": []
   },
   "outputs": [],
   "source": [
    "Amean = dataA.mean()\n",
    "Bmean = dataB.mean()\n",
    "Astd = dataA.std()\n",
    "Bstd = dataB.std()\n",
    "Alen = len(dataA)\n",
    "Blen = len(dataB)"
   ]
  },
  {
   "cell_type": "code",
   "execution_count": 38,
   "metadata": {
    "execution": {
     "iopub.execute_input": "2021-02-11T08:10:07.642900Z",
     "iopub.status.busy": "2021-02-11T08:10:07.642061Z",
     "iopub.status.idle": "2021-02-11T08:10:07.645728Z",
     "shell.execute_reply": "2021-02-11T08:10:07.646198Z"
    },
    "papermill": {
     "duration": 0.058015,
     "end_time": "2021-02-11T08:10:07.646487",
     "exception": false,
     "start_time": "2021-02-11T08:10:07.588472",
     "status": "completed"
    },
    "tags": []
   },
   "outputs": [],
   "source": [
    "above = Amean - Bmean\n",
    "below = sqrt((Astd ** 2 / Alen) + (Bstd ** 2 / Blen))\n",
    "z  = above / below "
   ]
  },
  {
   "cell_type": "code",
   "execution_count": 39,
   "metadata": {
    "execution": {
     "iopub.execute_input": "2021-02-11T08:10:07.751675Z",
     "iopub.status.busy": "2021-02-11T08:10:07.751095Z",
     "iopub.status.idle": "2021-02-11T08:10:07.756561Z",
     "shell.execute_reply": "2021-02-11T08:10:07.755866Z"
    },
    "papermill": {
     "duration": 0.059289,
     "end_time": "2021-02-11T08:10:07.756703",
     "exception": false,
     "start_time": "2021-02-11T08:10:07.697414",
     "status": "completed"
    },
    "tags": []
   },
   "outputs": [
    {
     "data": {
      "text/plain": [
       "13.929885178315345"
      ]
     },
     "execution_count": 39,
     "metadata": {},
     "output_type": "execute_result"
    }
   ],
   "source": [
    "z"
   ]
  },
  {
   "cell_type": "code",
   "execution_count": 40,
   "metadata": {
    "execution": {
     "iopub.execute_input": "2021-02-11T08:10:07.865816Z",
     "iopub.status.busy": "2021-02-11T08:10:07.865175Z",
     "iopub.status.idle": "2021-02-11T08:10:07.868729Z",
     "shell.execute_reply": "2021-02-11T08:10:07.869160Z"
    },
    "papermill": {
     "duration": 0.061028,
     "end_time": "2021-02-11T08:10:07.869357",
     "exception": false,
     "start_time": "2021-02-11T08:10:07.808329",
     "status": "completed"
    },
    "tags": []
   },
   "outputs": [
    {
     "data": {
      "text/plain": [
       "0.0"
      ]
     },
     "execution_count": 40,
     "metadata": {},
     "output_type": "execute_result"
    }
   ],
   "source": [
    "p_value = 2 * (1 - norm.cdf(abs(z)))\n",
    "p_value"
   ]
  },
  {
   "cell_type": "markdown",
   "metadata": {
    "papermill": {
     "duration": 0.051387,
     "end_time": "2021-02-11T08:10:07.974485",
     "exception": false,
     "start_time": "2021-02-11T08:10:07.923098",
     "status": "completed"
    },
    "tags": []
   },
   "source": [
    "## Anova_Test"
   ]
  },
  {
   "cell_type": "code",
   "execution_count": 41,
   "metadata": {
    "execution": {
     "iopub.execute_input": "2021-02-11T08:10:08.084960Z",
     "iopub.status.busy": "2021-02-11T08:10:08.084283Z",
     "iopub.status.idle": "2021-02-11T08:10:08.086883Z",
     "shell.execute_reply": "2021-02-11T08:10:08.086195Z"
    },
    "papermill": {
     "duration": 0.059918,
     "end_time": "2021-02-11T08:10:08.087026",
     "exception": false,
     "start_time": "2021-02-11T08:10:08.027108",
     "status": "completed"
    },
    "tags": []
   },
   "outputs": [],
   "source": [
    "from statsmodels.formula.api import ols\n",
    "import statsmodels.api as sm"
   ]
  },
  {
   "cell_type": "code",
   "execution_count": 42,
   "metadata": {
    "execution": {
     "iopub.execute_input": "2021-02-11T08:10:08.200713Z",
     "iopub.status.busy": "2021-02-11T08:10:08.200107Z",
     "iopub.status.idle": "2021-02-11T08:10:08.232084Z",
     "shell.execute_reply": "2021-02-11T08:10:08.231519Z"
    },
    "papermill": {
     "duration": 0.092744,
     "end_time": "2021-02-11T08:10:08.232229",
     "exception": false,
     "start_time": "2021-02-11T08:10:08.139485",
     "status": "completed"
    },
    "tags": []
   },
   "outputs": [
    {
     "data": {
      "text/html": [
       "<div>\n",
       "<style scoped>\n",
       "    .dataframe tbody tr th:only-of-type {\n",
       "        vertical-align: middle;\n",
       "    }\n",
       "\n",
       "    .dataframe tbody tr th {\n",
       "        vertical-align: top;\n",
       "    }\n",
       "\n",
       "    .dataframe thead th {\n",
       "        text-align: right;\n",
       "    }\n",
       "</style>\n",
       "<table border=\"1\" class=\"dataframe\">\n",
       "  <thead>\n",
       "    <tr style=\"text-align: right;\">\n",
       "      <th></th>\n",
       "      <th>df</th>\n",
       "      <th>sum_sq</th>\n",
       "      <th>mean_sq</th>\n",
       "      <th>F</th>\n",
       "      <th>PR(&gt;F)</th>\n",
       "    </tr>\n",
       "  </thead>\n",
       "  <tbody>\n",
       "    <tr>\n",
       "      <th>age</th>\n",
       "      <td>1.0</td>\n",
       "      <td>14.638630</td>\n",
       "      <td>14.638630</td>\n",
       "      <td>285.431755</td>\n",
       "      <td>4.991055e-62</td>\n",
       "    </tr>\n",
       "    <tr>\n",
       "      <th>Residual</th>\n",
       "      <td>4251.0</td>\n",
       "      <td>218.016437</td>\n",
       "      <td>0.051286</td>\n",
       "      <td>NaN</td>\n",
       "      <td>NaN</td>\n",
       "    </tr>\n",
       "  </tbody>\n",
       "</table>\n",
       "</div>"
      ],
      "text/plain": [
       "              df      sum_sq    mean_sq           F        PR(>F)\n",
       "age          1.0   14.638630  14.638630  285.431755  4.991055e-62\n",
       "Residual  4251.0  218.016437   0.051286         NaN           NaN"
      ]
     },
     "execution_count": 42,
     "metadata": {},
     "output_type": "execute_result"
    }
   ],
   "source": [
    "res = ols('stroke ~ age', data=data).fit()\n",
    "sm.stats.anova_lm(res)"
   ]
  },
  {
   "cell_type": "code",
   "execution_count": 43,
   "metadata": {
    "execution": {
     "iopub.execute_input": "2021-02-11T08:10:08.365510Z",
     "iopub.status.busy": "2021-02-11T08:10:08.364818Z",
     "iopub.status.idle": "2021-02-11T08:10:08.369407Z",
     "shell.execute_reply": "2021-02-11T08:10:08.368816Z"
    },
    "papermill": {
     "duration": 0.085089,
     "end_time": "2021-02-11T08:10:08.369546",
     "exception": false,
     "start_time": "2021-02-11T08:10:08.284457",
     "status": "completed"
    },
    "tags": []
   },
   "outputs": [
    {
     "data": {
      "text/html": [
       "<div>\n",
       "<style scoped>\n",
       "    .dataframe tbody tr th:only-of-type {\n",
       "        vertical-align: middle;\n",
       "    }\n",
       "\n",
       "    .dataframe tbody tr th {\n",
       "        vertical-align: top;\n",
       "    }\n",
       "\n",
       "    .dataframe thead th {\n",
       "        text-align: right;\n",
       "    }\n",
       "</style>\n",
       "<table border=\"1\" class=\"dataframe\">\n",
       "  <thead>\n",
       "    <tr style=\"text-align: right;\">\n",
       "      <th></th>\n",
       "      <th>gender</th>\n",
       "      <th>age</th>\n",
       "      <th>hypertension</th>\n",
       "      <th>heart_disease</th>\n",
       "      <th>ever_married</th>\n",
       "      <th>work_type</th>\n",
       "      <th>Residence_type</th>\n",
       "      <th>avg_glucose_level</th>\n",
       "      <th>bmi</th>\n",
       "      <th>smoking_status</th>\n",
       "      <th>stroke</th>\n",
       "      <th>categori_age</th>\n",
       "    </tr>\n",
       "  </thead>\n",
       "  <tbody>\n",
       "    <tr>\n",
       "      <th>0</th>\n",
       "      <td>Male</td>\n",
       "      <td>67.0</td>\n",
       "      <td>0</td>\n",
       "      <td>1</td>\n",
       "      <td>Yes</td>\n",
       "      <td>Private</td>\n",
       "      <td>Urban</td>\n",
       "      <td>228.69</td>\n",
       "      <td>36.600000</td>\n",
       "      <td>formerly smoked</td>\n",
       "      <td>1</td>\n",
       "      <td>Seniors</td>\n",
       "    </tr>\n",
       "    <tr>\n",
       "      <th>1</th>\n",
       "      <td>Female</td>\n",
       "      <td>61.0</td>\n",
       "      <td>0</td>\n",
       "      <td>0</td>\n",
       "      <td>Yes</td>\n",
       "      <td>Self-employed</td>\n",
       "      <td>Rural</td>\n",
       "      <td>202.21</td>\n",
       "      <td>28.893237</td>\n",
       "      <td>never smoked</td>\n",
       "      <td>1</td>\n",
       "      <td>Seniors</td>\n",
       "    </tr>\n",
       "    <tr>\n",
       "      <th>2</th>\n",
       "      <td>Male</td>\n",
       "      <td>80.0</td>\n",
       "      <td>0</td>\n",
       "      <td>1</td>\n",
       "      <td>Yes</td>\n",
       "      <td>Private</td>\n",
       "      <td>Rural</td>\n",
       "      <td>105.92</td>\n",
       "      <td>32.500000</td>\n",
       "      <td>never smoked</td>\n",
       "      <td>1</td>\n",
       "      <td>Seniors</td>\n",
       "    </tr>\n",
       "    <tr>\n",
       "      <th>3</th>\n",
       "      <td>Female</td>\n",
       "      <td>49.0</td>\n",
       "      <td>0</td>\n",
       "      <td>0</td>\n",
       "      <td>Yes</td>\n",
       "      <td>Private</td>\n",
       "      <td>Urban</td>\n",
       "      <td>171.23</td>\n",
       "      <td>34.400000</td>\n",
       "      <td>smokes</td>\n",
       "      <td>1</td>\n",
       "      <td>Adults</td>\n",
       "    </tr>\n",
       "    <tr>\n",
       "      <th>4</th>\n",
       "      <td>Female</td>\n",
       "      <td>79.0</td>\n",
       "      <td>1</td>\n",
       "      <td>0</td>\n",
       "      <td>Yes</td>\n",
       "      <td>Self-employed</td>\n",
       "      <td>Rural</td>\n",
       "      <td>174.12</td>\n",
       "      <td>24.000000</td>\n",
       "      <td>never smoked</td>\n",
       "      <td>1</td>\n",
       "      <td>Seniors</td>\n",
       "    </tr>\n",
       "    <tr>\n",
       "      <th>...</th>\n",
       "      <td>...</td>\n",
       "      <td>...</td>\n",
       "      <td>...</td>\n",
       "      <td>...</td>\n",
       "      <td>...</td>\n",
       "      <td>...</td>\n",
       "      <td>...</td>\n",
       "      <td>...</td>\n",
       "      <td>...</td>\n",
       "      <td>...</td>\n",
       "      <td>...</td>\n",
       "      <td>...</td>\n",
       "    </tr>\n",
       "    <tr>\n",
       "      <th>5105</th>\n",
       "      <td>Female</td>\n",
       "      <td>80.0</td>\n",
       "      <td>1</td>\n",
       "      <td>0</td>\n",
       "      <td>Yes</td>\n",
       "      <td>Private</td>\n",
       "      <td>Urban</td>\n",
       "      <td>83.75</td>\n",
       "      <td>28.893237</td>\n",
       "      <td>never smoked</td>\n",
       "      <td>0</td>\n",
       "      <td>Seniors</td>\n",
       "    </tr>\n",
       "    <tr>\n",
       "      <th>5106</th>\n",
       "      <td>Female</td>\n",
       "      <td>81.0</td>\n",
       "      <td>0</td>\n",
       "      <td>0</td>\n",
       "      <td>Yes</td>\n",
       "      <td>Self-employed</td>\n",
       "      <td>Urban</td>\n",
       "      <td>125.20</td>\n",
       "      <td>40.000000</td>\n",
       "      <td>never smoked</td>\n",
       "      <td>0</td>\n",
       "      <td>Seniors</td>\n",
       "    </tr>\n",
       "    <tr>\n",
       "      <th>5107</th>\n",
       "      <td>Female</td>\n",
       "      <td>35.0</td>\n",
       "      <td>0</td>\n",
       "      <td>0</td>\n",
       "      <td>Yes</td>\n",
       "      <td>Self-employed</td>\n",
       "      <td>Rural</td>\n",
       "      <td>82.99</td>\n",
       "      <td>30.600000</td>\n",
       "      <td>never smoked</td>\n",
       "      <td>0</td>\n",
       "      <td>Youth</td>\n",
       "    </tr>\n",
       "    <tr>\n",
       "      <th>5108</th>\n",
       "      <td>Male</td>\n",
       "      <td>51.0</td>\n",
       "      <td>0</td>\n",
       "      <td>0</td>\n",
       "      <td>Yes</td>\n",
       "      <td>Private</td>\n",
       "      <td>Rural</td>\n",
       "      <td>166.29</td>\n",
       "      <td>25.600000</td>\n",
       "      <td>formerly smoked</td>\n",
       "      <td>0</td>\n",
       "      <td>Adults</td>\n",
       "    </tr>\n",
       "    <tr>\n",
       "      <th>5109</th>\n",
       "      <td>Female</td>\n",
       "      <td>44.0</td>\n",
       "      <td>0</td>\n",
       "      <td>0</td>\n",
       "      <td>Yes</td>\n",
       "      <td>Govt_job</td>\n",
       "      <td>Urban</td>\n",
       "      <td>85.28</td>\n",
       "      <td>26.200000</td>\n",
       "      <td>Unknown</td>\n",
       "      <td>0</td>\n",
       "      <td>Adults</td>\n",
       "    </tr>\n",
       "  </tbody>\n",
       "</table>\n",
       "<p>4253 rows × 12 columns</p>\n",
       "</div>"
      ],
      "text/plain": [
       "      gender   age  hypertension  heart_disease ever_married      work_type  \\\n",
       "0       Male  67.0             0              1          Yes        Private   \n",
       "1     Female  61.0             0              0          Yes  Self-employed   \n",
       "2       Male  80.0             0              1          Yes        Private   \n",
       "3     Female  49.0             0              0          Yes        Private   \n",
       "4     Female  79.0             1              0          Yes  Self-employed   \n",
       "...      ...   ...           ...            ...          ...            ...   \n",
       "5105  Female  80.0             1              0          Yes        Private   \n",
       "5106  Female  81.0             0              0          Yes  Self-employed   \n",
       "5107  Female  35.0             0              0          Yes  Self-employed   \n",
       "5108    Male  51.0             0              0          Yes        Private   \n",
       "5109  Female  44.0             0              0          Yes       Govt_job   \n",
       "\n",
       "     Residence_type  avg_glucose_level        bmi   smoking_status  stroke  \\\n",
       "0             Urban             228.69  36.600000  formerly smoked       1   \n",
       "1             Rural             202.21  28.893237     never smoked       1   \n",
       "2             Rural             105.92  32.500000     never smoked       1   \n",
       "3             Urban             171.23  34.400000           smokes       1   \n",
       "4             Rural             174.12  24.000000     never smoked       1   \n",
       "...             ...                ...        ...              ...     ...   \n",
       "5105          Urban              83.75  28.893237     never smoked       0   \n",
       "5106          Urban             125.20  40.000000     never smoked       0   \n",
       "5107          Rural              82.99  30.600000     never smoked       0   \n",
       "5108          Rural             166.29  25.600000  formerly smoked       0   \n",
       "5109          Urban              85.28  26.200000          Unknown       0   \n",
       "\n",
       "     categori_age  \n",
       "0        Seniors   \n",
       "1        Seniors   \n",
       "2        Seniors   \n",
       "3         Adults   \n",
       "4        Seniors   \n",
       "...           ...  \n",
       "5105     Seniors   \n",
       "5106     Seniors   \n",
       "5107       Youth   \n",
       "5108      Adults   \n",
       "5109      Adults   \n",
       "\n",
       "[4253 rows x 12 columns]"
      ]
     },
     "execution_count": 43,
     "metadata": {},
     "output_type": "execute_result"
    }
   ],
   "source": [
    "data"
   ]
  },
  {
   "cell_type": "code",
   "execution_count": 44,
   "metadata": {
    "execution": {
     "iopub.execute_input": "2021-02-11T08:10:08.481681Z",
     "iopub.status.busy": "2021-02-11T08:10:08.481042Z",
     "iopub.status.idle": "2021-02-11T08:10:08.494125Z",
     "shell.execute_reply": "2021-02-11T08:10:08.493532Z"
    },
    "papermill": {
     "duration": 0.071969,
     "end_time": "2021-02-11T08:10:08.494258",
     "exception": false,
     "start_time": "2021-02-11T08:10:08.422289",
     "status": "completed"
    },
    "tags": []
   },
   "outputs": [
    {
     "data": {
      "text/plain": [
       "gender  categori_age\n",
       "Female  Youth           853\n",
       "        Adults          962\n",
       "        Seniors         761\n",
       "Male    Youth           460\n",
       "        Adults          674\n",
       "        Seniors         543\n",
       "Name: stroke, dtype: int64"
      ]
     },
     "execution_count": 44,
     "metadata": {},
     "output_type": "execute_result"
    }
   ],
   "source": [
    "data.groupby(['gender', 'categori_age'])['stroke'].size()"
   ]
  },
  {
   "cell_type": "code",
   "execution_count": 45,
   "metadata": {
    "execution": {
     "iopub.execute_input": "2021-02-11T08:10:08.610279Z",
     "iopub.status.busy": "2021-02-11T08:10:08.609342Z",
     "iopub.status.idle": "2021-02-11T08:10:08.817906Z",
     "shell.execute_reply": "2021-02-11T08:10:08.817432Z"
    },
    "papermill": {
     "duration": 0.27023,
     "end_time": "2021-02-11T08:10:08.818054",
     "exception": false,
     "start_time": "2021-02-11T08:10:08.547824",
     "status": "completed"
    },
    "tags": []
   },
   "outputs": [
    {
     "data": {
      "text/plain": [
       "<AxesSubplot:xlabel='stroke'>"
      ]
     },
     "execution_count": 45,
     "metadata": {},
     "output_type": "execute_result"
    },
    {
     "data": {
      "image/png": "[encoded data removed]",
      "text/plain": [
       "<Figure size 1080x576 with 1 Axes>"
      ]
     },
     "metadata": {
      "needs_background": "light"
     },
     "output_type": "display_data"
    }
   ],
   "source": [
    "data.pivot_table(values='age', columns='categori_age', index='stroke', aggfunc='count').plot(kind='bar', figsize=(15, 8))"
   ]
  },
  {
   "cell_type": "code",
   "execution_count": 46,
   "metadata": {
    "execution": {
     "iopub.execute_input": "2021-02-11T08:10:08.938401Z",
     "iopub.status.busy": "2021-02-11T08:10:08.937751Z",
     "iopub.status.idle": "2021-02-11T08:10:09.099430Z",
     "shell.execute_reply": "2021-02-11T08:10:09.098884Z"
    },
    "papermill": {
     "duration": 0.224495,
     "end_time": "2021-02-11T08:10:09.099575",
     "exception": false,
     "start_time": "2021-02-11T08:10:08.875080",
     "status": "completed"
    },
    "tags": []
   },
   "outputs": [
    {
     "data": {
      "text/plain": [
       "<AxesSubplot:xlabel='Residence_type,work_type'>"
      ]
     },
     "execution_count": 46,
     "metadata": {},
     "output_type": "execute_result"
    },
    {
     "data": {
      "image/png": "[encoded data removed]",
      "text/plain": [
       "<Figure size 432x288 with 1 Axes>"
      ]
     },
     "metadata": {
      "needs_background": "light"
     },
     "output_type": "display_data"
    }
   ],
   "source": [
    "data.groupby(['Residence_type', 'work_type'])['stroke'].size().plot(kind='bar')"
   ]
  },
  {
   "cell_type": "code",
   "execution_count": 47,
   "metadata": {
    "execution": {
     "iopub.execute_input": "2021-02-11T08:10:09.239997Z",
     "iopub.status.busy": "2021-02-11T08:10:09.222477Z",
     "iopub.status.idle": "2021-02-11T08:10:09.245173Z",
     "shell.execute_reply": "2021-02-11T08:10:09.245611Z"
    },
    "papermill": {
     "duration": 0.090446,
     "end_time": "2021-02-11T08:10:09.245791",
     "exception": false,
     "start_time": "2021-02-11T08:10:09.155345",
     "status": "completed"
    },
    "tags": []
   },
   "outputs": [
    {
     "data": {
      "text/html": [
       "<div>\n",
       "<style scoped>\n",
       "    .dataframe tbody tr th:only-of-type {\n",
       "        vertical-align: middle;\n",
       "    }\n",
       "\n",
       "    .dataframe tbody tr th {\n",
       "        vertical-align: top;\n",
       "    }\n",
       "\n",
       "    .dataframe thead th {\n",
       "        text-align: right;\n",
       "    }\n",
       "</style>\n",
       "<table border=\"1\" class=\"dataframe\">\n",
       "  <thead>\n",
       "    <tr style=\"text-align: right;\">\n",
       "      <th></th>\n",
       "      <th>gender</th>\n",
       "      <th>age</th>\n",
       "      <th>hypertension</th>\n",
       "      <th>heart_disease</th>\n",
       "      <th>ever_married</th>\n",
       "      <th>work_type</th>\n",
       "      <th>Residence_type</th>\n",
       "      <th>avg_glucose_level</th>\n",
       "      <th>bmi</th>\n",
       "      <th>smoking_status</th>\n",
       "      <th>stroke</th>\n",
       "      <th>categori_age</th>\n",
       "    </tr>\n",
       "  </thead>\n",
       "  <tbody>\n",
       "    <tr>\n",
       "      <th>0</th>\n",
       "      <td>Male</td>\n",
       "      <td>67.0</td>\n",
       "      <td>0</td>\n",
       "      <td>1</td>\n",
       "      <td>Yes</td>\n",
       "      <td>Private</td>\n",
       "      <td>Urban</td>\n",
       "      <td>228.69</td>\n",
       "      <td>36.600000</td>\n",
       "      <td>formerly smoked</td>\n",
       "      <td>1</td>\n",
       "      <td>Seniors</td>\n",
       "    </tr>\n",
       "    <tr>\n",
       "      <th>1</th>\n",
       "      <td>Female</td>\n",
       "      <td>61.0</td>\n",
       "      <td>0</td>\n",
       "      <td>0</td>\n",
       "      <td>Yes</td>\n",
       "      <td>Self-employed</td>\n",
       "      <td>Rural</td>\n",
       "      <td>202.21</td>\n",
       "      <td>28.893237</td>\n",
       "      <td>never smoked</td>\n",
       "      <td>1</td>\n",
       "      <td>Seniors</td>\n",
       "    </tr>\n",
       "    <tr>\n",
       "      <th>2</th>\n",
       "      <td>Male</td>\n",
       "      <td>80.0</td>\n",
       "      <td>0</td>\n",
       "      <td>1</td>\n",
       "      <td>Yes</td>\n",
       "      <td>Private</td>\n",
       "      <td>Rural</td>\n",
       "      <td>105.92</td>\n",
       "      <td>32.500000</td>\n",
       "      <td>never smoked</td>\n",
       "      <td>1</td>\n",
       "      <td>Seniors</td>\n",
       "    </tr>\n",
       "    <tr>\n",
       "      <th>3</th>\n",
       "      <td>Female</td>\n",
       "      <td>49.0</td>\n",
       "      <td>0</td>\n",
       "      <td>0</td>\n",
       "      <td>Yes</td>\n",
       "      <td>Private</td>\n",
       "      <td>Urban</td>\n",
       "      <td>171.23</td>\n",
       "      <td>34.400000</td>\n",
       "      <td>smokes</td>\n",
       "      <td>1</td>\n",
       "      <td>Adults</td>\n",
       "    </tr>\n",
       "    <tr>\n",
       "      <th>4</th>\n",
       "      <td>Female</td>\n",
       "      <td>79.0</td>\n",
       "      <td>1</td>\n",
       "      <td>0</td>\n",
       "      <td>Yes</td>\n",
       "      <td>Self-employed</td>\n",
       "      <td>Rural</td>\n",
       "      <td>174.12</td>\n",
       "      <td>24.000000</td>\n",
       "      <td>never smoked</td>\n",
       "      <td>1</td>\n",
       "      <td>Seniors</td>\n",
       "    </tr>\n",
       "    <tr>\n",
       "      <th>...</th>\n",
       "      <td>...</td>\n",
       "      <td>...</td>\n",
       "      <td>...</td>\n",
       "      <td>...</td>\n",
       "      <td>...</td>\n",
       "      <td>...</td>\n",
       "      <td>...</td>\n",
       "      <td>...</td>\n",
       "      <td>...</td>\n",
       "      <td>...</td>\n",
       "      <td>...</td>\n",
       "      <td>...</td>\n",
       "    </tr>\n",
       "    <tr>\n",
       "      <th>5105</th>\n",
       "      <td>Female</td>\n",
       "      <td>80.0</td>\n",
       "      <td>1</td>\n",
       "      <td>0</td>\n",
       "      <td>Yes</td>\n",
       "      <td>Private</td>\n",
       "      <td>Urban</td>\n",
       "      <td>83.75</td>\n",
       "      <td>28.893237</td>\n",
       "      <td>never smoked</td>\n",
       "      <td>0</td>\n",
       "      <td>Seniors</td>\n",
       "    </tr>\n",
       "    <tr>\n",
       "      <th>5106</th>\n",
       "      <td>Female</td>\n",
       "      <td>81.0</td>\n",
       "      <td>0</td>\n",
       "      <td>0</td>\n",
       "      <td>Yes</td>\n",
       "      <td>Self-employed</td>\n",
       "      <td>Urban</td>\n",
       "      <td>125.20</td>\n",
       "      <td>40.000000</td>\n",
       "      <td>never smoked</td>\n",
       "      <td>0</td>\n",
       "      <td>Seniors</td>\n",
       "    </tr>\n",
       "    <tr>\n",
       "      <th>5107</th>\n",
       "      <td>Female</td>\n",
       "      <td>35.0</td>\n",
       "      <td>0</td>\n",
       "      <td>0</td>\n",
       "      <td>Yes</td>\n",
       "      <td>Self-employed</td>\n",
       "      <td>Rural</td>\n",
       "      <td>82.99</td>\n",
       "      <td>30.600000</td>\n",
       "      <td>never smoked</td>\n",
       "      <td>0</td>\n",
       "      <td>Youth</td>\n",
       "    </tr>\n",
       "    <tr>\n",
       "      <th>5108</th>\n",
       "      <td>Male</td>\n",
       "      <td>51.0</td>\n",
       "      <td>0</td>\n",
       "      <td>0</td>\n",
       "      <td>Yes</td>\n",
       "      <td>Private</td>\n",
       "      <td>Rural</td>\n",
       "      <td>166.29</td>\n",
       "      <td>25.600000</td>\n",
       "      <td>formerly smoked</td>\n",
       "      <td>0</td>\n",
       "      <td>Adults</td>\n",
       "    </tr>\n",
       "    <tr>\n",
       "      <th>5109</th>\n",
       "      <td>Female</td>\n",
       "      <td>44.0</td>\n",
       "      <td>0</td>\n",
       "      <td>0</td>\n",
       "      <td>Yes</td>\n",
       "      <td>Govt_job</td>\n",
       "      <td>Urban</td>\n",
       "      <td>85.28</td>\n",
       "      <td>26.200000</td>\n",
       "      <td>Unknown</td>\n",
       "      <td>0</td>\n",
       "      <td>Adults</td>\n",
       "    </tr>\n",
       "  </tbody>\n",
       "</table>\n",
       "<p>4253 rows × 12 columns</p>\n",
       "</div>"
      ],
      "text/plain": [
       "      gender   age  hypertension  heart_disease ever_married      work_type  \\\n",
       "0       Male  67.0             0              1          Yes        Private   \n",
       "1     Female  61.0             0              0          Yes  Self-employed   \n",
       "2       Male  80.0             0              1          Yes        Private   \n",
       "3     Female  49.0             0              0          Yes        Private   \n",
       "4     Female  79.0             1              0          Yes  Self-employed   \n",
       "...      ...   ...           ...            ...          ...            ...   \n",
       "5105  Female  80.0             1              0          Yes        Private   \n",
       "5106  Female  81.0             0              0          Yes  Self-employed   \n",
       "5107  Female  35.0             0              0          Yes  Self-employed   \n",
       "5108    Male  51.0             0              0          Yes        Private   \n",
       "5109  Female  44.0             0              0          Yes       Govt_job   \n",
       "\n",
       "     Residence_type  avg_glucose_level        bmi   smoking_status  stroke  \\\n",
       "0             Urban             228.69  36.600000  formerly smoked       1   \n",
       "1             Rural             202.21  28.893237     never smoked       1   \n",
       "2             Rural             105.92  32.500000     never smoked       1   \n",
       "3             Urban             171.23  34.400000           smokes       1   \n",
       "4             Rural             174.12  24.000000     never smoked       1   \n",
       "...             ...                ...        ...              ...     ...   \n",
       "5105          Urban              83.75  28.893237     never smoked       0   \n",
       "5106          Urban             125.20  40.000000     never smoked       0   \n",
       "5107          Rural              82.99  30.600000     never smoked       0   \n",
       "5108          Rural             166.29  25.600000  formerly smoked       0   \n",
       "5109          Urban              85.28  26.200000          Unknown       0   \n",
       "\n",
       "     categori_age  \n",
       "0        Seniors   \n",
       "1        Seniors   \n",
       "2        Seniors   \n",
       "3         Adults   \n",
       "4        Seniors   \n",
       "...           ...  \n",
       "5105     Seniors   \n",
       "5106     Seniors   \n",
       "5107       Youth   \n",
       "5108      Adults   \n",
       "5109      Adults   \n",
       "\n",
       "[4253 rows x 12 columns]"
      ]
     },
     "execution_count": 47,
     "metadata": {},
     "output_type": "execute_result"
    }
   ],
   "source": [
    "data"
   ]
  },
  {
   "cell_type": "code",
   "execution_count": 48,
   "metadata": {
    "execution": {
     "iopub.execute_input": "2021-02-11T08:10:09.364651Z",
     "iopub.status.busy": "2021-02-11T08:10:09.363750Z",
     "iopub.status.idle": "2021-02-11T08:10:09.716446Z",
     "shell.execute_reply": "2021-02-11T08:10:09.715776Z"
    },
    "papermill": {
     "duration": 0.414815,
     "end_time": "2021-02-11T08:10:09.716648",
     "exception": false,
     "start_time": "2021-02-11T08:10:09.301833",
     "status": "completed"
    },
    "tags": []
   },
   "outputs": [
    {
     "data": {
      "text/plain": [
       "<seaborn.axisgrid.FacetGrid at 0x7f7710e22550>"
      ]
     },
     "execution_count": 48,
     "metadata": {},
     "output_type": "execute_result"
    },
    {
     "data": {
      "image/png": "[encoded data removed]",
      "text/plain": [
       "<Figure size 402.375x360 with 1 Axes>"
      ]
     },
     "metadata": {
      "needs_background": "light"
     },
     "output_type": "display_data"
    }
   ],
   "source": [
    "sns.catplot(\n",
    "    data=data, kind=\"bar\",\n",
    "    x=\"gender\", y=\"heart_disease\", hue=\"stroke\",\n",
    "    ci=\"sd\", palette=\"dark\"\n",
    ")"
   ]
  },
  {
   "cell_type": "code",
   "execution_count": 49,
   "metadata": {
    "execution": {
     "iopub.execute_input": "2021-02-11T08:10:09.855054Z",
     "iopub.status.busy": "2021-02-11T08:10:09.854428Z",
     "iopub.status.idle": "2021-02-11T08:10:10.029754Z",
     "shell.execute_reply": "2021-02-11T08:10:10.029246Z"
    },
    "papermill": {
     "duration": 0.255965,
     "end_time": "2021-02-11T08:10:10.029893",
     "exception": false,
     "start_time": "2021-02-11T08:10:09.773928",
     "status": "completed"
    },
    "tags": []
   },
   "outputs": [
    {
     "data": {
      "text/plain": [
       "<matplotlib.collections.PathCollection at 0x7f7710f996d0>"
      ]
     },
     "execution_count": 49,
     "metadata": {},
     "output_type": "execute_result"
    },
    {
     "data": {
      "image/png": "[encoded data removed]",
      "text/plain": [
       "<Figure size 720x720 with 1 Axes>"
      ]
     },
     "metadata": {
      "needs_background": "light"
     },
     "output_type": "display_data"
    }
   ],
   "source": [
    "plt.figure(figsize=(10, 10))\n",
    "plt.hlines(40, 20, 80, color='black')\n",
    "plt.scatter(x=data['age'], y=data['bmi'], color='red')"
   ]
  },
  {
   "cell_type": "markdown",
   "metadata": {
    "papermill": {
     "duration": 0.058815,
     "end_time": "2021-02-11T08:10:10.147515",
     "exception": false,
     "start_time": "2021-02-11T08:10:10.088700",
     "status": "completed"
    },
    "tags": []
   },
   "source": [
    "# Convert To Numerical:"
   ]
  },
  {
   "cell_type": "code",
   "execution_count": 50,
   "metadata": {
    "execution": {
     "iopub.execute_input": "2021-02-11T08:10:10.272425Z",
     "iopub.status.busy": "2021-02-11T08:10:10.270176Z",
     "iopub.status.idle": "2021-02-11T08:10:10.362722Z",
     "shell.execute_reply": "2021-02-11T08:10:10.362063Z"
    },
    "papermill": {
     "duration": 0.156715,
     "end_time": "2021-02-11T08:10:10.362858",
     "exception": false,
     "start_time": "2021-02-11T08:10:10.206143",
     "status": "completed"
    },
    "tags": []
   },
   "outputs": [],
   "source": [
    "data['gender'] = pd.get_dummies(data['gender'])\n",
    "data['Residence_type'] = pd.get_dummies(data['Residence_type'])\n",
    "data['ever_married'] = pd.get_dummies(data['ever_married'])\n",
    "from sklearn.preprocessing import OneHotEncoder, LabelEncoder\n",
    "from sklearn.compose import make_column_transformer\n",
    "##                              *** For Machine Learning use ohe ***\n",
    "#ohe = make_column_transformer((OneHotEncoder(), ['work_type', 'smoking_status', 'categori_age']), remainder='passthrough')\n",
    "#data = ohe.fit_transform(data)"
   ]
  },
  {
   "cell_type": "code",
   "execution_count": 51,
   "metadata": {
    "execution": {
     "iopub.execute_input": "2021-02-11T08:10:10.491106Z",
     "iopub.status.busy": "2021-02-11T08:10:10.490359Z",
     "iopub.status.idle": "2021-02-11T08:10:10.493487Z",
     "shell.execute_reply": "2021-02-11T08:10:10.492883Z"
    },
    "papermill": {
     "duration": 0.072231,
     "end_time": "2021-02-11T08:10:10.493624",
     "exception": false,
     "start_time": "2021-02-11T08:10:10.421393",
     "status": "completed"
    },
    "tags": []
   },
   "outputs": [],
   "source": [
    "label = LabelEncoder()\n",
    "data['work_type'] = label.fit_transform(data['work_type'])\n",
    "data['smoking_status'] = label.fit_transform(data['smoking_status'])\n",
    "data['categori_age'] = label.fit_transform(data['categori_age'])\n"
   ]
  },
  {
   "cell_type": "code",
   "execution_count": 52,
   "metadata": {
    "execution": {
     "iopub.execute_input": "2021-02-11T08:10:10.620045Z",
     "iopub.status.busy": "2021-02-11T08:10:10.619459Z",
     "iopub.status.idle": "2021-02-11T08:10:10.625237Z",
     "shell.execute_reply": "2021-02-11T08:10:10.624756Z"
    },
    "papermill": {
     "duration": 0.071144,
     "end_time": "2021-02-11T08:10:10.625408",
     "exception": false,
     "start_time": "2021-02-11T08:10:10.554264",
     "status": "completed"
    },
    "tags": []
   },
   "outputs": [],
   "source": [
    "data.drop('age', inplace=True, axis=1)"
   ]
  },
  {
   "cell_type": "code",
   "execution_count": 53,
   "metadata": {
    "execution": {
     "iopub.execute_input": "2021-02-11T08:10:10.750601Z",
     "iopub.status.busy": "2021-02-11T08:10:10.749974Z",
     "iopub.status.idle": "2021-02-11T08:10:10.754588Z",
     "shell.execute_reply": "2021-02-11T08:10:10.755005Z"
    },
    "papermill": {
     "duration": 0.071178,
     "end_time": "2021-02-11T08:10:10.755180",
     "exception": false,
     "start_time": "2021-02-11T08:10:10.684002",
     "status": "completed"
    },
    "tags": []
   },
   "outputs": [],
   "source": [
    "from sklearn.preprocessing import StandardScaler\n",
    "stn = StandardScaler()\n",
    "data['avg_glucose_level'] = stn.fit_transform(data['avg_glucose_level'].values.reshape(-1, 1))\n",
    "data['bmi'] = stn.fit_transform(data['bmi'].values.reshape(-1, 1))\n"
   ]
  },
  {
   "cell_type": "code",
   "execution_count": 54,
   "metadata": {
    "execution": {
     "iopub.execute_input": "2021-02-11T08:10:10.879532Z",
     "iopub.status.busy": "2021-02-11T08:10:10.878635Z",
     "iopub.status.idle": "2021-02-11T08:10:10.898102Z",
     "shell.execute_reply": "2021-02-11T08:10:10.898546Z"
    },
    "papermill": {
     "duration": 0.083824,
     "end_time": "2021-02-11T08:10:10.898722",
     "exception": false,
     "start_time": "2021-02-11T08:10:10.814898",
     "status": "completed"
    },
    "tags": []
   },
   "outputs": [
    {
     "data": {
      "text/html": [
       "<div>\n",
       "<style scoped>\n",
       "    .dataframe tbody tr th:only-of-type {\n",
       "        vertical-align: middle;\n",
       "    }\n",
       "\n",
       "    .dataframe tbody tr th {\n",
       "        vertical-align: top;\n",
       "    }\n",
       "\n",
       "    .dataframe thead th {\n",
       "        text-align: right;\n",
       "    }\n",
       "</style>\n",
       "<table border=\"1\" class=\"dataframe\">\n",
       "  <thead>\n",
       "    <tr style=\"text-align: right;\">\n",
       "      <th></th>\n",
       "      <th>gender</th>\n",
       "      <th>hypertension</th>\n",
       "      <th>heart_disease</th>\n",
       "      <th>ever_married</th>\n",
       "      <th>work_type</th>\n",
       "      <th>Residence_type</th>\n",
       "      <th>avg_glucose_level</th>\n",
       "      <th>bmi</th>\n",
       "      <th>smoking_status</th>\n",
       "      <th>stroke</th>\n",
       "      <th>categori_age</th>\n",
       "    </tr>\n",
       "  </thead>\n",
       "  <tbody>\n",
       "    <tr>\n",
       "      <th>0</th>\n",
       "      <td>0</td>\n",
       "      <td>0</td>\n",
       "      <td>1</td>\n",
       "      <td>0</td>\n",
       "      <td>2</td>\n",
       "      <td>0</td>\n",
       "      <td>2.516073</td>\n",
       "      <td>0.879412</td>\n",
       "      <td>1</td>\n",
       "      <td>1</td>\n",
       "      <td>1</td>\n",
       "    </tr>\n",
       "    <tr>\n",
       "      <th>1</th>\n",
       "      <td>1</td>\n",
       "      <td>0</td>\n",
       "      <td>0</td>\n",
       "      <td>0</td>\n",
       "      <td>3</td>\n",
       "      <td>1</td>\n",
       "      <td>1.961709</td>\n",
       "      <td>-0.208303</td>\n",
       "      <td>2</td>\n",
       "      <td>1</td>\n",
       "      <td>1</td>\n",
       "    </tr>\n",
       "    <tr>\n",
       "      <th>2</th>\n",
       "      <td>0</td>\n",
       "      <td>0</td>\n",
       "      <td>1</td>\n",
       "      <td>0</td>\n",
       "      <td>2</td>\n",
       "      <td>1</td>\n",
       "      <td>-0.054143</td>\n",
       "      <td>0.300747</td>\n",
       "      <td>2</td>\n",
       "      <td>1</td>\n",
       "      <td>1</td>\n",
       "    </tr>\n",
       "    <tr>\n",
       "      <th>3</th>\n",
       "      <td>1</td>\n",
       "      <td>0</td>\n",
       "      <td>0</td>\n",
       "      <td>0</td>\n",
       "      <td>2</td>\n",
       "      <td>0</td>\n",
       "      <td>1.313136</td>\n",
       "      <td>0.568909</td>\n",
       "      <td>3</td>\n",
       "      <td>1</td>\n",
       "      <td>0</td>\n",
       "    </tr>\n",
       "    <tr>\n",
       "      <th>4</th>\n",
       "      <td>1</td>\n",
       "      <td>1</td>\n",
       "      <td>0</td>\n",
       "      <td>0</td>\n",
       "      <td>3</td>\n",
       "      <td>1</td>\n",
       "      <td>1.373639</td>\n",
       "      <td>-0.898924</td>\n",
       "      <td>2</td>\n",
       "      <td>1</td>\n",
       "      <td>1</td>\n",
       "    </tr>\n",
       "    <tr>\n",
       "      <th>...</th>\n",
       "      <td>...</td>\n",
       "      <td>...</td>\n",
       "      <td>...</td>\n",
       "      <td>...</td>\n",
       "      <td>...</td>\n",
       "      <td>...</td>\n",
       "      <td>...</td>\n",
       "      <td>...</td>\n",
       "      <td>...</td>\n",
       "      <td>...</td>\n",
       "      <td>...</td>\n",
       "    </tr>\n",
       "    <tr>\n",
       "      <th>5105</th>\n",
       "      <td>1</td>\n",
       "      <td>1</td>\n",
       "      <td>0</td>\n",
       "      <td>0</td>\n",
       "      <td>2</td>\n",
       "      <td>0</td>\n",
       "      <td>-0.518276</td>\n",
       "      <td>-0.208303</td>\n",
       "      <td>2</td>\n",
       "      <td>0</td>\n",
       "      <td>1</td>\n",
       "    </tr>\n",
       "    <tr>\n",
       "      <th>5106</th>\n",
       "      <td>1</td>\n",
       "      <td>0</td>\n",
       "      <td>0</td>\n",
       "      <td>0</td>\n",
       "      <td>3</td>\n",
       "      <td>0</td>\n",
       "      <td>0.349488</td>\n",
       "      <td>1.359281</td>\n",
       "      <td>2</td>\n",
       "      <td>0</td>\n",
       "      <td>1</td>\n",
       "    </tr>\n",
       "    <tr>\n",
       "      <th>5107</th>\n",
       "      <td>1</td>\n",
       "      <td>0</td>\n",
       "      <td>0</td>\n",
       "      <td>0</td>\n",
       "      <td>3</td>\n",
       "      <td>1</td>\n",
       "      <td>-0.534187</td>\n",
       "      <td>0.032586</td>\n",
       "      <td>2</td>\n",
       "      <td>0</td>\n",
       "      <td>2</td>\n",
       "    </tr>\n",
       "    <tr>\n",
       "      <th>5108</th>\n",
       "      <td>0</td>\n",
       "      <td>0</td>\n",
       "      <td>0</td>\n",
       "      <td>0</td>\n",
       "      <td>2</td>\n",
       "      <td>1</td>\n",
       "      <td>1.209716</td>\n",
       "      <td>-0.673103</td>\n",
       "      <td>1</td>\n",
       "      <td>0</td>\n",
       "      <td>0</td>\n",
       "    </tr>\n",
       "    <tr>\n",
       "      <th>5109</th>\n",
       "      <td>1</td>\n",
       "      <td>0</td>\n",
       "      <td>0</td>\n",
       "      <td>0</td>\n",
       "      <td>0</td>\n",
       "      <td>0</td>\n",
       "      <td>-0.486246</td>\n",
       "      <td>-0.588421</td>\n",
       "      <td>0</td>\n",
       "      <td>0</td>\n",
       "      <td>0</td>\n",
       "    </tr>\n",
       "  </tbody>\n",
       "</table>\n",
       "<p>4253 rows × 11 columns</p>\n",
       "</div>"
      ],
      "text/plain": [
       "      gender  hypertension  heart_disease  ever_married  work_type  \\\n",
       "0          0             0              1             0          2   \n",
       "1          1             0              0             0          3   \n",
       "2          0             0              1             0          2   \n",
       "3          1             0              0             0          2   \n",
       "4          1             1              0             0          3   \n",
       "...      ...           ...            ...           ...        ...   \n",
       "5105       1             1              0             0          2   \n",
       "5106       1             0              0             0          3   \n",
       "5107       1             0              0             0          3   \n",
       "5108       0             0              0             0          2   \n",
       "5109       1             0              0             0          0   \n",
       "\n",
       "      Residence_type  avg_glucose_level       bmi  smoking_status  stroke  \\\n",
       "0                  0           2.516073  0.879412               1       1   \n",
       "1                  1           1.961709 -0.208303               2       1   \n",
       "2                  1          -0.054143  0.300747               2       1   \n",
       "3                  0           1.313136  0.568909               3       1   \n",
       "4                  1           1.373639 -0.898924               2       1   \n",
       "...              ...                ...       ...             ...     ...   \n",
       "5105               0          -0.518276 -0.208303               2       0   \n",
       "5106               0           0.349488  1.359281               2       0   \n",
       "5107               1          -0.534187  0.032586               2       0   \n",
       "5108               1           1.209716 -0.673103               1       0   \n",
       "5109               0          -0.486246 -0.588421               0       0   \n",
       "\n",
       "      categori_age  \n",
       "0                1  \n",
       "1                1  \n",
       "2                1  \n",
       "3                0  \n",
       "4                1  \n",
       "...            ...  \n",
       "5105             1  \n",
       "5106             1  \n",
       "5107             2  \n",
       "5108             0  \n",
       "5109             0  \n",
       "\n",
       "[4253 rows x 11 columns]"
      ]
     },
     "execution_count": 54,
     "metadata": {},
     "output_type": "execute_result"
    }
   ],
   "source": [
    "data"
   ]
  },
  {
   "cell_type": "markdown",
   "metadata": {
    "papermill": {
     "duration": 0.059801,
     "end_time": "2021-02-11T08:10:11.020539",
     "exception": false,
     "start_time": "2021-02-11T08:10:10.960738",
     "status": "completed"
    },
    "tags": []
   },
   "source": [
    "# Feature Selcetion\n",
    "## Chi2"
   ]
  },
  {
   "cell_type": "code",
   "execution_count": 55,
   "metadata": {
    "execution": {
     "iopub.execute_input": "2021-02-11T08:10:11.144934Z",
     "iopub.status.busy": "2021-02-11T08:10:11.144002Z",
     "iopub.status.idle": "2021-02-11T08:10:11.418124Z",
     "shell.execute_reply": "2021-02-11T08:10:11.417564Z"
    },
    "papermill": {
     "duration": 0.338036,
     "end_time": "2021-02-11T08:10:11.418283",
     "exception": false,
     "start_time": "2021-02-11T08:10:11.080247",
     "status": "completed"
    },
    "tags": []
   },
   "outputs": [
    {
     "name": "stdout",
     "output_type": "stream",
     "text": [
      "             feature      score\n",
      "2      heart_disease  64.000522\n",
      "1       hypertension  50.724115\n",
      "6  avg_glucose_level  40.083305\n",
      "3       ever_married  12.969284\n",
      "9       categori_age   7.162684\n"
     ]
    }
   ],
   "source": [
    "from sklearn.feature_selection import chi2, SelectKBest\n",
    "\n",
    "x = data.drop('stroke', axis=1)\n",
    "y =  data['stroke']\n",
    "best_f = SelectKBest(chi2, k=5)\n",
    "best_f.fit_transform(abs(x), y)\n",
    "\n",
    "\n",
    "dfscores = pd.DataFrame(best_f.scores_)\n",
    "dfcolumns = pd.DataFrame(x.columns)\n",
    "\n",
    "featureScores = pd.concat([dfcolumns,dfscores],axis=1)\n",
    "\n",
    "featureScores.columns = ['feature','score']  \n",
    "print(featureScores.nlargest(5,'score')) "
   ]
  },
  {
   "cell_type": "code",
   "execution_count": 56,
   "metadata": {
    "execution": {
     "iopub.execute_input": "2021-02-11T08:10:11.546938Z",
     "iopub.status.busy": "2021-02-11T08:10:11.546216Z",
     "iopub.status.idle": "2021-02-11T08:10:12.368087Z",
     "shell.execute_reply": "2021-02-11T08:10:12.367283Z"
    },
    "papermill": {
     "duration": 0.88896,
     "end_time": "2021-02-11T08:10:12.368228",
     "exception": false,
     "start_time": "2021-02-11T08:10:11.479268",
     "status": "completed"
    },
    "tags": []
   },
   "outputs": [
    {
     "data": {
      "text/plain": [
       "<AxesSubplot:>"
      ]
     },
     "execution_count": 56,
     "metadata": {},
     "output_type": "execute_result"
    },
    {
     "data": {
      "image/png": "[encoded data removed]",
      "text/plain": [
       "<Figure size 576x576 with 2 Axes>"
      ]
     },
     "metadata": {
      "needs_background": "light"
     },
     "output_type": "display_data"
    }
   ],
   "source": [
    "plt.figure(figsize=(8, 8))\n",
    "sns.heatmap(x.corr(), annot=True)"
   ]
  },
  {
   "cell_type": "code",
   "execution_count": 57,
   "metadata": {
    "execution": {
     "iopub.execute_input": "2021-02-11T08:10:12.497279Z",
     "iopub.status.busy": "2021-02-11T08:10:12.496729Z",
     "iopub.status.idle": "2021-02-11T08:10:12.502269Z",
     "shell.execute_reply": "2021-02-11T08:10:12.502772Z"
    },
    "papermill": {
     "duration": 0.071343,
     "end_time": "2021-02-11T08:10:12.502934",
     "exception": false,
     "start_time": "2021-02-11T08:10:12.431591",
     "status": "completed"
    },
    "tags": []
   },
   "outputs": [],
   "source": [
    "from sklearn.model_selection import train_test_split\n",
    "x_train, x_test, y_train, y_test = train_test_split(x, y, test_size=0.3)"
   ]
  },
  {
   "cell_type": "code",
   "execution_count": 58,
   "metadata": {
    "execution": {
     "iopub.execute_input": "2021-02-11T08:10:12.631254Z",
     "iopub.status.busy": "2021-02-11T08:10:12.630700Z",
     "iopub.status.idle": "2021-02-11T08:10:12.635814Z",
     "shell.execute_reply": "2021-02-11T08:10:12.635318Z"
    },
    "papermill": {
     "duration": 0.069817,
     "end_time": "2021-02-11T08:10:12.635948",
     "exception": false,
     "start_time": "2021-02-11T08:10:12.566131",
     "status": "completed"
    },
    "tags": []
   },
   "outputs": [],
   "source": [
    "from  sklearn.metrics import confusion_matrix"
   ]
  },
  {
   "cell_type": "markdown",
   "metadata": {
    "papermill": {
     "duration": 0.061898,
     "end_time": "2021-02-11T08:10:12.760013",
     "exception": false,
     "start_time": "2021-02-11T08:10:12.698115",
     "status": "completed"
    },
    "tags": []
   },
   "source": [
    "# Random_Forest:\n"
   ]
  },
  {
   "cell_type": "code",
   "execution_count": 59,
   "metadata": {
    "execution": {
     "iopub.execute_input": "2021-02-11T08:10:12.891023Z",
     "iopub.status.busy": "2021-02-11T08:10:12.890381Z",
     "iopub.status.idle": "2021-02-11T08:10:13.013486Z",
     "shell.execute_reply": "2021-02-11T08:10:13.013904Z"
    },
    "papermill": {
     "duration": 0.192229,
     "end_time": "2021-02-11T08:10:13.014071",
     "exception": false,
     "start_time": "2021-02-11T08:10:12.821842",
     "status": "completed"
    },
    "tags": []
   },
   "outputs": [
    {
     "name": "stdout",
     "output_type": "stream",
     "text": [
      "0.9882431978501848\n",
      "[[1189    8]\n",
      " [  79    0]]\n"
     ]
    }
   ],
   "source": [
    "from sklearn.ensemble  import RandomForestClassifier\n",
    "clf_r = RandomForestClassifier(n_estimators=10)\n",
    "clf_r.fit(x_train, y_train)\n",
    "print(clf_r.score(x_train, y_train))\n",
    "r_predict = clf_r.predict(x_test)\n",
    "# Evaluate Model:\n",
    "print(confusion_matrix(y_test, r_predict))"
   ]
  },
  {
   "cell_type": "markdown",
   "metadata": {
    "papermill": {
     "duration": 0.062159,
     "end_time": "2021-02-11T08:10:13.138803",
     "exception": false,
     "start_time": "2021-02-11T08:10:13.076644",
     "status": "completed"
    },
    "tags": []
   },
   "source": [
    "# Logestic_regression:"
   ]
  },
  {
   "cell_type": "code",
   "execution_count": 60,
   "metadata": {
    "execution": {
     "iopub.execute_input": "2021-02-11T08:10:13.273108Z",
     "iopub.status.busy": "2021-02-11T08:10:13.272175Z",
     "iopub.status.idle": "2021-02-11T08:10:13.297691Z",
     "shell.execute_reply": "2021-02-11T08:10:13.298143Z"
    },
    "papermill": {
     "duration": 0.096866,
     "end_time": "2021-02-11T08:10:13.298421",
     "exception": false,
     "start_time": "2021-02-11T08:10:13.201555",
     "status": "completed"
    },
    "tags": []
   },
   "outputs": [
    {
     "name": "stdout",
     "output_type": "stream",
     "text": [
      "0.9435673496808868\n",
      "[[1197    0]\n",
      " [  79    0]]\n"
     ]
    }
   ],
   "source": [
    "from  sklearn.linear_model import LogisticRegression\n",
    "clf_l = LogisticRegression()\n",
    "clf_l.fit(x_train, y_train)\n",
    "print(clf_l.score(x_train, y_train))\n",
    "l_predict = clf_l.predict(x_test)\n",
    "# Evaluate Model:\n",
    "print(confusion_matrix(y_test, l_predict))"
   ]
  },
  {
   "cell_type": "markdown",
   "metadata": {
    "papermill": {
     "duration": 0.062075,
     "end_time": "2021-02-11T08:10:13.422792",
     "exception": false,
     "start_time": "2021-02-11T08:10:13.360717",
     "status": "completed"
    },
    "tags": []
   },
   "source": [
    "# SVM:"
   ]
  },
  {
   "cell_type": "code",
   "execution_count": 61,
   "metadata": {
    "execution": {
     "iopub.execute_input": "2021-02-11T08:10:13.559410Z",
     "iopub.status.busy": "2021-02-11T08:10:13.558614Z",
     "iopub.status.idle": "2021-02-11T08:10:24.434040Z",
     "shell.execute_reply": "2021-02-11T08:10:24.434577Z"
    },
    "papermill": {
     "duration": 10.948542,
     "end_time": "2021-02-11T08:10:24.434752",
     "exception": false,
     "start_time": "2021-02-11T08:10:13.486210",
     "status": "completed"
    },
    "tags": []
   },
   "outputs": [
    {
     "name": "stdout",
     "output_type": "stream",
     "text": [
      "SVC(C=1, kernel='linear')\n",
      "0.9435673496808868\n",
      "[[1197    0]\n",
      " [  79    0]]\n"
     ]
    }
   ],
   "source": [
    "from sklearn.svm import SVC\n",
    "from sklearn.model_selection import GridSearchCV\n",
    "\n",
    "parameters = {'kernel':('linear', 'poly'), 'C':[1,2, 3, 4, 5]}\n",
    "\n",
    "svc = SVC()\n",
    "clf_sg = GridSearchCV(svc, parameters)\n",
    "clf_sg.fit(x_train, y_train)\n",
    "\n",
    "print(clf_sg.best_estimator_)\n",
    "print(clf_sg.score(x_train, y_train))\n",
    "\n",
    "sg_predict = clf_sg.predict(x_test)\n",
    "# Evaluate Model:\n",
    "print(confusion_matrix(y_test, sg_predict))"
   ]
  },
  {
   "cell_type": "markdown",
   "metadata": {
    "papermill": {
     "duration": 0.067359,
     "end_time": "2021-02-11T08:10:24.566326",
     "exception": false,
     "start_time": "2021-02-11T08:10:24.498967",
     "status": "completed"
    },
    "tags": []
   },
   "source": [
    "# PCA:"
   ]
  },
  {
   "cell_type": "code",
   "execution_count": 62,
   "metadata": {
    "execution": {
     "iopub.execute_input": "2021-02-11T08:10:24.733917Z",
     "iopub.status.busy": "2021-02-11T08:10:24.726903Z",
     "iopub.status.idle": "2021-02-11T08:10:24.750724Z",
     "shell.execute_reply": "2021-02-11T08:10:24.751514Z"
    },
    "papermill": {
     "duration": 0.101686,
     "end_time": "2021-02-11T08:10:24.751790",
     "exception": false,
     "start_time": "2021-02-11T08:10:24.650104",
     "status": "completed"
    },
    "tags": []
   },
   "outputs": [],
   "source": [
    "from sklearn.decomposition import PCA\n",
    "pca = PCA(n_components=2)\n",
    "x2d = pca.fit_transform(x_train)"
   ]
  },
  {
   "cell_type": "code",
   "execution_count": 63,
   "metadata": {
    "execution": {
     "iopub.execute_input": "2021-02-11T08:10:24.946889Z",
     "iopub.status.busy": "2021-02-11T08:10:24.946182Z",
     "iopub.status.idle": "2021-02-11T08:10:25.081122Z",
     "shell.execute_reply": "2021-02-11T08:10:25.080485Z"
    },
    "papermill": {
     "duration": 0.217861,
     "end_time": "2021-02-11T08:10:25.081260",
     "exception": false,
     "start_time": "2021-02-11T08:10:24.863399",
     "status": "completed"
    },
    "tags": []
   },
   "outputs": [
    {
     "data": {
      "text/plain": [
       "<matplotlib.collections.PathCollection at 0x7f77068e9690>"
      ]
     },
     "execution_count": 63,
     "metadata": {},
     "output_type": "execute_result"
    },
    {
     "data": {
      "image/png": "[encoded data removed]",
      "text/plain": [
       "<Figure size 432x288 with 1 Axes>"
      ]
     },
     "metadata": {
      "needs_background": "light"
     },
     "output_type": "display_data"
    }
   ],
   "source": [
    "plt.scatter(x = x2d[:, 0], y = x2d[:, 1])"
   ]
  },
  {
   "cell_type": "code",
   "execution_count": 64,
   "metadata": {
    "execution": {
     "iopub.execute_input": "2021-02-11T08:10:25.216365Z",
     "iopub.status.busy": "2021-02-11T08:10:25.215757Z",
     "iopub.status.idle": "2021-02-11T08:10:25.219884Z",
     "shell.execute_reply": "2021-02-11T08:10:25.219271Z"
    },
    "papermill": {
     "duration": 0.073835,
     "end_time": "2021-02-11T08:10:25.220061",
     "exception": false,
     "start_time": "2021-02-11T08:10:25.146226",
     "status": "completed"
    },
    "tags": []
   },
   "outputs": [
    {
     "data": {
      "text/plain": [
       "array([0.21863728, 0.19354476])"
      ]
     },
     "execution_count": 64,
     "metadata": {},
     "output_type": "execute_result"
    }
   ],
   "source": [
    "pca.explained_variance_ratio_"
   ]
  },
  {
   "cell_type": "markdown",
   "metadata": {
    "papermill": {
     "duration": 0.065294,
     "end_time": "2021-02-11T08:10:25.351411",
     "exception": false,
     "start_time": "2021-02-11T08:10:25.286117",
     "status": "completed"
    },
    "tags": []
   },
   "source": [
    "# Another Way To Feature Selection:\n",
    "### use Boruta \n",
    "#### See How It's Work"
   ]
  },
  {
   "cell_type": "markdown",
   "metadata": {
    "papermill": {
     "duration": 0.065072,
     "end_time": "2021-02-11T08:10:25.481499",
     "exception": false,
     "start_time": "2021-02-11T08:10:25.416427",
     "status": "completed"
    },
    "tags": []
   },
   "source": [
    "\n",
    "\n",
    "Faster run times, thanks to scikit-learn\n",
    "\n",
    "Scikit-learn like interface\n",
    "\n",
    "Compatible with any ensemble method from scikit-learn\n",
    "\n",
    "Automatic n_estimator selection\n",
    "\n",
    "Ranking of features\n",
    "\n",
    "Feature importances are derived from Gini impurity instead of RandomForest R package's MDA"
   ]
  },
  {
   "cell_type": "code",
   "execution_count": 65,
   "metadata": {
    "execution": {
     "iopub.execute_input": "2021-02-11T08:10:25.617948Z",
     "iopub.status.busy": "2021-02-11T08:10:25.617340Z",
     "iopub.status.idle": "2021-02-11T08:10:25.931902Z",
     "shell.execute_reply": "2021-02-11T08:10:25.931250Z"
    },
    "papermill": {
     "duration": 0.384936,
     "end_time": "2021-02-11T08:10:25.932036",
     "exception": false,
     "start_time": "2021-02-11T08:10:25.547100",
     "status": "completed"
    },
    "tags": []
   },
   "outputs": [],
   "source": [
    "import xgboost as xgb\n",
    "model = xgb.XGBClassifier()\n",
    "from boruta import BorutaPy\n",
    "feature = BorutaPy(model, n_estimators='auto', verbose=2, random_state=1)"
   ]
  },
  {
   "cell_type": "markdown",
   "metadata": {
    "papermill": {
     "duration": 0.064721,
     "end_time": "2021-02-11T08:10:26.063094",
     "exception": false,
     "start_time": "2021-02-11T08:10:25.998373",
     "status": "completed"
    },
    "tags": []
   },
   "source": [
    "## Pay attention Use Np.Array Is Not Mandetory"
   ]
  },
  {
   "cell_type": "code",
   "execution_count": 66,
   "metadata": {
    "execution": {
     "iopub.execute_input": "2021-02-11T08:10:26.197878Z",
     "iopub.status.busy": "2021-02-11T08:10:26.197051Z",
     "iopub.status.idle": "2021-02-11T08:10:34.165776Z",
     "shell.execute_reply": "2021-02-11T08:10:34.166231Z"
    },
    "papermill": {
     "duration": 8.03858,
     "end_time": "2021-02-11T08:10:34.166415",
     "exception": false,
     "start_time": "2021-02-11T08:10:26.127835",
     "status": "completed"
    },
    "tags": []
   },
   "outputs": [
    {
     "name": "stderr",
     "output_type": "stream",
     "text": [
      "/opt/conda/lib/python3.7/site-packages/xgboost/sklearn.py:888: UserWarning: The use of label encoder in XGBClassifier is deprecated and will be removed in a future release. To remove this warning, do the following: 1) Pass option use_label_encoder=False when constructing XGBClassifier object; and 2) Encode your labels (y) as integers starting with 0, i.e. 0, 1, 2, ..., [num_class - 1].\n",
      "  warnings.warn(label_encoder_deprecation_msg, UserWarning)\n"
     ]
    },
    {
     "name": "stdout",
     "output_type": "stream",
     "text": [
      "[08:10:26] WARNING: ../src/learner.cc:1061: Starting in XGBoost 1.3.0, the default evaluation metric used with the objective 'binary:logistic' was changed from 'error' to 'logloss'. Explicitly set eval_metric if you'd like to restore the old behavior.\n",
      "Iteration: \t1 / 100\n",
      "Confirmed: \t0\n",
      "Tentative: \t10\n",
      "Rejected: \t0\n",
      "[08:10:26] WARNING: ../src/learner.cc:1061: Starting in XGBoost 1.3.0, the default evaluation metric used with the objective 'binary:logistic' was changed from 'error' to 'logloss'. Explicitly set eval_metric if you'd like to restore the old behavior.\n",
      "Iteration: \t2 / 100\n",
      "Confirmed: \t0\n",
      "Tentative: \t10\n",
      "Rejected: \t0\n",
      "[08:10:26] WARNING: ../src/learner.cc:1061: Starting in XGBoost 1.3.0, the default evaluation metric used with the objective 'binary:logistic' was changed from 'error' to 'logloss'. Explicitly set eval_metric if you'd like to restore the old behavior.\n",
      "Iteration: \t3 / 100\n",
      "Confirmed: \t0\n",
      "Tentative: \t10\n",
      "Rejected: \t0\n",
      "[08:10:26] WARNING: ../src/learner.cc:1061: Starting in XGBoost 1.3.0, the default evaluation metric used with the objective 'binary:logistic' was changed from 'error' to 'logloss'. Explicitly set eval_metric if you'd like to restore the old behavior.\n",
      "Iteration: \t4 / 100\n",
      "Confirmed: \t0\n",
      "Tentative: \t10\n",
      "Rejected: \t0\n",
      "[08:10:27] WARNING: ../src/learner.cc:1061: Starting in XGBoost 1.3.0, the default evaluation metric used with the objective 'binary:logistic' was changed from 'error' to 'logloss'. Explicitly set eval_metric if you'd like to restore the old behavior.\n",
      "Iteration: \t5 / 100\n",
      "Confirmed: \t0\n",
      "Tentative: \t10\n",
      "Rejected: \t0\n",
      "[08:10:27] WARNING: ../src/learner.cc:1061: Starting in XGBoost 1.3.0, the default evaluation metric used with the objective 'binary:logistic' was changed from 'error' to 'logloss'. Explicitly set eval_metric if you'd like to restore the old behavior.\n",
      "Iteration: \t6 / 100\n",
      "Confirmed: \t0\n",
      "Tentative: \t10\n",
      "Rejected: \t0\n",
      "[08:10:27] WARNING: ../src/learner.cc:1061: Starting in XGBoost 1.3.0, the default evaluation metric used with the objective 'binary:logistic' was changed from 'error' to 'logloss'. Explicitly set eval_metric if you'd like to restore the old behavior.\n",
      "Iteration: \t7 / 100\n",
      "Confirmed: \t0\n",
      "Tentative: \t10\n",
      "Rejected: \t0\n",
      "[08:10:27] WARNING: ../src/learner.cc:1061: Starting in XGBoost 1.3.0, the default evaluation metric used with the objective 'binary:logistic' was changed from 'error' to 'logloss'. Explicitly set eval_metric if you'd like to restore the old behavior.\n",
      "Iteration: \t8 / 100\n",
      "Confirmed: \t1\n",
      "Tentative: \t6\n",
      "Rejected: \t3\n",
      "[08:10:28] WARNING: ../src/learner.cc:1061: Starting in XGBoost 1.3.0, the default evaluation metric used with the objective 'binary:logistic' was changed from 'error' to 'logloss'. Explicitly set eval_metric if you'd like to restore the old behavior.\n",
      "Iteration: \t9 / 100\n",
      "Confirmed: \t1\n",
      "Tentative: \t6\n",
      "Rejected: \t3\n",
      "[08:10:28] WARNING: ../src/learner.cc:1061: Starting in XGBoost 1.3.0, the default evaluation metric used with the objective 'binary:logistic' was changed from 'error' to 'logloss'. Explicitly set eval_metric if you'd like to restore the old behavior.\n",
      "Iteration: \t10 / 100\n",
      "Confirmed: \t1\n",
      "Tentative: \t6\n",
      "Rejected: \t3\n",
      "[08:10:28] WARNING: ../src/learner.cc:1061: Starting in XGBoost 1.3.0, the default evaluation metric used with the objective 'binary:logistic' was changed from 'error' to 'logloss'. Explicitly set eval_metric if you'd like to restore the old behavior.\n",
      "Iteration: \t11 / 100\n",
      "Confirmed: \t1\n",
      "Tentative: \t6\n",
      "Rejected: \t3\n",
      "[08:10:28] WARNING: ../src/learner.cc:1061: Starting in XGBoost 1.3.0, the default evaluation metric used with the objective 'binary:logistic' was changed from 'error' to 'logloss'. Explicitly set eval_metric if you'd like to restore the old behavior.\n",
      "Iteration: \t12 / 100\n",
      "Confirmed: \t1\n",
      "Tentative: \t5\n",
      "Rejected: \t4\n",
      "[08:10:28] WARNING: ../src/learner.cc:1061: Starting in XGBoost 1.3.0, the default evaluation metric used with the objective 'binary:logistic' was changed from 'error' to 'logloss'. Explicitly set eval_metric if you'd like to restore the old behavior.\n",
      "Iteration: \t13 / 100\n",
      "Confirmed: \t1\n",
      "Tentative: \t5\n",
      "Rejected: \t4\n",
      "[08:10:28] WARNING: ../src/learner.cc:1061: Starting in XGBoost 1.3.0, the default evaluation metric used with the objective 'binary:logistic' was changed from 'error' to 'logloss'. Explicitly set eval_metric if you'd like to restore the old behavior.\n",
      "Iteration: \t14 / 100\n",
      "Confirmed: \t1\n",
      "Tentative: \t5\n",
      "Rejected: \t4\n",
      "[08:10:29] WARNING: ../src/learner.cc:1061: Starting in XGBoost 1.3.0, the default evaluation metric used with the objective 'binary:logistic' was changed from 'error' to 'logloss'. Explicitly set eval_metric if you'd like to restore the old behavior.\n",
      "Iteration: \t15 / 100\n",
      "Confirmed: \t1\n",
      "Tentative: \t5\n",
      "Rejected: \t4\n",
      "[08:10:29] WARNING: ../src/learner.cc:1061: Starting in XGBoost 1.3.0, the default evaluation metric used with the objective 'binary:logistic' was changed from 'error' to 'logloss'. Explicitly set eval_metric if you'd like to restore the old behavior.\n",
      "Iteration: \t16 / 100\n",
      "Confirmed: \t1\n",
      "Tentative: \t5\n",
      "Rejected: \t4\n",
      "[08:10:29] WARNING: ../src/learner.cc:1061: Starting in XGBoost 1.3.0, the default evaluation metric used with the objective 'binary:logistic' was changed from 'error' to 'logloss'. Explicitly set eval_metric if you'd like to restore the old behavior.\n",
      "Iteration: \t17 / 100\n",
      "Confirmed: \t1\n",
      "Tentative: \t5\n",
      "Rejected: \t4\n",
      "[08:10:29] WARNING: ../src/learner.cc:1061: Starting in XGBoost 1.3.0, the default evaluation metric used with the objective 'binary:logistic' was changed from 'error' to 'logloss'. Explicitly set eval_metric if you'd like to restore the old behavior.\n",
      "Iteration: \t18 / 100\n",
      "Confirmed: \t1\n",
      "Tentative: \t5\n",
      "Rejected: \t4\n",
      "[08:10:29] WARNING: ../src/learner.cc:1061: Starting in XGBoost 1.3.0, the default evaluation metric used with the objective 'binary:logistic' was changed from 'error' to 'logloss'. Explicitly set eval_metric if you'd like to restore the old behavior.\n",
      "Iteration: \t19 / 100\n",
      "Confirmed: \t1\n",
      "Tentative: \t4\n",
      "Rejected: \t5\n",
      "[08:10:29] WARNING: ../src/learner.cc:1061: Starting in XGBoost 1.3.0, the default evaluation metric used with the objective 'binary:logistic' was changed from 'error' to 'logloss'. Explicitly set eval_metric if you'd like to restore the old behavior.\n",
      "Iteration: \t20 / 100\n",
      "Confirmed: \t1\n",
      "Tentative: \t4\n",
      "Rejected: \t5\n",
      "[08:10:29] WARNING: ../src/learner.cc:1061: Starting in XGBoost 1.3.0, the default evaluation metric used with the objective 'binary:logistic' was changed from 'error' to 'logloss'. Explicitly set eval_metric if you'd like to restore the old behavior.\n",
      "Iteration: \t21 / 100\n",
      "Confirmed: \t1\n",
      "Tentative: \t4\n",
      "Rejected: \t5\n",
      "[08:10:29] WARNING: ../src/learner.cc:1061: Starting in XGBoost 1.3.0, the default evaluation metric used with the objective 'binary:logistic' was changed from 'error' to 'logloss'. Explicitly set eval_metric if you'd like to restore the old behavior.\n",
      "Iteration: \t22 / 100\n",
      "Confirmed: \t1\n",
      "Tentative: \t3\n",
      "Rejected: \t6\n",
      "[08:10:30] WARNING: ../src/learner.cc:1061: Starting in XGBoost 1.3.0, the default evaluation metric used with the objective 'binary:logistic' was changed from 'error' to 'logloss'. Explicitly set eval_metric if you'd like to restore the old behavior.\n",
      "Iteration: \t23 / 100\n",
      "Confirmed: \t1\n",
      "Tentative: \t3\n",
      "Rejected: \t6\n",
      "[08:10:30] WARNING: ../src/learner.cc:1061: Starting in XGBoost 1.3.0, the default evaluation metric used with the objective 'binary:logistic' was changed from 'error' to 'logloss'. Explicitly set eval_metric if you'd like to restore the old behavior.\n",
      "Iteration: \t24 / 100\n",
      "Confirmed: \t1\n",
      "Tentative: \t3\n",
      "Rejected: \t6\n",
      "[08:10:30] WARNING: ../src/learner.cc:1061: Starting in XGBoost 1.3.0, the default evaluation metric used with the objective 'binary:logistic' was changed from 'error' to 'logloss'. Explicitly set eval_metric if you'd like to restore the old behavior.\n",
      "Iteration: \t25 / 100\n",
      "Confirmed: \t1\n",
      "Tentative: \t3\n",
      "Rejected: \t6\n",
      "[08:10:30] WARNING: ../src/learner.cc:1061: Starting in XGBoost 1.3.0, the default evaluation metric used with the objective 'binary:logistic' was changed from 'error' to 'logloss'. Explicitly set eval_metric if you'd like to restore the old behavior.\n",
      "Iteration: \t26 / 100\n",
      "Confirmed: \t1\n",
      "Tentative: \t3\n",
      "Rejected: \t6\n",
      "[08:10:30] WARNING: ../src/learner.cc:1061: Starting in XGBoost 1.3.0, the default evaluation metric used with the objective 'binary:logistic' was changed from 'error' to 'logloss'. Explicitly set eval_metric if you'd like to restore the old behavior.\n",
      "Iteration: \t27 / 100\n",
      "Confirmed: \t1\n",
      "Tentative: \t3\n",
      "Rejected: \t6\n",
      "[08:10:30] WARNING: ../src/learner.cc:1061: Starting in XGBoost 1.3.0, the default evaluation metric used with the objective 'binary:logistic' was changed from 'error' to 'logloss'. Explicitly set eval_metric if you'd like to restore the old behavior.\n",
      "Iteration: \t28 / 100\n",
      "Confirmed: \t1\n",
      "Tentative: \t3\n",
      "Rejected: \t6\n",
      "[08:10:30] WARNING: ../src/learner.cc:1061: Starting in XGBoost 1.3.0, the default evaluation metric used with the objective 'binary:logistic' was changed from 'error' to 'logloss'. Explicitly set eval_metric if you'd like to restore the old behavior.\n",
      "Iteration: \t29 / 100\n",
      "Confirmed: \t1\n",
      "Tentative: \t3\n",
      "Rejected: \t6\n",
      "[08:10:30] WARNING: ../src/learner.cc:1061: Starting in XGBoost 1.3.0, the default evaluation metric used with the objective 'binary:logistic' was changed from 'error' to 'logloss'. Explicitly set eval_metric if you'd like to restore the old behavior.\n",
      "Iteration: \t30 / 100\n",
      "Confirmed: \t1\n",
      "Tentative: \t3\n",
      "Rejected: \t6\n",
      "[08:10:31] WARNING: ../src/learner.cc:1061: Starting in XGBoost 1.3.0, the default evaluation metric used with the objective 'binary:logistic' was changed from 'error' to 'logloss'. Explicitly set eval_metric if you'd like to restore the old behavior.\n",
      "Iteration: \t31 / 100\n",
      "Confirmed: \t1\n",
      "Tentative: \t3\n",
      "Rejected: \t6\n",
      "[08:10:31] WARNING: ../src/learner.cc:1061: Starting in XGBoost 1.3.0, the default evaluation metric used with the objective 'binary:logistic' was changed from 'error' to 'logloss'. Explicitly set eval_metric if you'd like to restore the old behavior.\n",
      "Iteration: \t32 / 100\n",
      "Confirmed: \t1\n",
      "Tentative: \t2\n",
      "Rejected: \t7\n",
      "[08:10:31] WARNING: ../src/learner.cc:1061: Starting in XGBoost 1.3.0, the default evaluation metric used with the objective 'binary:logistic' was changed from 'error' to 'logloss'. Explicitly set eval_metric if you'd like to restore the old behavior.\n",
      "Iteration: \t33 / 100\n",
      "Confirmed: \t1\n",
      "Tentative: \t2\n",
      "Rejected: \t7\n",
      "[08:10:31] WARNING: ../src/learner.cc:1061: Starting in XGBoost 1.3.0, the default evaluation metric used with the objective 'binary:logistic' was changed from 'error' to 'logloss'. Explicitly set eval_metric if you'd like to restore the old behavior.\n",
      "Iteration: \t34 / 100\n",
      "Confirmed: \t1\n",
      "Tentative: \t2\n",
      "Rejected: \t7\n",
      "[08:10:31] WARNING: ../src/learner.cc:1061: Starting in XGBoost 1.3.0, the default evaluation metric used with the objective 'binary:logistic' was changed from 'error' to 'logloss'. Explicitly set eval_metric if you'd like to restore the old behavior.\n",
      "Iteration: \t35 / 100\n",
      "Confirmed: \t1\n",
      "Tentative: \t2\n",
      "Rejected: \t7\n",
      "[08:10:31] WARNING: ../src/learner.cc:1061: Starting in XGBoost 1.3.0, the default evaluation metric used with the objective 'binary:logistic' was changed from 'error' to 'logloss'. Explicitly set eval_metric if you'd like to restore the old behavior.\n",
      "Iteration: \t36 / 100\n",
      "Confirmed: \t1\n",
      "Tentative: \t2\n",
      "Rejected: \t7\n",
      "[08:10:31] WARNING: ../src/learner.cc:1061: Starting in XGBoost 1.3.0, the default evaluation metric used with the objective 'binary:logistic' was changed from 'error' to 'logloss'. Explicitly set eval_metric if you'd like to restore the old behavior.\n",
      "Iteration: \t37 / 100\n",
      "Confirmed: \t1\n",
      "Tentative: \t2\n",
      "Rejected: \t7\n",
      "[08:10:31] WARNING: ../src/learner.cc:1061: Starting in XGBoost 1.3.0, the default evaluation metric used with the objective 'binary:logistic' was changed from 'error' to 'logloss'. Explicitly set eval_metric if you'd like to restore the old behavior.\n",
      "Iteration: \t38 / 100\n",
      "Confirmed: \t1\n",
      "Tentative: \t2\n",
      "Rejected: \t7\n",
      "[08:10:31] WARNING: ../src/learner.cc:1061: Starting in XGBoost 1.3.0, the default evaluation metric used with the objective 'binary:logistic' was changed from 'error' to 'logloss'. Explicitly set eval_metric if you'd like to restore the old behavior.\n",
      "Iteration: \t39 / 100\n",
      "Confirmed: \t1\n",
      "Tentative: \t2\n",
      "Rejected: \t7\n",
      "[08:10:31] WARNING: ../src/learner.cc:1061: Starting in XGBoost 1.3.0, the default evaluation metric used with the objective 'binary:logistic' was changed from 'error' to 'logloss'. Explicitly set eval_metric if you'd like to restore the old behavior.\n",
      "Iteration: \t40 / 100\n",
      "Confirmed: \t1\n",
      "Tentative: \t2\n",
      "Rejected: \t7\n",
      "[08:10:31] WARNING: ../src/learner.cc:1061: Starting in XGBoost 1.3.0, the default evaluation metric used with the objective 'binary:logistic' was changed from 'error' to 'logloss'. Explicitly set eval_metric if you'd like to restore the old behavior.\n",
      "Iteration: \t41 / 100\n",
      "Confirmed: \t1\n",
      "Tentative: \t2\n",
      "Rejected: \t7\n",
      "[08:10:32] WARNING: ../src/learner.cc:1061: Starting in XGBoost 1.3.0, the default evaluation metric used with the objective 'binary:logistic' was changed from 'error' to 'logloss'. Explicitly set eval_metric if you'd like to restore the old behavior.\n",
      "Iteration: \t42 / 100\n",
      "Confirmed: \t1\n",
      "Tentative: \t2\n",
      "Rejected: \t7\n",
      "[08:10:32] WARNING: ../src/learner.cc:1061: Starting in XGBoost 1.3.0, the default evaluation metric used with the objective 'binary:logistic' was changed from 'error' to 'logloss'. Explicitly set eval_metric if you'd like to restore the old behavior.\n",
      "Iteration: \t43 / 100\n",
      "Confirmed: \t1\n",
      "Tentative: \t2\n",
      "Rejected: \t7\n",
      "[08:10:32] WARNING: ../src/learner.cc:1061: Starting in XGBoost 1.3.0, the default evaluation metric used with the objective 'binary:logistic' was changed from 'error' to 'logloss'. Explicitly set eval_metric if you'd like to restore the old behavior.\n",
      "Iteration: \t44 / 100\n",
      "Confirmed: \t1\n",
      "Tentative: \t2\n",
      "Rejected: \t7\n",
      "[08:10:32] WARNING: ../src/learner.cc:1061: Starting in XGBoost 1.3.0, the default evaluation metric used with the objective 'binary:logistic' was changed from 'error' to 'logloss'. Explicitly set eval_metric if you'd like to restore the old behavior.\n",
      "Iteration: \t45 / 100\n",
      "Confirmed: \t1\n",
      "Tentative: \t2\n",
      "Rejected: \t7\n",
      "[08:10:32] WARNING: ../src/learner.cc:1061: Starting in XGBoost 1.3.0, the default evaluation metric used with the objective 'binary:logistic' was changed from 'error' to 'logloss'. Explicitly set eval_metric if you'd like to restore the old behavior.\n",
      "Iteration: \t46 / 100\n",
      "Confirmed: \t1\n",
      "Tentative: \t1\n",
      "Rejected: \t8\n",
      "[08:10:32] WARNING: ../src/learner.cc:1061: Starting in XGBoost 1.3.0, the default evaluation metric used with the objective 'binary:logistic' was changed from 'error' to 'logloss'. Explicitly set eval_metric if you'd like to restore the old behavior.\n",
      "Iteration: \t47 / 100\n",
      "Confirmed: \t1\n",
      "Tentative: \t1\n",
      "Rejected: \t8\n",
      "[08:10:32] WARNING: ../src/learner.cc:1061: Starting in XGBoost 1.3.0, the default evaluation metric used with the objective 'binary:logistic' was changed from 'error' to 'logloss'. Explicitly set eval_metric if you'd like to restore the old behavior.\n",
      "Iteration: \t48 / 100\n",
      "Confirmed: \t1\n",
      "Tentative: \t1\n",
      "Rejected: \t8\n",
      "[08:10:32] WARNING: ../src/learner.cc:1061: Starting in XGBoost 1.3.0, the default evaluation metric used with the objective 'binary:logistic' was changed from 'error' to 'logloss'. Explicitly set eval_metric if you'd like to restore the old behavior.\n",
      "Iteration: \t49 / 100\n",
      "Confirmed: \t1\n",
      "Tentative: \t1\n",
      "Rejected: \t8\n",
      "[08:10:32] WARNING: ../src/learner.cc:1061: Starting in XGBoost 1.3.0, the default evaluation metric used with the objective 'binary:logistic' was changed from 'error' to 'logloss'. Explicitly set eval_metric if you'd like to restore the old behavior.\n",
      "Iteration: \t50 / 100\n",
      "Confirmed: \t1\n",
      "Tentative: \t1\n",
      "Rejected: \t8\n",
      "[08:10:32] WARNING: ../src/learner.cc:1061: Starting in XGBoost 1.3.0, the default evaluation metric used with the objective 'binary:logistic' was changed from 'error' to 'logloss'. Explicitly set eval_metric if you'd like to restore the old behavior.\n",
      "Iteration: \t51 / 100\n",
      "Confirmed: \t1\n",
      "Tentative: \t1\n",
      "Rejected: \t8\n",
      "[08:10:32] WARNING: ../src/learner.cc:1061: Starting in XGBoost 1.3.0, the default evaluation metric used with the objective 'binary:logistic' was changed from 'error' to 'logloss'. Explicitly set eval_metric if you'd like to restore the old behavior.\n",
      "Iteration: \t52 / 100\n",
      "Confirmed: \t1\n",
      "Tentative: \t1\n",
      "Rejected: \t8\n",
      "[08:10:32] WARNING: ../src/learner.cc:1061: Starting in XGBoost 1.3.0, the default evaluation metric used with the objective 'binary:logistic' was changed from 'error' to 'logloss'. Explicitly set eval_metric if you'd like to restore the old behavior.\n",
      "Iteration: \t53 / 100\n",
      "Confirmed: \t1\n",
      "Tentative: \t1\n",
      "Rejected: \t8\n",
      "[08:10:33] WARNING: ../src/learner.cc:1061: Starting in XGBoost 1.3.0, the default evaluation metric used with the objective 'binary:logistic' was changed from 'error' to 'logloss'. Explicitly set eval_metric if you'd like to restore the old behavior.\n",
      "Iteration: \t54 / 100\n",
      "Confirmed: \t1\n",
      "Tentative: \t1\n",
      "Rejected: \t8\n",
      "[08:10:33] WARNING: ../src/learner.cc:1061: Starting in XGBoost 1.3.0, the default evaluation metric used with the objective 'binary:logistic' was changed from 'error' to 'logloss'. Explicitly set eval_metric if you'd like to restore the old behavior.\n",
      "Iteration: \t55 / 100\n",
      "Confirmed: \t1\n",
      "Tentative: \t1\n",
      "Rejected: \t8\n",
      "[08:10:33] WARNING: ../src/learner.cc:1061: Starting in XGBoost 1.3.0, the default evaluation metric used with the objective 'binary:logistic' was changed from 'error' to 'logloss'. Explicitly set eval_metric if you'd like to restore the old behavior.\n",
      "Iteration: \t56 / 100\n",
      "Confirmed: \t1\n",
      "Tentative: \t1\n",
      "Rejected: \t8\n",
      "[08:10:33] WARNING: ../src/learner.cc:1061: Starting in XGBoost 1.3.0, the default evaluation metric used with the objective 'binary:logistic' was changed from 'error' to 'logloss'. Explicitly set eval_metric if you'd like to restore the old behavior.\n",
      "Iteration: \t57 / 100\n",
      "Confirmed: \t1\n",
      "Tentative: \t1\n",
      "Rejected: \t8\n",
      "[08:10:33] WARNING: ../src/learner.cc:1061: Starting in XGBoost 1.3.0, the default evaluation metric used with the objective 'binary:logistic' was changed from 'error' to 'logloss'. Explicitly set eval_metric if you'd like to restore the old behavior.\n",
      "Iteration: \t58 / 100\n",
      "Confirmed: \t1\n",
      "Tentative: \t1\n",
      "Rejected: \t8\n",
      "[08:10:33] WARNING: ../src/learner.cc:1061: Starting in XGBoost 1.3.0, the default evaluation metric used with the objective 'binary:logistic' was changed from 'error' to 'logloss'. Explicitly set eval_metric if you'd like to restore the old behavior.\n",
      "Iteration: \t59 / 100\n",
      "Confirmed: \t1\n",
      "Tentative: \t1\n",
      "Rejected: \t8\n",
      "[08:10:33] WARNING: ../src/learner.cc:1061: Starting in XGBoost 1.3.0, the default evaluation metric used with the objective 'binary:logistic' was changed from 'error' to 'logloss'. Explicitly set eval_metric if you'd like to restore the old behavior.\n",
      "Iteration: \t60 / 100\n",
      "Confirmed: \t1\n",
      "Tentative: \t1\n",
      "Rejected: \t8\n",
      "[08:10:33] WARNING: ../src/learner.cc:1061: Starting in XGBoost 1.3.0, the default evaluation metric used with the objective 'binary:logistic' was changed from 'error' to 'logloss'. Explicitly set eval_metric if you'd like to restore the old behavior.\n",
      "Iteration: \t61 / 100\n",
      "Confirmed: \t1\n",
      "Tentative: \t1\n",
      "Rejected: \t8\n",
      "[08:10:33] WARNING: ../src/learner.cc:1061: Starting in XGBoost 1.3.0, the default evaluation metric used with the objective 'binary:logistic' was changed from 'error' to 'logloss'. Explicitly set eval_metric if you'd like to restore the old behavior.\n",
      "Iteration: \t62 / 100\n",
      "Confirmed: \t1\n",
      "Tentative: \t1\n",
      "Rejected: \t8\n",
      "[08:10:33] WARNING: ../src/learner.cc:1061: Starting in XGBoost 1.3.0, the default evaluation metric used with the objective 'binary:logistic' was changed from 'error' to 'logloss'. Explicitly set eval_metric if you'd like to restore the old behavior.\n",
      "Iteration: \t63 / 100\n",
      "Confirmed: \t1\n",
      "Tentative: \t1\n",
      "Rejected: \t8\n",
      "[08:10:33] WARNING: ../src/learner.cc:1061: Starting in XGBoost 1.3.0, the default evaluation metric used with the objective 'binary:logistic' was changed from 'error' to 'logloss'. Explicitly set eval_metric if you'd like to restore the old behavior.\n",
      "Iteration: \t64 / 100\n",
      "Confirmed: \t1\n",
      "Tentative: \t1\n",
      "Rejected: \t8\n",
      "[08:10:33] WARNING: ../src/learner.cc:1061: Starting in XGBoost 1.3.0, the default evaluation metric used with the objective 'binary:logistic' was changed from 'error' to 'logloss'. Explicitly set eval_metric if you'd like to restore the old behavior.\n",
      "Iteration: \t65 / 100\n",
      "Confirmed: \t1\n",
      "Tentative: \t1\n",
      "Rejected: \t8\n",
      "[08:10:33] WARNING: ../src/learner.cc:1061: Starting in XGBoost 1.3.0, the default evaluation metric used with the objective 'binary:logistic' was changed from 'error' to 'logloss'. Explicitly set eval_metric if you'd like to restore the old behavior.\n",
      "Iteration: \t66 / 100\n",
      "Confirmed: \t1\n",
      "Tentative: \t1\n",
      "Rejected: \t8\n",
      "[08:10:34] WARNING: ../src/learner.cc:1061: Starting in XGBoost 1.3.0, the default evaluation metric used with the objective 'binary:logistic' was changed from 'error' to 'logloss'. Explicitly set eval_metric if you'd like to restore the old behavior.\n",
      "Iteration: \t67 / 100\n",
      "Confirmed: \t1\n",
      "Tentative: \t0\n",
      "Rejected: \t9\n",
      "\n",
      "\n",
      "BorutaPy finished running.\n",
      "\n",
      "Iteration: \t68 / 100\n",
      "Confirmed: \t1\n",
      "Tentative: \t0\n",
      "Rejected: \t9\n"
     ]
    },
    {
     "data": {
      "text/plain": [
       "BorutaPy(estimator=XGBClassifier(base_score=0.5, booster='gbtree',\n",
       "                                 colsample_bylevel=1, colsample_bynode=1,\n",
       "                                 colsample_bytree=1, gamma=0, gpu_id=-1,\n",
       "                                 importance_type='gain',\n",
       "                                 interaction_constraints='',\n",
       "                                 learning_rate=0.300000012, max_delta_step=0,\n",
       "                                 max_depth=6, min_child_weight=1, missing=nan,\n",
       "                                 monotone_constraints='()', n_estimators=33,\n",
       "                                 n_jobs=4, num_parallel_tree=1,\n",
       "                                 random_state=108344413, reg_alpha=0,\n",
       "                                 reg_lambda=1, scale_pos_weight=1, subsample=1,\n",
       "                                 tree_method='exact', validate_parameters=1,\n",
       "                                 verbosity=None),\n",
       "         n_estimators='auto',\n",
       "         random_state=RandomState(MT19937) at 0x7F7706515D10, verbose=2)"
      ]
     },
     "execution_count": 66,
     "metadata": {},
     "output_type": "execute_result"
    }
   ],
   "source": [
    "feature.fit(np.array(x_train), np.array(y_train))"
   ]
  },
  {
   "cell_type": "code",
   "execution_count": 67,
   "metadata": {
    "execution": {
     "iopub.execute_input": "2021-02-11T08:10:34.321280Z",
     "iopub.status.busy": "2021-02-11T08:10:34.320515Z",
     "iopub.status.idle": "2021-02-11T08:10:34.325086Z",
     "shell.execute_reply": "2021-02-11T08:10:34.324346Z"
    },
    "papermill": {
     "duration": 0.084808,
     "end_time": "2021-02-11T08:10:34.325268",
     "exception": false,
     "start_time": "2021-02-11T08:10:34.240460",
     "status": "completed"
    },
    "tags": []
   },
   "outputs": [
    {
     "name": "stdout",
     "output_type": "stream",
     "text": [
      "[False False False False False False False False False  True]\n",
      "[10  3  5  2  7  9  7  5  4  1]\n",
      "['categori_age']\n"
     ]
    }
   ],
   "source": [
    "print(feature.support_)\n",
    "print(feature.ranking_)\n",
    "print(x_train.columns[feature.support_].to_list())"
   ]
  },
  {
   "cell_type": "code",
   "execution_count": 68,
   "metadata": {
    "execution": {
     "iopub.execute_input": "2021-02-11T08:10:34.480844Z",
     "iopub.status.busy": "2021-02-11T08:10:34.480088Z",
     "iopub.status.idle": "2021-02-11T08:10:34.483989Z",
     "shell.execute_reply": "2021-02-11T08:10:34.483405Z"
    },
    "papermill": {
     "duration": 0.082788,
     "end_time": "2021-02-11T08:10:34.484139",
     "exception": false,
     "start_time": "2021-02-11T08:10:34.401351",
     "status": "completed"
    },
    "tags": []
   },
   "outputs": [],
   "source": [
    "x_boruta = feature.transform(np.array(x_train))"
   ]
  },
  {
   "cell_type": "code",
   "execution_count": 69,
   "metadata": {
    "execution": {
     "iopub.execute_input": "2021-02-11T08:10:34.644256Z",
     "iopub.status.busy": "2021-02-11T08:10:34.643322Z",
     "iopub.status.idle": "2021-02-11T08:10:34.689248Z",
     "shell.execute_reply": "2021-02-11T08:10:34.689929Z"
    },
    "papermill": {
     "duration": 0.131702,
     "end_time": "2021-02-11T08:10:34.690092",
     "exception": false,
     "start_time": "2021-02-11T08:10:34.558390",
     "status": "completed"
    },
    "tags": []
   },
   "outputs": [
    {
     "name": "stdout",
     "output_type": "stream",
     "text": [
      "[08:10:34] WARNING: ../src/learner.cc:1061: Starting in XGBoost 1.3.0, the default evaluation metric used with the objective 'binary:logistic' was changed from 'error' to 'logloss'. Explicitly set eval_metric if you'd like to restore the old behavior.\n"
     ]
    },
    {
     "data": {
      "text/plain": [
       "XGBClassifier(base_score=0.5, booster='gbtree', colsample_bylevel=1,\n",
       "              colsample_bynode=1, colsample_bytree=1, gamma=0, gpu_id=-1,\n",
       "              importance_type='gain', interaction_constraints='',\n",
       "              learning_rate=0.300000012, max_delta_step=0, max_depth=6,\n",
       "              min_child_weight=1, missing=nan, monotone_constraints='()',\n",
       "              n_estimators=100, n_jobs=4, num_parallel_tree=1, random_state=0,\n",
       "              reg_alpha=0, reg_lambda=1, scale_pos_weight=1, subsample=1,\n",
       "              tree_method='exact', validate_parameters=1, verbosity=None)"
      ]
     },
     "execution_count": 69,
     "metadata": {},
     "output_type": "execute_result"
    }
   ],
   "source": [
    "xgb_model = xgb.XGBClassifier()\n",
    "xgb_model.fit(x_boruta, y_train)"
   ]
  },
  {
   "cell_type": "code",
   "execution_count": 70,
   "metadata": {
    "execution": {
     "iopub.execute_input": "2021-02-11T08:10:34.846772Z",
     "iopub.status.busy": "2021-02-11T08:10:34.846016Z",
     "iopub.status.idle": "2021-02-11T08:10:34.854044Z",
     "shell.execute_reply": "2021-02-11T08:10:34.854530Z"
    },
    "papermill": {
     "duration": 0.089873,
     "end_time": "2021-02-11T08:10:34.854749",
     "exception": false,
     "start_time": "2021-02-11T08:10:34.764876",
     "status": "completed"
    },
    "tags": []
   },
   "outputs": [],
   "source": [
    "x_test_filtered = feature.transform(np.array(x_test))\n",
    "prediction_xgb = xgb_model.predict(x_test_filtered)"
   ]
  },
  {
   "cell_type": "code",
   "execution_count": 71,
   "metadata": {
    "execution": {
     "iopub.execute_input": "2021-02-11T08:10:35.016881Z",
     "iopub.status.busy": "2021-02-11T08:10:35.016108Z",
     "iopub.status.idle": "2021-02-11T08:10:35.021323Z",
     "shell.execute_reply": "2021-02-11T08:10:35.021801Z"
    },
    "papermill": {
     "duration": 0.089393,
     "end_time": "2021-02-11T08:10:35.021978",
     "exception": false,
     "start_time": "2021-02-11T08:10:34.932585",
     "status": "completed"
    },
    "tags": []
   },
   "outputs": [
    {
     "name": "stdout",
     "output_type": "stream",
     "text": [
      "Accuracy =  0.9380877742946708\n"
     ]
    }
   ],
   "source": [
    "from sklearn import metrics\n",
    "print (\"Accuracy = \", metrics.accuracy_score(y_test, prediction_xgb))"
   ]
  },
  {
   "cell_type": "code",
   "execution_count": 72,
   "metadata": {
    "execution": {
     "iopub.execute_input": "2021-02-11T08:10:35.174511Z",
     "iopub.status.busy": "2021-02-11T08:10:35.173862Z",
     "iopub.status.idle": "2021-02-11T08:10:35.332669Z",
     "shell.execute_reply": "2021-02-11T08:10:35.333250Z"
    },
    "papermill": {
     "duration": 0.236777,
     "end_time": "2021-02-11T08:10:35.333454",
     "exception": false,
     "start_time": "2021-02-11T08:10:35.096677",
     "status": "completed"
    },
    "tags": []
   },
   "outputs": [
    {
     "data": {
      "text/plain": [
       "<AxesSubplot:>"
      ]
     },
     "execution_count": 72,
     "metadata": {},
     "output_type": "execute_result"
    },
    {
     "data": {
      "image/png": "[encoded data removed]",
      "text/plain": [
       "<Figure size 432x288 with 2 Axes>"
      ]
     },
     "metadata": {
      "needs_background": "light"
     },
     "output_type": "display_data"
    }
   ],
   "source": [
    "cm = confusion_matrix(y_test, prediction_xgb)\n",
    "#print(cm)\n",
    "sns.heatmap(cm, annot=True)"
   ]
  },
  {
   "cell_type": "code",
   "execution_count": null,
   "metadata": {
    "papermill": {
     "duration": 0.076564,
     "end_time": "2021-02-11T08:10:35.489116",
     "exception": false,
     "start_time": "2021-02-11T08:10:35.412552",
     "status": "completed"
    },
    "tags": []
   },
   "outputs": [],
   "source": []
  }
 ],
 "metadata": {
  "kernelspec": {
   "display_name": "Python 3",
   "language": "python",
   "name": "python3"
  },
  "language_info": {
   "codemirror_mode": {
    "name": "ipython",
    "version": 3
   },
   "file_extension": ".py",
   "mimetype": "text/x-python",
   "name": "python",
   "nbconvert_exporter": "python",
   "pygments_lexer": "ipython3",
   "version": "3.7.9"
  },
  "papermill": {
   "default_parameters": {},
   "duration": 43.210273,
   "end_time": "2021-02-11T08:10:36.375681",
   "environment_variables": {},
   "exception": null,
   "input_path": "__notebook__.ipynb",
   "output_path": "__notebook__.ipynb",
   "parameters": {},
   "start_time": "2021-02-11T08:09:53.165408",
   "version": "2.2.2"
  }
 },
 "nbformat": 4,
 "nbformat_minor": 4
}
