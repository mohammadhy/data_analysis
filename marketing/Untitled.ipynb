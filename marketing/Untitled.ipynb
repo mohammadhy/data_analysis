{
 "cells": [
  {
   "cell_type": "markdown",
   "metadata": {},
   "source": [
    "## Marketing analysis:\n",
    "### We have 2 file for 2 different month "
   ]
  },
  {
   "cell_type": "code",
   "execution_count": 128,
   "metadata": {},
   "outputs": [],
   "source": [
    "import pandas as pd \n",
    "import numpy as np\n",
    "import matplotlib.pyplot as plt\n",
    "import seaborn as sns"
   ]
  },
  {
   "cell_type": "code",
   "execution_count": 2,
   "metadata": {},
   "outputs": [
    {
     "name": "stdout",
     "output_type": "stream",
     "text": [
      "Wall time: 2min 12s\n"
     ]
    }
   ],
   "source": [
    "%%time\n",
    "n_data = pd.read_csv('D:/datasets/2019-Nov.csv')"
   ]
  },
  {
   "cell_type": "code",
   "execution_count": null,
   "metadata": {},
   "outputs": [],
   "source": []
  },
  {
   "cell_type": "code",
   "execution_count": 3,
   "metadata": {},
   "outputs": [
    {
     "name": "stdout",
     "output_type": "stream",
     "text": [
      "Wall time: 2min 12s\n"
     ]
    }
   ],
   "source": [
    "%%time \n",
    "df = pd.read_csv('D:/datasets/2019-Oct.csv', chunksize=10000)\n",
    "o_data = pd.concat([chunk for chunk in df])"
   ]
  },
  {
   "cell_type": "code",
   "execution_count": 4,
   "metadata": {},
   "outputs": [
    {
     "data": {
      "text/plain": [
       "(42448764, 9)"
      ]
     },
     "execution_count": 4,
     "metadata": {},
     "output_type": "execute_result"
    }
   ],
   "source": [
    "o_data.shape"
   ]
  },
  {
   "cell_type": "code",
   "execution_count": 5,
   "metadata": {},
   "outputs": [
    {
     "name": "stdout",
     "output_type": "stream",
     "text": [
      "Wall time: 1min 50s\n"
     ]
    }
   ],
   "source": [
    "%%time\n",
    "df = o_data.append(n_data, ignore_index=True, sort=False)"
   ]
  },
  {
   "cell_type": "code",
   "execution_count": 6,
   "metadata": {},
   "outputs": [
    {
     "name": "stdout",
     "output_type": "stream",
     "text": [
      "<class 'pandas.core.frame.DataFrame'>\n",
      "RangeIndex: 109950743 entries, 0 to 109950742\n",
      "Data columns (total 9 columns):\n",
      " #   Column         Dtype  \n",
      "---  ------         -----  \n",
      " 0   event_time     object \n",
      " 1   event_type     object \n",
      " 2   product_id     int64  \n",
      " 3   category_id    int64  \n",
      " 4   category_code  object \n",
      " 5   brand          object \n",
      " 6   price          float64\n",
      " 7   user_id        int64  \n",
      " 8   user_session   object \n",
      "dtypes: float64(1), int64(3), object(5)\n",
      "memory usage: 7.4+ GB\n"
     ]
    }
   ],
   "source": [
    "df.info()"
   ]
  },
  {
   "cell_type": "code",
   "execution_count": 7,
   "metadata": {},
   "outputs": [],
   "source": [
    "df.drop(columns=['product_id','category_id', 'user_id','user_session'], axis='columns', inplace=True)"
   ]
  },
  {
   "cell_type": "code",
   "execution_count": 8,
   "metadata": {},
   "outputs": [],
   "source": [
    "df = df.dropna()"
   ]
  },
  {
   "cell_type": "code",
   "execution_count": 9,
   "metadata": {},
   "outputs": [
    {
     "data": {
      "text/plain": [
       "event_time       0\n",
       "event_type       0\n",
       "category_code    0\n",
       "brand            0\n",
       "price            0\n",
       "dtype: int64"
      ]
     },
     "execution_count": 9,
     "metadata": {},
     "output_type": "execute_result"
    }
   ],
   "source": [
    "df.isnull().sum()"
   ]
  },
  {
   "cell_type": "code",
   "execution_count": 10,
   "metadata": {},
   "outputs": [
    {
     "data": {
      "text/plain": [
       "array(['view', 'purchase', 'cart'], dtype=object)"
      ]
     },
     "execution_count": 10,
     "metadata": {},
     "output_type": "execute_result"
    }
   ],
   "source": [
    "df['event_type'].unique()"
   ]
  },
  {
   "cell_type": "code",
   "execution_count": 11,
   "metadata": {},
   "outputs": [
    {
     "data": {
      "text/plain": [
       "samsung         12892231\n",
       "apple           10306554\n",
       "xiaomi           6835756\n",
       "huawei           2476500\n",
       "lg               1533250\n",
       "                  ...   \n",
       "ekobike                1\n",
       "ismart                 1\n",
       "vigoole                1\n",
       "luciasvetlaa           1\n",
       "powerplant             1\n",
       "Name: brand, Length: 2044, dtype: int64"
      ]
     },
     "execution_count": 11,
     "metadata": {},
     "output_type": "execute_result"
    }
   ],
   "source": [
    "df['brand'].value_counts()"
   ]
  },
  {
   "cell_type": "code",
   "execution_count": 12,
   "metadata": {},
   "outputs": [],
   "source": [
    "df = df.set_index(pd.DatetimeIndex([x.split(' ')[0] for x in df['event_time']]))\n",
    "df['time'] = [x.split(' ')[1] for x in df['event_time']]\n",
    "df.drop('event_time', inplace=True, axis='columns')"
   ]
  },
  {
   "cell_type": "code",
   "execution_count": 20,
   "metadata": {},
   "outputs": [
    {
     "data": {
      "text/html": [
       "<div>\n",
       "<style scoped>\n",
       "    .dataframe tbody tr th:only-of-type {\n",
       "        vertical-align: middle;\n",
       "    }\n",
       "\n",
       "    .dataframe tbody tr th {\n",
       "        vertical-align: top;\n",
       "    }\n",
       "\n",
       "    .dataframe thead th {\n",
       "        text-align: right;\n",
       "    }\n",
       "</style>\n",
       "<table border=\"1\" class=\"dataframe\">\n",
       "  <thead>\n",
       "    <tr style=\"text-align: right;\">\n",
       "      <th></th>\n",
       "      <th>event_type</th>\n",
       "      <th>category_code</th>\n",
       "      <th>brand</th>\n",
       "      <th>price</th>\n",
       "      <th>time</th>\n",
       "    </tr>\n",
       "  </thead>\n",
       "  <tbody>\n",
       "    <tr>\n",
       "      <th>2019-11-30</th>\n",
       "      <td>view</td>\n",
       "      <td>electronics.audio.headphone</td>\n",
       "      <td>apple</td>\n",
       "      <td>196.27</td>\n",
       "      <td>00:00:00</td>\n",
       "    </tr>\n",
       "    <tr>\n",
       "      <th>2019-11-30</th>\n",
       "      <td>view</td>\n",
       "      <td>electronics.smartphone</td>\n",
       "      <td>apple</td>\n",
       "      <td>952.15</td>\n",
       "      <td>00:00:00</td>\n",
       "    </tr>\n",
       "    <tr>\n",
       "      <th>2019-11-30</th>\n",
       "      <td>view</td>\n",
       "      <td>appliances.kitchen.washer</td>\n",
       "      <td>beko</td>\n",
       "      <td>215.89</td>\n",
       "      <td>00:00:01</td>\n",
       "    </tr>\n",
       "    <tr>\n",
       "      <th>2019-11-30</th>\n",
       "      <td>view</td>\n",
       "      <td>computers.components.cpu</td>\n",
       "      <td>intel</td>\n",
       "      <td>203.87</td>\n",
       "      <td>00:00:02</td>\n",
       "    </tr>\n",
       "    <tr>\n",
       "      <th>2019-11-30</th>\n",
       "      <td>view</td>\n",
       "      <td>auto.accessories.alarm</td>\n",
       "      <td>centurion</td>\n",
       "      <td>82.11</td>\n",
       "      <td>00:00:03</td>\n",
       "    </tr>\n",
       "    <tr>\n",
       "      <th>...</th>\n",
       "      <td>...</td>\n",
       "      <td>...</td>\n",
       "      <td>...</td>\n",
       "      <td>...</td>\n",
       "      <td>...</td>\n",
       "    </tr>\n",
       "    <tr>\n",
       "      <th>2019-11-30</th>\n",
       "      <td>view</td>\n",
       "      <td>construction.tools.drill</td>\n",
       "      <td>bosch</td>\n",
       "      <td>266.16</td>\n",
       "      <td>23:59:57</td>\n",
       "    </tr>\n",
       "    <tr>\n",
       "      <th>2019-11-30</th>\n",
       "      <td>view</td>\n",
       "      <td>apparel.shoes</td>\n",
       "      <td>baden</td>\n",
       "      <td>62.81</td>\n",
       "      <td>23:59:58</td>\n",
       "    </tr>\n",
       "    <tr>\n",
       "      <th>2019-11-30</th>\n",
       "      <td>view</td>\n",
       "      <td>electronics.smartphone</td>\n",
       "      <td>samsung</td>\n",
       "      <td>167.03</td>\n",
       "      <td>23:59:59</td>\n",
       "    </tr>\n",
       "    <tr>\n",
       "      <th>2019-11-30</th>\n",
       "      <td>view</td>\n",
       "      <td>appliances.kitchen.refrigerators</td>\n",
       "      <td>samsung</td>\n",
       "      <td>566.27</td>\n",
       "      <td>23:59:59</td>\n",
       "    </tr>\n",
       "    <tr>\n",
       "      <th>2019-11-30</th>\n",
       "      <td>view</td>\n",
       "      <td>electronics.smartphone</td>\n",
       "      <td>apple</td>\n",
       "      <td>1312.52</td>\n",
       "      <td>23:59:59</td>\n",
       "    </tr>\n",
       "  </tbody>\n",
       "</table>\n",
       "<p>1124634 rows × 5 columns</p>\n",
       "</div>"
      ],
      "text/plain": [
       "           event_type                     category_code      brand    price  \\\n",
       "2019-11-30       view       electronics.audio.headphone      apple   196.27   \n",
       "2019-11-30       view            electronics.smartphone      apple   952.15   \n",
       "2019-11-30       view         appliances.kitchen.washer       beko   215.89   \n",
       "2019-11-30       view          computers.components.cpu      intel   203.87   \n",
       "2019-11-30       view            auto.accessories.alarm  centurion    82.11   \n",
       "...               ...                               ...        ...      ...   \n",
       "2019-11-30       view          construction.tools.drill      bosch   266.16   \n",
       "2019-11-30       view                     apparel.shoes      baden    62.81   \n",
       "2019-11-30       view            electronics.smartphone    samsung   167.03   \n",
       "2019-11-30       view  appliances.kitchen.refrigerators    samsung   566.27   \n",
       "2019-11-30       view            electronics.smartphone      apple  1312.52   \n",
       "\n",
       "                time  \n",
       "2019-11-30  00:00:00  \n",
       "2019-11-30  00:00:00  \n",
       "2019-11-30  00:00:01  \n",
       "2019-11-30  00:00:02  \n",
       "2019-11-30  00:00:03  \n",
       "...              ...  \n",
       "2019-11-30  23:59:57  \n",
       "2019-11-30  23:59:58  \n",
       "2019-11-30  23:59:59  \n",
       "2019-11-30  23:59:59  \n",
       "2019-11-30  23:59:59  \n",
       "\n",
       "[1124634 rows x 5 columns]"
      ]
     },
     "execution_count": 20,
     "metadata": {},
     "output_type": "execute_result"
    }
   ],
   "source": [
    "df.loc['2019-11-30':, ]"
   ]
  },
  {
   "cell_type": "code",
   "execution_count": 31,
   "metadata": {},
   "outputs": [
    {
     "data": {
      "text/html": [
       "<div>\n",
       "<style scoped>\n",
       "    .dataframe tbody tr th:only-of-type {\n",
       "        vertical-align: middle;\n",
       "    }\n",
       "\n",
       "    .dataframe tbody tr th {\n",
       "        vertical-align: top;\n",
       "    }\n",
       "\n",
       "    .dataframe thead th {\n",
       "        text-align: right;\n",
       "    }\n",
       "</style>\n",
       "<table border=\"1\" class=\"dataframe\">\n",
       "  <thead>\n",
       "    <tr style=\"text-align: right;\">\n",
       "      <th></th>\n",
       "      <th>event_type</th>\n",
       "      <th>category_code</th>\n",
       "      <th>brand</th>\n",
       "      <th>price</th>\n",
       "      <th>time</th>\n",
       "    </tr>\n",
       "  </thead>\n",
       "  <tbody>\n",
       "    <tr>\n",
       "      <th>2019-10-01</th>\n",
       "      <td>view</td>\n",
       "      <td>appliances.environment.water_heater</td>\n",
       "      <td>aqua</td>\n",
       "      <td>33.20</td>\n",
       "      <td>00:00:00</td>\n",
       "    </tr>\n",
       "    <tr>\n",
       "      <th>2019-10-01</th>\n",
       "      <td>view</td>\n",
       "      <td>computers.notebook</td>\n",
       "      <td>lenovo</td>\n",
       "      <td>251.74</td>\n",
       "      <td>00:00:01</td>\n",
       "    </tr>\n",
       "    <tr>\n",
       "      <th>2019-10-01</th>\n",
       "      <td>view</td>\n",
       "      <td>electronics.smartphone</td>\n",
       "      <td>apple</td>\n",
       "      <td>1081.98</td>\n",
       "      <td>00:00:04</td>\n",
       "    </tr>\n",
       "    <tr>\n",
       "      <th>2019-10-01</th>\n",
       "      <td>view</td>\n",
       "      <td>computers.desktop</td>\n",
       "      <td>pulser</td>\n",
       "      <td>908.62</td>\n",
       "      <td>00:00:05</td>\n",
       "    </tr>\n",
       "    <tr>\n",
       "      <th>2019-10-01</th>\n",
       "      <td>view</td>\n",
       "      <td>apparel.shoes.keds</td>\n",
       "      <td>baden</td>\n",
       "      <td>102.71</td>\n",
       "      <td>00:00:10</td>\n",
       "    </tr>\n",
       "    <tr>\n",
       "      <th>...</th>\n",
       "      <td>...</td>\n",
       "      <td>...</td>\n",
       "      <td>...</td>\n",
       "      <td>...</td>\n",
       "      <td>...</td>\n",
       "    </tr>\n",
       "    <tr>\n",
       "      <th>2019-11-30</th>\n",
       "      <td>view</td>\n",
       "      <td>construction.tools.drill</td>\n",
       "      <td>bosch</td>\n",
       "      <td>266.16</td>\n",
       "      <td>23:59:57</td>\n",
       "    </tr>\n",
       "    <tr>\n",
       "      <th>2019-11-30</th>\n",
       "      <td>view</td>\n",
       "      <td>apparel.shoes</td>\n",
       "      <td>baden</td>\n",
       "      <td>62.81</td>\n",
       "      <td>23:59:58</td>\n",
       "    </tr>\n",
       "    <tr>\n",
       "      <th>2019-11-30</th>\n",
       "      <td>view</td>\n",
       "      <td>electronics.smartphone</td>\n",
       "      <td>samsung</td>\n",
       "      <td>167.03</td>\n",
       "      <td>23:59:59</td>\n",
       "    </tr>\n",
       "    <tr>\n",
       "      <th>2019-11-30</th>\n",
       "      <td>view</td>\n",
       "      <td>appliances.kitchen.refrigerators</td>\n",
       "      <td>samsung</td>\n",
       "      <td>566.27</td>\n",
       "      <td>23:59:59</td>\n",
       "    </tr>\n",
       "    <tr>\n",
       "      <th>2019-11-30</th>\n",
       "      <td>view</td>\n",
       "      <td>electronics.smartphone</td>\n",
       "      <td>apple</td>\n",
       "      <td>1312.52</td>\n",
       "      <td>23:59:59</td>\n",
       "    </tr>\n",
       "  </tbody>\n",
       "</table>\n",
       "<p>64027098 rows × 5 columns</p>\n",
       "</div>"
      ],
      "text/plain": [
       "           event_type                        category_code    brand    price  \\\n",
       "2019-10-01       view  appliances.environment.water_heater     aqua    33.20   \n",
       "2019-10-01       view                   computers.notebook   lenovo   251.74   \n",
       "2019-10-01       view               electronics.smartphone    apple  1081.98   \n",
       "2019-10-01       view                    computers.desktop   pulser   908.62   \n",
       "2019-10-01       view                   apparel.shoes.keds    baden   102.71   \n",
       "...               ...                                  ...      ...      ...   \n",
       "2019-11-30       view             construction.tools.drill    bosch   266.16   \n",
       "2019-11-30       view                        apparel.shoes    baden    62.81   \n",
       "2019-11-30       view               electronics.smartphone  samsung   167.03   \n",
       "2019-11-30       view     appliances.kitchen.refrigerators  samsung   566.27   \n",
       "2019-11-30       view               electronics.smartphone    apple  1312.52   \n",
       "\n",
       "                time  \n",
       "2019-10-01  00:00:00  \n",
       "2019-10-01  00:00:01  \n",
       "2019-10-01  00:00:04  \n",
       "2019-10-01  00:00:05  \n",
       "2019-10-01  00:00:10  \n",
       "...              ...  \n",
       "2019-11-30  23:59:57  \n",
       "2019-11-30  23:59:58  \n",
       "2019-11-30  23:59:59  \n",
       "2019-11-30  23:59:59  \n",
       "2019-11-30  23:59:59  \n",
       "\n",
       "[64027098 rows x 5 columns]"
      ]
     },
     "execution_count": 31,
     "metadata": {},
     "output_type": "execute_result"
    }
   ],
   "source": [
    "df.drop_duplicates()"
   ]
  },
  {
   "cell_type": "code",
   "execution_count": null,
   "metadata": {},
   "outputs": [],
   "source": []
  },
  {
   "cell_type": "code",
   "execution_count": 47,
   "metadata": {},
   "outputs": [
    {
     "data": {
      "text/plain": [
       "brand     price\n",
       "a-elita   8.49     203\n",
       "          17.76     28\n",
       "          73.28    290\n",
       "aardwolf  8.98      19\n",
       "          13.73     16\n",
       "                  ... \n",
       "zwerg     11.36      4\n",
       "          33.89      1\n",
       "          34.06      6\n",
       "          35.05      2\n",
       "          35.23      5\n",
       "Length: 192073, dtype: int64"
      ]
     },
     "execution_count": 47,
     "metadata": {},
     "output_type": "execute_result"
    }
   ],
   "source": [
    "df.sort_values(by='price',ascending=False).groupby(['brand', 'price']).size()"
   ]
  },
  {
   "cell_type": "code",
   "execution_count": null,
   "metadata": {},
   "outputs": [],
   "source": []
  },
  {
   "cell_type": "markdown",
   "metadata": {},
   "source": [
    "## This is sample of 15 best brand 11 code below:"
   ]
  },
  {
   "cell_type": "code",
   "execution_count": 53,
   "metadata": {},
   "outputs": [],
   "source": [
    "sample = df.iloc[:10000, :]"
   ]
  },
  {
   "cell_type": "code",
   "execution_count": 109,
   "metadata": {},
   "outputs": [],
   "source": [
    "sample = sample.sort_values(by='price', ascending=False)"
   ]
  },
  {
   "cell_type": "code",
   "execution_count": 58,
   "metadata": {},
   "outputs": [
    {
     "data": {
      "text/html": [
       "<div>\n",
       "<style scoped>\n",
       "    .dataframe tbody tr th:only-of-type {\n",
       "        vertical-align: middle;\n",
       "    }\n",
       "\n",
       "    .dataframe tbody tr th {\n",
       "        vertical-align: top;\n",
       "    }\n",
       "\n",
       "    .dataframe thead th {\n",
       "        text-align: right;\n",
       "    }\n",
       "</style>\n",
       "<table border=\"1\" class=\"dataframe\">\n",
       "  <thead>\n",
       "    <tr style=\"text-align: right;\">\n",
       "      <th></th>\n",
       "      <th>event_type</th>\n",
       "      <th>category_code</th>\n",
       "      <th>brand</th>\n",
       "      <th>price</th>\n",
       "      <th>time</th>\n",
       "    </tr>\n",
       "  </thead>\n",
       "  <tbody>\n",
       "    <tr>\n",
       "      <th>2019-10-01</th>\n",
       "      <td>view</td>\n",
       "      <td>electronics.clocks</td>\n",
       "      <td>rado</td>\n",
       "      <td>2574.07</td>\n",
       "      <td>02:26:24</td>\n",
       "    </tr>\n",
       "    <tr>\n",
       "      <th>2019-10-01</th>\n",
       "      <td>view</td>\n",
       "      <td>computers.notebook</td>\n",
       "      <td>msi</td>\n",
       "      <td>2574.04</td>\n",
       "      <td>02:37:24</td>\n",
       "    </tr>\n",
       "    <tr>\n",
       "      <th>2019-10-01</th>\n",
       "      <td>view</td>\n",
       "      <td>computers.notebook</td>\n",
       "      <td>msi</td>\n",
       "      <td>2574.04</td>\n",
       "      <td>02:45:48</td>\n",
       "    </tr>\n",
       "    <tr>\n",
       "      <th>2019-10-01</th>\n",
       "      <td>view</td>\n",
       "      <td>electronics.video.tv</td>\n",
       "      <td>lg</td>\n",
       "      <td>2574.04</td>\n",
       "      <td>02:42:21</td>\n",
       "    </tr>\n",
       "    <tr>\n",
       "      <th>2019-10-01</th>\n",
       "      <td>view</td>\n",
       "      <td>electronics.video.tv</td>\n",
       "      <td>sony</td>\n",
       "      <td>2574.04</td>\n",
       "      <td>02:42:42</td>\n",
       "    </tr>\n",
       "    <tr>\n",
       "      <th>...</th>\n",
       "      <td>...</td>\n",
       "      <td>...</td>\n",
       "      <td>...</td>\n",
       "      <td>...</td>\n",
       "      <td>...</td>\n",
       "    </tr>\n",
       "    <tr>\n",
       "      <th>2019-10-01</th>\n",
       "      <td>view</td>\n",
       "      <td>construction.tools.light</td>\n",
       "      <td>lezard</td>\n",
       "      <td>2.73</td>\n",
       "      <td>02:43:21</td>\n",
       "    </tr>\n",
       "    <tr>\n",
       "      <th>2019-10-01</th>\n",
       "      <td>view</td>\n",
       "      <td>kids.fmcg.diapers</td>\n",
       "      <td>huggies</td>\n",
       "      <td>2.63</td>\n",
       "      <td>02:20:40</td>\n",
       "    </tr>\n",
       "    <tr>\n",
       "      <th>2019-10-01</th>\n",
       "      <td>view</td>\n",
       "      <td>electronics.audio.headphone</td>\n",
       "      <td>ritmix</td>\n",
       "      <td>0.88</td>\n",
       "      <td>02:25:11</td>\n",
       "    </tr>\n",
       "    <tr>\n",
       "      <th>2019-10-01</th>\n",
       "      <td>view</td>\n",
       "      <td>electronics.audio.headphone</td>\n",
       "      <td>ritmix</td>\n",
       "      <td>0.88</td>\n",
       "      <td>02:25:40</td>\n",
       "    </tr>\n",
       "    <tr>\n",
       "      <th>2019-10-01</th>\n",
       "      <td>purchase</td>\n",
       "      <td>electronics.audio.headphone</td>\n",
       "      <td>ritmix</td>\n",
       "      <td>0.88</td>\n",
       "      <td>02:26:05</td>\n",
       "    </tr>\n",
       "  </tbody>\n",
       "</table>\n",
       "<p>10000 rows × 5 columns</p>\n",
       "</div>"
      ],
      "text/plain": [
       "           event_type                category_code    brand    price      time\n",
       "2019-10-01       view           electronics.clocks     rado  2574.07  02:26:24\n",
       "2019-10-01       view           computers.notebook      msi  2574.04  02:37:24\n",
       "2019-10-01       view           computers.notebook      msi  2574.04  02:45:48\n",
       "2019-10-01       view         electronics.video.tv       lg  2574.04  02:42:21\n",
       "2019-10-01       view         electronics.video.tv     sony  2574.04  02:42:42\n",
       "...               ...                          ...      ...      ...       ...\n",
       "2019-10-01       view     construction.tools.light   lezard     2.73  02:43:21\n",
       "2019-10-01       view            kids.fmcg.diapers  huggies     2.63  02:20:40\n",
       "2019-10-01       view  electronics.audio.headphone   ritmix     0.88  02:25:11\n",
       "2019-10-01       view  electronics.audio.headphone   ritmix     0.88  02:25:40\n",
       "2019-10-01   purchase  electronics.audio.headphone   ritmix     0.88  02:26:05\n",
       "\n",
       "[10000 rows x 5 columns]"
      ]
     },
     "execution_count": 58,
     "metadata": {},
     "output_type": "execute_result"
    }
   ],
   "source": [
    "sample"
   ]
  },
  {
   "cell_type": "code",
   "execution_count": 71,
   "metadata": {},
   "outputs": [],
   "source": [
    "best_brand = sample.groupby(['price', 'brand'])['category_code'].min()"
   ]
  },
  {
   "cell_type": "code",
   "execution_count": 110,
   "metadata": {},
   "outputs": [],
   "source": [
    "best_time = sample.groupby(['price', 'brand'], as_index=False)['time'].max()"
   ]
  },
  {
   "cell_type": "code",
   "execution_count": 111,
   "metadata": {},
   "outputs": [],
   "source": [
    "best_time.sort_values(by='price', ascending=False, inplace=True)"
   ]
  },
  {
   "cell_type": "code",
   "execution_count": 112,
   "metadata": {},
   "outputs": [
    {
     "data": {
      "text/html": [
       "<div>\n",
       "<style scoped>\n",
       "    .dataframe tbody tr th:only-of-type {\n",
       "        vertical-align: middle;\n",
       "    }\n",
       "\n",
       "    .dataframe tbody tr th {\n",
       "        vertical-align: top;\n",
       "    }\n",
       "\n",
       "    .dataframe thead th {\n",
       "        text-align: right;\n",
       "    }\n",
       "</style>\n",
       "<table border=\"1\" class=\"dataframe\">\n",
       "  <thead>\n",
       "    <tr style=\"text-align: right;\">\n",
       "      <th></th>\n",
       "      <th>price</th>\n",
       "      <th>brand</th>\n",
       "      <th>time</th>\n",
       "    </tr>\n",
       "  </thead>\n",
       "  <tbody>\n",
       "    <tr>\n",
       "      <th>2654</th>\n",
       "      <td>2574.07</td>\n",
       "      <td>rado</td>\n",
       "      <td>02:26:24</td>\n",
       "    </tr>\n",
       "    <tr>\n",
       "      <th>2653</th>\n",
       "      <td>2574.04</td>\n",
       "      <td>sony</td>\n",
       "      <td>02:42:42</td>\n",
       "    </tr>\n",
       "    <tr>\n",
       "      <th>2652</th>\n",
       "      <td>2574.04</td>\n",
       "      <td>msi</td>\n",
       "      <td>02:45:48</td>\n",
       "    </tr>\n",
       "    <tr>\n",
       "      <th>2651</th>\n",
       "      <td>2574.04</td>\n",
       "      <td>lg</td>\n",
       "      <td>02:42:21</td>\n",
       "    </tr>\n",
       "    <tr>\n",
       "      <th>2650</th>\n",
       "      <td>2573.81</td>\n",
       "      <td>sony</td>\n",
       "      <td>02:43:13</td>\n",
       "    </tr>\n",
       "    <tr>\n",
       "      <th>...</th>\n",
       "      <td>...</td>\n",
       "      <td>...</td>\n",
       "      <td>...</td>\n",
       "    </tr>\n",
       "    <tr>\n",
       "      <th>2559</th>\n",
       "      <td>1364.00</td>\n",
       "      <td>apple</td>\n",
       "      <td>02:43:05</td>\n",
       "    </tr>\n",
       "    <tr>\n",
       "      <th>2558</th>\n",
       "      <td>1352.42</td>\n",
       "      <td>apple</td>\n",
       "      <td>02:29:03</td>\n",
       "    </tr>\n",
       "    <tr>\n",
       "      <th>2557</th>\n",
       "      <td>1351.36</td>\n",
       "      <td>bosch</td>\n",
       "      <td>02:27:43</td>\n",
       "    </tr>\n",
       "    <tr>\n",
       "      <th>2556</th>\n",
       "      <td>1335.79</td>\n",
       "      <td>apple</td>\n",
       "      <td>02:21:21</td>\n",
       "    </tr>\n",
       "    <tr>\n",
       "      <th>2555</th>\n",
       "      <td>1328.22</td>\n",
       "      <td>longines</td>\n",
       "      <td>02:24:12</td>\n",
       "    </tr>\n",
       "  </tbody>\n",
       "</table>\n",
       "<p>100 rows × 3 columns</p>\n",
       "</div>"
      ],
      "text/plain": [
       "        price     brand      time\n",
       "2654  2574.07      rado  02:26:24\n",
       "2653  2574.04      sony  02:42:42\n",
       "2652  2574.04       msi  02:45:48\n",
       "2651  2574.04        lg  02:42:21\n",
       "2650  2573.81      sony  02:43:13\n",
       "...       ...       ...       ...\n",
       "2559  1364.00     apple  02:43:05\n",
       "2558  1352.42     apple  02:29:03\n",
       "2557  1351.36     bosch  02:27:43\n",
       "2556  1335.79     apple  02:21:21\n",
       "2555  1328.22  longines  02:24:12\n",
       "\n",
       "[100 rows x 3 columns]"
      ]
     },
     "execution_count": 112,
     "metadata": {},
     "output_type": "execute_result"
    }
   ],
   "source": [
    "best_time.iloc[:100, ]"
   ]
  },
  {
   "cell_type": "code",
   "execution_count": 113,
   "metadata": {},
   "outputs": [],
   "source": [
    "common_brand_best_time = best_time['brand'].value_counts()"
   ]
  },
  {
   "cell_type": "code",
   "execution_count": 120,
   "metadata": {},
   "outputs": [],
   "source": [
    "list_top_brand = ['samsung', 'xiaomi', 'apple', 'hp', 'casio', 'lenovo', 'huawei',\n",
    "       'bosch', 'lg', 'acer', 'asus', 'nokia', 'sony', 'redmond', 'dauscher']"
   ]
  },
  {
   "cell_type": "code",
   "execution_count": 130,
   "metadata": {},
   "outputs": [],
   "source": [
    "best_time['brand'] = [x if x in list_top_brand else np.nan for x in best_time['brand']]"
   ]
  },
  {
   "cell_type": "code",
   "execution_count": 132,
   "metadata": {},
   "outputs": [
    {
     "data": {
      "text/html": [
       "<div>\n",
       "<style scoped>\n",
       "    .dataframe tbody tr th:only-of-type {\n",
       "        vertical-align: middle;\n",
       "    }\n",
       "\n",
       "    .dataframe tbody tr th {\n",
       "        vertical-align: top;\n",
       "    }\n",
       "\n",
       "    .dataframe thead th {\n",
       "        text-align: right;\n",
       "    }\n",
       "</style>\n",
       "<table border=\"1\" class=\"dataframe\">\n",
       "  <thead>\n",
       "    <tr style=\"text-align: right;\">\n",
       "      <th></th>\n",
       "      <th>price</th>\n",
       "      <th>brand</th>\n",
       "      <th>time</th>\n",
       "    </tr>\n",
       "  </thead>\n",
       "  <tbody>\n",
       "    <tr>\n",
       "      <th>2653</th>\n",
       "      <td>2574.04</td>\n",
       "      <td>sony</td>\n",
       "      <td>02:42:42</td>\n",
       "    </tr>\n",
       "    <tr>\n",
       "      <th>2651</th>\n",
       "      <td>2574.04</td>\n",
       "      <td>lg</td>\n",
       "      <td>02:42:21</td>\n",
       "    </tr>\n",
       "    <tr>\n",
       "      <th>2650</th>\n",
       "      <td>2573.81</td>\n",
       "      <td>sony</td>\n",
       "      <td>02:43:13</td>\n",
       "    </tr>\n",
       "    <tr>\n",
       "      <th>2649</th>\n",
       "      <td>2573.55</td>\n",
       "      <td>sony</td>\n",
       "      <td>02:43:39</td>\n",
       "    </tr>\n",
       "    <tr>\n",
       "      <th>2647</th>\n",
       "      <td>2552.93</td>\n",
       "      <td>acer</td>\n",
       "      <td>02:45:21</td>\n",
       "    </tr>\n",
       "    <tr>\n",
       "      <th>...</th>\n",
       "      <td>...</td>\n",
       "      <td>...</td>\n",
       "      <td>...</td>\n",
       "    </tr>\n",
       "    <tr>\n",
       "      <th>27</th>\n",
       "      <td>7.70</td>\n",
       "      <td>hp</td>\n",
       "      <td>02:44:23</td>\n",
       "    </tr>\n",
       "    <tr>\n",
       "      <th>23</th>\n",
       "      <td>6.85</td>\n",
       "      <td>xiaomi</td>\n",
       "      <td>02:32:10</td>\n",
       "    </tr>\n",
       "    <tr>\n",
       "      <th>19</th>\n",
       "      <td>6.67</td>\n",
       "      <td>samsung</td>\n",
       "      <td>02:28:16</td>\n",
       "    </tr>\n",
       "    <tr>\n",
       "      <th>20</th>\n",
       "      <td>6.67</td>\n",
       "      <td>xiaomi</td>\n",
       "      <td>01:34:36</td>\n",
       "    </tr>\n",
       "    <tr>\n",
       "      <th>12</th>\n",
       "      <td>5.92</td>\n",
       "      <td>sony</td>\n",
       "      <td>02:36:03</td>\n",
       "    </tr>\n",
       "  </tbody>\n",
       "</table>\n",
       "<p>985 rows × 3 columns</p>\n",
       "</div>"
      ],
      "text/plain": [
       "        price    brand      time\n",
       "2653  2574.04     sony  02:42:42\n",
       "2651  2574.04       lg  02:42:21\n",
       "2650  2573.81     sony  02:43:13\n",
       "2649  2573.55     sony  02:43:39\n",
       "2647  2552.93     acer  02:45:21\n",
       "...       ...      ...       ...\n",
       "27       7.70       hp  02:44:23\n",
       "23       6.85   xiaomi  02:32:10\n",
       "19       6.67  samsung  02:28:16\n",
       "20       6.67   xiaomi  01:34:36\n",
       "12       5.92     sony  02:36:03\n",
       "\n",
       "[985 rows x 3 columns]"
      ]
     },
     "execution_count": 132,
     "metadata": {},
     "output_type": "execute_result"
    }
   ],
   "source": [
    "best_time.dropna()"
   ]
  },
  {
   "cell_type": "markdown",
   "metadata": {},
   "source": [
    "## 15 most common thing that people buy in which brand:"
   ]
  },
  {
   "cell_type": "code",
   "execution_count": 138,
   "metadata": {},
   "outputs": [],
   "source": [
    "common_things = sample['category_code'].value_counts()[:15]"
   ]
  },
  {
   "cell_type": "code",
   "execution_count": 139,
   "metadata": {},
   "outputs": [],
   "source": [
    "sample['category_code'] = [x if x in common_things else np.nan for x in sample['category_code']]"
   ]
  },
  {
   "cell_type": "code",
   "execution_count": 142,
   "metadata": {},
   "outputs": [],
   "source": [
    "common_brand = sample['brand'].value_counts()[:15]"
   ]
  },
  {
   "cell_type": "code",
   "execution_count": 143,
   "metadata": {},
   "outputs": [],
   "source": [
    "sample['brand'] = [x if x in common_brand else np.nan for x in sample['brand']]"
   ]
  },
  {
   "cell_type": "code",
   "execution_count": 146,
   "metadata": {},
   "outputs": [],
   "source": [
    "sample.dropna(inplace=True)"
   ]
  },
  {
   "cell_type": "code",
   "execution_count": 148,
   "metadata": {},
   "outputs": [],
   "source": [
    "new_sample = sample"
   ]
  },
  {
   "cell_type": "code",
   "execution_count": 152,
   "metadata": {},
   "outputs": [],
   "source": [
    "new_sample.set_index('time', inplace=True)"
   ]
  },
  {
   "cell_type": "code",
   "execution_count": 155,
   "metadata": {},
   "outputs": [],
   "source": [
    "new_sample.sort_index(inplace=True)"
   ]
  },
  {
   "cell_type": "code",
   "execution_count": 156,
   "metadata": {},
   "outputs": [
    {
     "data": {
      "text/html": [
       "<div>\n",
       "<style scoped>\n",
       "    .dataframe tbody tr th:only-of-type {\n",
       "        vertical-align: middle;\n",
       "    }\n",
       "\n",
       "    .dataframe tbody tr th {\n",
       "        vertical-align: top;\n",
       "    }\n",
       "\n",
       "    .dataframe thead th {\n",
       "        text-align: right;\n",
       "    }\n",
       "</style>\n",
       "<table border=\"1\" class=\"dataframe\">\n",
       "  <thead>\n",
       "    <tr style=\"text-align: right;\">\n",
       "      <th></th>\n",
       "      <th>event_type</th>\n",
       "      <th>category_code</th>\n",
       "      <th>brand</th>\n",
       "      <th>price</th>\n",
       "    </tr>\n",
       "    <tr>\n",
       "      <th>time</th>\n",
       "      <th></th>\n",
       "      <th></th>\n",
       "      <th></th>\n",
       "      <th></th>\n",
       "    </tr>\n",
       "  </thead>\n",
       "  <tbody>\n",
       "    <tr>\n",
       "      <th>00:00:01</th>\n",
       "      <td>view</td>\n",
       "      <td>computers.notebook</td>\n",
       "      <td>lenovo</td>\n",
       "      <td>251.74</td>\n",
       "    </tr>\n",
       "    <tr>\n",
       "      <th>00:00:04</th>\n",
       "      <td>view</td>\n",
       "      <td>electronics.smartphone</td>\n",
       "      <td>apple</td>\n",
       "      <td>1081.98</td>\n",
       "    </tr>\n",
       "    <tr>\n",
       "      <th>00:00:11</th>\n",
       "      <td>view</td>\n",
       "      <td>electronics.smartphone</td>\n",
       "      <td>samsung</td>\n",
       "      <td>900.64</td>\n",
       "    </tr>\n",
       "    <tr>\n",
       "      <th>00:00:11</th>\n",
       "      <td>view</td>\n",
       "      <td>electronics.smartphone</td>\n",
       "      <td>huawei</td>\n",
       "      <td>566.01</td>\n",
       "    </tr>\n",
       "    <tr>\n",
       "      <th>00:00:19</th>\n",
       "      <td>view</td>\n",
       "      <td>computers.notebook</td>\n",
       "      <td>hp</td>\n",
       "      <td>580.89</td>\n",
       "    </tr>\n",
       "    <tr>\n",
       "      <th>...</th>\n",
       "      <td>...</td>\n",
       "      <td>...</td>\n",
       "      <td>...</td>\n",
       "      <td>...</td>\n",
       "    </tr>\n",
       "    <tr>\n",
       "      <th>02:48:05</th>\n",
       "      <td>view</td>\n",
       "      <td>appliances.environment.air_heater</td>\n",
       "      <td>elenberg</td>\n",
       "      <td>33.44</td>\n",
       "    </tr>\n",
       "    <tr>\n",
       "      <th>02:48:05</th>\n",
       "      <td>view</td>\n",
       "      <td>electronics.smartphone</td>\n",
       "      <td>huawei</td>\n",
       "      <td>278.55</td>\n",
       "    </tr>\n",
       "    <tr>\n",
       "      <th>02:48:06</th>\n",
       "      <td>view</td>\n",
       "      <td>electronics.smartphone</td>\n",
       "      <td>samsung</td>\n",
       "      <td>253.36</td>\n",
       "    </tr>\n",
       "    <tr>\n",
       "      <th>02:48:07</th>\n",
       "      <td>view</td>\n",
       "      <td>appliances.kitchen.washer</td>\n",
       "      <td>lg</td>\n",
       "      <td>339.75</td>\n",
       "    </tr>\n",
       "    <tr>\n",
       "      <th>02:48:07</th>\n",
       "      <td>view</td>\n",
       "      <td>computers.notebook</td>\n",
       "      <td>xiaomi</td>\n",
       "      <td>1127.18</td>\n",
       "    </tr>\n",
       "  </tbody>\n",
       "</table>\n",
       "<p>5770 rows × 4 columns</p>\n",
       "</div>"
      ],
      "text/plain": [
       "         event_type                      category_code     brand    price\n",
       "time                                                                     \n",
       "00:00:01       view                 computers.notebook    lenovo   251.74\n",
       "00:00:04       view             electronics.smartphone     apple  1081.98\n",
       "00:00:11       view             electronics.smartphone   samsung   900.64\n",
       "00:00:11       view             electronics.smartphone    huawei   566.01\n",
       "00:00:19       view                 computers.notebook        hp   580.89\n",
       "...             ...                                ...       ...      ...\n",
       "02:48:05       view  appliances.environment.air_heater  elenberg    33.44\n",
       "02:48:05       view             electronics.smartphone    huawei   278.55\n",
       "02:48:06       view             electronics.smartphone   samsung   253.36\n",
       "02:48:07       view          appliances.kitchen.washer        lg   339.75\n",
       "02:48:07       view                 computers.notebook    xiaomi  1127.18\n",
       "\n",
       "[5770 rows x 4 columns]"
      ]
     },
     "execution_count": 156,
     "metadata": {},
     "output_type": "execute_result"
    }
   ],
   "source": [
    "new_sample"
   ]
  },
  {
   "cell_type": "code",
   "execution_count": 161,
   "metadata": {},
   "outputs": [
    {
     "name": "stderr",
     "output_type": "stream",
     "text": [
      "<ipython-input-161-b6a9d5529eb3>:1: SettingWithCopyWarning: \n",
      "A value is trying to be set on a copy of a slice from a DataFrame.\n",
      "Try using .loc[row_indexer,col_indexer] = value instead\n",
      "\n",
      "See the caveats in the documentation: https://pandas.pydata.org/pandas-docs/stable/user_guide/indexing.html#returning-a-view-versus-a-copy\n",
      "  new_sample['01:25:00':'02:25:00']['event_type'] = 'purches'\n"
     ]
    }
   ],
   "source": [
    "new_sample['01:25:00':'02:25:00']['event_type'] = 'purches'"
   ]
  },
  {
   "cell_type": "code",
   "execution_count": 163,
   "metadata": {},
   "outputs": [
    {
     "data": {
      "text/html": [
       "<div>\n",
       "<style scoped>\n",
       "    .dataframe tbody tr th:only-of-type {\n",
       "        vertical-align: middle;\n",
       "    }\n",
       "\n",
       "    .dataframe tbody tr th {\n",
       "        vertical-align: top;\n",
       "    }\n",
       "\n",
       "    .dataframe thead th {\n",
       "        text-align: right;\n",
       "    }\n",
       "</style>\n",
       "<table border=\"1\" class=\"dataframe\">\n",
       "  <thead>\n",
       "    <tr style=\"text-align: right;\">\n",
       "      <th></th>\n",
       "      <th>event_type</th>\n",
       "      <th>category_code</th>\n",
       "      <th>brand</th>\n",
       "      <th>price</th>\n",
       "    </tr>\n",
       "    <tr>\n",
       "      <th>time</th>\n",
       "      <th></th>\n",
       "      <th></th>\n",
       "      <th></th>\n",
       "      <th></th>\n",
       "    </tr>\n",
       "  </thead>\n",
       "  <tbody>\n",
       "    <tr>\n",
       "      <th>01:26:09</th>\n",
       "      <td>purches</td>\n",
       "      <td>electronics.smartphone</td>\n",
       "      <td>xiaomi</td>\n",
       "      <td>234.67</td>\n",
       "    </tr>\n",
       "    <tr>\n",
       "      <th>01:26:27</th>\n",
       "      <td>purches</td>\n",
       "      <td>electronics.smartphone</td>\n",
       "      <td>apple</td>\n",
       "      <td>1052.79</td>\n",
       "    </tr>\n",
       "    <tr>\n",
       "      <th>01:26:45</th>\n",
       "      <td>purches</td>\n",
       "      <td>electronics.smartphone</td>\n",
       "      <td>apple</td>\n",
       "      <td>1415.48</td>\n",
       "    </tr>\n",
       "    <tr>\n",
       "      <th>01:28:15</th>\n",
       "      <td>purches</td>\n",
       "      <td>electronics.smartphone</td>\n",
       "      <td>samsung</td>\n",
       "      <td>154.42</td>\n",
       "    </tr>\n",
       "    <tr>\n",
       "      <th>01:33:10</th>\n",
       "      <td>purches</td>\n",
       "      <td>electronics.smartphone</td>\n",
       "      <td>samsung</td>\n",
       "      <td>154.42</td>\n",
       "    </tr>\n",
       "    <tr>\n",
       "      <th>...</th>\n",
       "      <td>...</td>\n",
       "      <td>...</td>\n",
       "      <td>...</td>\n",
       "      <td>...</td>\n",
       "    </tr>\n",
       "    <tr>\n",
       "      <th>02:24:59</th>\n",
       "      <td>purches</td>\n",
       "      <td>electronics.smartphone</td>\n",
       "      <td>apple</td>\n",
       "      <td>587.52</td>\n",
       "    </tr>\n",
       "    <tr>\n",
       "      <th>02:24:59</th>\n",
       "      <td>purches</td>\n",
       "      <td>electronics.smartphone</td>\n",
       "      <td>samsung</td>\n",
       "      <td>130.76</td>\n",
       "    </tr>\n",
       "    <tr>\n",
       "      <th>02:25:00</th>\n",
       "      <td>purches</td>\n",
       "      <td>electronics.smartphone</td>\n",
       "      <td>huawei</td>\n",
       "      <td>95.11</td>\n",
       "    </tr>\n",
       "    <tr>\n",
       "      <th>02:25:00</th>\n",
       "      <td>purches</td>\n",
       "      <td>electronics.smartphone</td>\n",
       "      <td>xiaomi</td>\n",
       "      <td>395.10</td>\n",
       "    </tr>\n",
       "    <tr>\n",
       "      <th>02:25:00</th>\n",
       "      <td>purches</td>\n",
       "      <td>electronics.smartphone</td>\n",
       "      <td>apple</td>\n",
       "      <td>981.54</td>\n",
       "    </tr>\n",
       "  </tbody>\n",
       "</table>\n",
       "<p>1004 rows × 4 columns</p>\n",
       "</div>"
      ],
      "text/plain": [
       "         event_type           category_code    brand    price\n",
       "time                                                         \n",
       "01:26:09    purches  electronics.smartphone   xiaomi   234.67\n",
       "01:26:27    purches  electronics.smartphone    apple  1052.79\n",
       "01:26:45    purches  electronics.smartphone    apple  1415.48\n",
       "01:28:15    purches  electronics.smartphone  samsung   154.42\n",
       "01:33:10    purches  electronics.smartphone  samsung   154.42\n",
       "...             ...                     ...      ...      ...\n",
       "02:24:59    purches  electronics.smartphone    apple   587.52\n",
       "02:24:59    purches  electronics.smartphone  samsung   130.76\n",
       "02:25:00    purches  electronics.smartphone   huawei    95.11\n",
       "02:25:00    purches  electronics.smartphone   xiaomi   395.10\n",
       "02:25:00    purches  electronics.smartphone    apple   981.54\n",
       "\n",
       "[1004 rows x 4 columns]"
      ]
     },
     "execution_count": 163,
     "metadata": {},
     "output_type": "execute_result"
    }
   ],
   "source": [
    "new_sample['01:25:00':'02:25:00']"
   ]
  },
  {
   "cell_type": "code",
   "execution_count": 244,
   "metadata": {},
   "outputs": [],
   "source": [
    "update_price = new_sample['01:25:00':'02:25:00']['price'].agg(lambda x: round(x*25/100))\n",
    "new_sample.replace(to_replace=new_sample['01:25:00':'02:25:00']['price'].values, value=update_price, inplace=True)"
   ]
  },
  {
   "cell_type": "code",
   "execution_count": 245,
   "metadata": {},
   "outputs": [
    {
     "data": {
      "text/html": [
       "<div>\n",
       "<style scoped>\n",
       "    .dataframe tbody tr th:only-of-type {\n",
       "        vertical-align: middle;\n",
       "    }\n",
       "\n",
       "    .dataframe tbody tr th {\n",
       "        vertical-align: top;\n",
       "    }\n",
       "\n",
       "    .dataframe thead th {\n",
       "        text-align: right;\n",
       "    }\n",
       "</style>\n",
       "<table border=\"1\" class=\"dataframe\">\n",
       "  <thead>\n",
       "    <tr style=\"text-align: right;\">\n",
       "      <th></th>\n",
       "      <th>event_type</th>\n",
       "      <th>category_code</th>\n",
       "      <th>brand</th>\n",
       "      <th>price</th>\n",
       "    </tr>\n",
       "    <tr>\n",
       "      <th>time</th>\n",
       "      <th></th>\n",
       "      <th></th>\n",
       "      <th></th>\n",
       "      <th></th>\n",
       "    </tr>\n",
       "  </thead>\n",
       "  <tbody>\n",
       "    <tr>\n",
       "      <th>01:26:09</th>\n",
       "      <td>purches</td>\n",
       "      <td>electronics.smartphone</td>\n",
       "      <td>xiaomi</td>\n",
       "      <td>59.0</td>\n",
       "    </tr>\n",
       "    <tr>\n",
       "      <th>01:26:27</th>\n",
       "      <td>purches</td>\n",
       "      <td>electronics.smartphone</td>\n",
       "      <td>apple</td>\n",
       "      <td>263.0</td>\n",
       "    </tr>\n",
       "    <tr>\n",
       "      <th>01:26:45</th>\n",
       "      <td>purches</td>\n",
       "      <td>electronics.smartphone</td>\n",
       "      <td>apple</td>\n",
       "      <td>354.0</td>\n",
       "    </tr>\n",
       "    <tr>\n",
       "      <th>01:28:15</th>\n",
       "      <td>purches</td>\n",
       "      <td>electronics.smartphone</td>\n",
       "      <td>samsung</td>\n",
       "      <td>39.0</td>\n",
       "    </tr>\n",
       "    <tr>\n",
       "      <th>01:33:10</th>\n",
       "      <td>purches</td>\n",
       "      <td>electronics.smartphone</td>\n",
       "      <td>samsung</td>\n",
       "      <td>39.0</td>\n",
       "    </tr>\n",
       "    <tr>\n",
       "      <th>...</th>\n",
       "      <td>...</td>\n",
       "      <td>...</td>\n",
       "      <td>...</td>\n",
       "      <td>...</td>\n",
       "    </tr>\n",
       "    <tr>\n",
       "      <th>02:24:59</th>\n",
       "      <td>purches</td>\n",
       "      <td>electronics.smartphone</td>\n",
       "      <td>apple</td>\n",
       "      <td>147.0</td>\n",
       "    </tr>\n",
       "    <tr>\n",
       "      <th>02:24:59</th>\n",
       "      <td>purches</td>\n",
       "      <td>electronics.smartphone</td>\n",
       "      <td>samsung</td>\n",
       "      <td>33.0</td>\n",
       "    </tr>\n",
       "    <tr>\n",
       "      <th>02:25:00</th>\n",
       "      <td>purches</td>\n",
       "      <td>electronics.smartphone</td>\n",
       "      <td>huawei</td>\n",
       "      <td>24.0</td>\n",
       "    </tr>\n",
       "    <tr>\n",
       "      <th>02:25:00</th>\n",
       "      <td>purches</td>\n",
       "      <td>electronics.smartphone</td>\n",
       "      <td>xiaomi</td>\n",
       "      <td>99.0</td>\n",
       "    </tr>\n",
       "    <tr>\n",
       "      <th>02:25:00</th>\n",
       "      <td>purches</td>\n",
       "      <td>electronics.smartphone</td>\n",
       "      <td>apple</td>\n",
       "      <td>245.0</td>\n",
       "    </tr>\n",
       "  </tbody>\n",
       "</table>\n",
       "<p>1004 rows × 4 columns</p>\n",
       "</div>"
      ],
      "text/plain": [
       "         event_type           category_code    brand  price\n",
       "time                                                       \n",
       "01:26:09    purches  electronics.smartphone   xiaomi   59.0\n",
       "01:26:27    purches  electronics.smartphone    apple  263.0\n",
       "01:26:45    purches  electronics.smartphone    apple  354.0\n",
       "01:28:15    purches  electronics.smartphone  samsung   39.0\n",
       "01:33:10    purches  electronics.smartphone  samsung   39.0\n",
       "...             ...                     ...      ...    ...\n",
       "02:24:59    purches  electronics.smartphone    apple  147.0\n",
       "02:24:59    purches  electronics.smartphone  samsung   33.0\n",
       "02:25:00    purches  electronics.smartphone   huawei   24.0\n",
       "02:25:00    purches  electronics.smartphone   xiaomi   99.0\n",
       "02:25:00    purches  electronics.smartphone    apple  245.0\n",
       "\n",
       "[1004 rows x 4 columns]"
      ]
     },
     "execution_count": 245,
     "metadata": {},
     "output_type": "execute_result"
    }
   ],
   "source": [
    "new_sample['01:25:00':'02:25:00']"
   ]
  },
  {
   "cell_type": "code",
   "execution_count": null,
   "metadata": {},
   "outputs": [],
   "source": []
  },
  {
   "cell_type": "code",
   "execution_count": null,
   "metadata": {},
   "outputs": [],
   "source": [
    "    "
   ]
  },
  {
   "cell_type": "code",
   "execution_count": null,
   "metadata": {},
   "outputs": [],
   "source": []
  },
  {
   "cell_type": "code",
   "execution_count": null,
   "metadata": {},
   "outputs": [],
   "source": []
  },
  {
   "cell_type": "code",
   "execution_count": null,
   "metadata": {},
   "outputs": [],
   "source": []
  }
 ],
 "metadata": {
  "kernelspec": {
   "display_name": "Python 3",
   "language": "python",
   "name": "python3"
  },
  "language_info": {
   "codemirror_mode": {
    "name": "ipython",
    "version": 3
   },
   "file_extension": ".py",
   "mimetype": "text/x-python",
   "name": "python",
   "nbconvert_exporter": "python",
   "pygments_lexer": "ipython3",
   "version": "3.8.5"
  }
 },
 "nbformat": 4,
 "nbformat_minor": 4
}
