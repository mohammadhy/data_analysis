{
 "cells": [
  {
   "cell_type": "code",
   "execution_count": 42,
   "metadata": {},
   "outputs": [],
   "source": [
    "from tkinter import Tk,Button,Label,Entry,LEFT,StringVar,W,N,E,S,Frame,Radiobutton,Checkbutton,IntVar,ACTIVE\n",
    "\n",
    "from tkinter import *\n",
    "window=Tk()\n",
    "\n",
    "agevar=IntVar()\n",
    "heightvar=IntVar()\n",
    "weightvar=IntVar()\n",
    "\n",
    "def sumbmitForm():\n",
    "    print(\"Age : \"+ str(agevar.get()))\n",
    "    print(\"height : \"+ str(heightvar.get()))\n",
    "    print(\"weight : \"+ str(weightvar.get()))\n",
    "    print('BMI: '+ str(weightvar.get() / heightvar.get() ** 2 ))\n",
    "    print(\"Gender : \"+ str(value_radio.get()))\n",
    "    if value_radio.get() == 1:\n",
    "        print('female')\n",
    "    elif value_radio.get() == 0:\n",
    "        print('male')\n",
    "    print(\"Submit\")\n",
    "\n",
    "    \n",
    "label_age=Label(window,text=\"Age : \").pack(padx=15,pady=5,anchor=N)\n",
    "username=Entry(window,textvariable=agevar).pack(padx=15,pady=5,anchor=N)\n",
    "\n",
    "\n",
    "label_height=Label(window,text=\"Height : \").pack(padx=15,pady=5,anchor=N)\n",
    "height=Entry(window,textvariable=heightvar).pack(padx=15,pady=5,anchor=N)\n",
    "\n",
    "label_weight=Label(window,text=\"weight : \").pack(padx=15,pady=5,anchor=N)\n",
    "weight=Entry(window,textvariable=weightvar).pack(padx=15,pady=5,anchor=N)\n",
    "\n",
    "\n",
    "\n",
    "value_radio=IntVar()\n",
    "radio_male=Radiobutton(window,text=\"Male\",value=0,variable=value_radio,width=10).pack(padx=15,pady=5,anchor=N)\n",
    "radio_female=Radiobutton(window,text=\"Female\",value=1,variable=value_radio,width=10).pack(padx=15,pady=5,anchor=N)\n",
    "\n",
    "#hiding radio button circle use indicatoron=0\n",
    "value_radio.set(0)\n",
    "\n",
    "#val_1=IntVar()\n",
    "#val_2=IntVar()\n",
    "#val_3=IntVar()\n",
    "\n",
    "#check_button_1=Checkbutton(window,text=\"PHP\",variable=val_1).pack()\n",
    "#check_button_2=Checkbutton(window,text=\"JAVA\",variable=val_2).pack()\n",
    "#check_button_3=Checkbutton(window,text=\"Python\",variable=val_3).pack()\n",
    "#val_1.set(1)\n",
    "\n",
    "submit=Button(window,text=\"Submit\",command=sumbmitForm).pack(padx=15,pady=5,anchor=N)\n",
    "\n",
    "window.mainloop()"
   ]
  },
  {
   "cell_type": "code",
   "execution_count": null,
   "metadata": {},
   "outputs": [],
   "source": []
  }
 ],
 "metadata": {
  "kernelspec": {
   "display_name": "Python 3",
   "language": "python",
   "name": "python3"
  },
  "language_info": {
   "codemirror_mode": {
    "name": "ipython",
    "version": 3
   },
   "file_extension": ".py",
   "mimetype": "text/x-python",
   "name": "python",
   "nbconvert_exporter": "python",
   "pygments_lexer": "ipython3",
   "version": "3.8.5"
  }
 },
 "nbformat": 4,
 "nbformat_minor": 4
}
